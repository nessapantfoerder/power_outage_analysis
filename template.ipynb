{
 "cells": [
  {
   "attachments": {},
   "cell_type": "markdown",
   "metadata": {},
   "source": [
    "# Your Title Here\n",
    "\n",
    "**Name(s)**: Nessa Pantfoerder\n",
    "\n",
    "**Website Link**: https://nessapantfoerder.github.io/power_outage_analysis/"
   ]
  },
  {
   "attachments": {},
   "cell_type": "markdown",
   "metadata": {},
   "source": [
    "## Code"
   ]
  },
  {
   "cell_type": "code",
   "execution_count": 3,
   "metadata": {
    "ExecuteTime": {
     "end_time": "2019-10-31T23:36:28.652554Z",
     "start_time": "2019-10-31T23:36:27.180520Z"
    }
   },
   "outputs": [],
   "source": [
    "import pandas as pd\n",
    "import numpy as np\n",
    "import os\n",
    "\n",
    "import plotly.express as px\n",
    "pd.options.plotting.backend = 'plotly'"
   ]
  },
  {
   "attachments": {},
   "cell_type": "markdown",
   "metadata": {},
   "source": [
    "### Cleaning and EDA"
   ]
  },
  {
   "attachments": {},
   "cell_type": "markdown",
   "metadata": {},
   "source": [
    "**GENERAL INFORMATION**\n",
    "\n",
    "*Time of the outage event*\n",
    "- YEAR\t\n",
    "    - Indicates the year when the outage event occurred\n",
    "- MONTH\n",
    "    - Indicates the month when the outage event occurred\n",
    "    \n",
    "*Geographic areas*\n",
    "- U.S._STATE\n",
    "    - Represents all the states in the continental U.S.\n",
    "- POSTAL.CODE\n",
    "    - Represents the postal code of the U.S. states\n",
    "- NERC.REGION\n",
    "    - The North American Electric Reliability Corporation (NERC) regions involved in the outage event\n",
    "\n",
    "**REGIONAL CLIMATE INFORMATION**\n",
    "\n",
    "*U.S. Climate regions*\n",
    "- CLIMATE.REGION\n",
    "    - U.S. Climate regions as specified by National Centers for Environmental Information (nine climatically consistent regions in continental U.S.A.)\n",
    "\n",
    "*El Niño/La Niña*\n",
    "- ANOMALY.LEVEL\n",
    "    - This represents the oceanic El Niño/La Niña (ONI) index referring to the cold and warm episodes by season. It is estimated as a 3-month running mean of ERSST.v4 SST anomalies in the Niño 3.4 region (5°N to 5°S, 120–170°W) [6]\n",
    "- CLIMATE.CATEGORY\n",
    "    - This represents the climate episodes corresponding to the years. The categories—“Warm”, “Cold” or “Normal” episodes of the climate are based on a threshold of ± 0.5 °C for the Oceanic Niño Index (ONI)\n",
    "\n",
    "**OUTAGE EVENTS INFORMATION**\n",
    "\n",
    "*Event start and end information*\n",
    "- OUTAGE.START.DATE\n",
    "    - This variable indicates the day of the year when the outage event started (as reported by the corresponding Utility in the region)\n",
    "- OUTAGE.START.TIME\n",
    "    - This variable indicates the time of the day when the outage event started (as reported by the corresponding Utility in the region)\n",
    "- OUTAGE.RESTORATION.DATE\n",
    "    - This variable indicates the day of the year when power was restored to all the customers (as reported by the corresponding Utility in the region)\n",
    "- OUTAGE.RESTORATION.TIME\n",
    "    - This variable indicates the time of the day when power was restored to all the customers (as reported by the corresponding Utility in the region)\n",
    "\n",
    "*Cause of the event*\n",
    "- CAUSE.CATEGORY\n",
    "    - Categories of all the events causing the major power outages\n",
    "- CAUSE.CATEGORY.DETAIL\n",
    "    - Detailed description of the event categories causing the major power outages\n",
    "- HURRICANE.NAMES\n",
    "    - If the outage is due to a hurricane, then the hurricane name is given by this variable\n",
    "*Extent of outages*\n",
    "- OUTAGE.DURATION\t\n",
    "    - Duration of outage events (in minutes)\n",
    "- DEMAND.LOSS.MW\n",
    "    - Amount of peak demand lost during an outage event (in Megawatt) [but in many cases, total demand is reported]\n",
    "- CUSTOMERS.AFFECTED\n",
    "    - Number of customers affected by the power outage event\n",
    "\n",
    "**REGIONAL ELECTRICITY CONSUMPTION INFORMATION**\n",
    "\n",
    "*Electricity price*\t\n",
    "- RES.PRICE\n",
    "    - Monthly electricity price in the residential sector (cents/kilowatt-hour)\n",
    "- COM.PRICE\n",
    "    - Monthly electricity price in the commercial sector (cents/kilowatt-hour)\n",
    "- IND.PRICE\t\n",
    "    - Monthly electricity price in the industrial sector (cents/kilowatt-hour)\n",
    "- TOTAL.PRICE\n",
    "    - Average monthly electricity price in the U.S. state (cents/kilowatt-hour)\n",
    "\n",
    "*Electricity consumption*\n",
    "- RES.SALES\t\n",
    "    - Electricity consumption in the residential sector (megawatt-hour)\n",
    "- COM.SALES\n",
    "    - Electricity consumption in the commercial sector (megawatt-hour)\n",
    "- IND.SALES\t\n",
    "    - Electricity consumption in the industrial sector (megawatt-hour)\n",
    "- TOTAL.SALES\n",
    "    - Total electricity consumption in the U.S. state (megawatt-hour)\n",
    "- RES.PERCEN\n",
    "    - Percentage of residential electricity consumption compared to the total electricity consumption in the state (in %)\n",
    "- COM.PERCEN\n",
    "    - Percentage of commercial electricity consumption compared to the total electricity consumption in the state (in %)\n",
    "- IND.PERCEN\n",
    "    - Percentage of industrial electricity consumption compared to the total electricity consumption in the state (in %)\n",
    "\n",
    "*Customers served*\n",
    "- RES.CUSTOMERS\n",
    "    - Annual number of customers served in the residential electricity sector of the U.S. state\n",
    "- COM.CUSTOMERS\n",
    "    - Annual number of customers served in the commercial electricity sector of the U.S. state\n",
    "- IND.CUSTOMERS\n",
    "    - Annual number of customers served in the industrial electricity sector of the U.S. state\n",
    "- TOTAL.CUSTOMERS\n",
    "    - Annual number of total customers served in the U.S. state\n",
    "- RES.CUST.PCT\n",
    "    - Percent of residential customers served in the U.S. state (in %)\n",
    "- COM.CUST.PCT\n",
    "    - Percent of commercial customers served in the U.S. state (in %)\n",
    "- IND.CUST.PCT\n",
    "    - Percent of industrial customers served in the U.S. state (in %)\n",
    "\n",
    "**REGIONAL ECONOMIC CHARACTERISTICS**\n",
    "\n",
    "*Economic outputs*\n",
    "- PC.REALGSP.STATE\n",
    "    - Per capita real gross state product (GSP) in the U.S. state (measured in 2009 chained U.S. dollars)\n",
    "- PC.REALGSP.USA\n",
    "    - Per capita real GSP in the U.S. (measured in 2009 chained U.S. dollars)\n",
    "- PC.REALGSP.REL\n",
    "    - Relative per capita real GSP as compared to the total per capita real GDP of the U.S. (expressed as fraction of per capita State real GDP & per capita US real GDP)\n",
    "- PC.REALGSP.CHANGE\n",
    "    - Percentage change of per capita real GSP from the previous year (in %)\n",
    "- UTIL.REALGSP\n",
    "    - Real GSP contributed by Utility industry (measured in 2009 chained U.S. dollars)\n",
    "- TOTAL.REALGSP\n",
    "    - Real GSP contributed by all industries (total) (measured in 2009 chained U.S. dollars)\n",
    "- UTIL.CONTRI\n",
    "    - Utility industry׳s contribution to the total GSP in the State (expressed as percent of the total real GDP that is contributed by the Utility industry) (in %)\n",
    "- PI.UTIL.OFUSA\n",
    "    - State utility sector׳s income (earnings) as a percentage of the total earnings of the U.S. utility sector׳s income (in %)\n",
    "\n",
    "**REGIONAL LAND-USE CHARACTERICS**\n",
    "\n",
    "*Population*\n",
    "- POPULATION\n",
    "    - Population in the U.S. state in a year\n",
    "- POPPCT_URBAN\n",
    "    - Percentage of the total population of the U.S. state represented by the urban population (in %)\n",
    "- POPPCT_UC\n",
    "    - Percentage of the total population of the U.S. state represented by the population of the urban clusters (in %)\n",
    "- POPDEN_URBAN\n",
    "    - Population density of the urban areas (persons per square mile)\n",
    "- POPDEN_UC\n",
    "    - Population density of the urban clusters (persons per square mile)\n",
    "- POPDEN_RURAL\n",
    "    - Population density of the rural areas (persons per square mile)\n",
    "    \n",
    "*Land area*\n",
    "- AREAPCT_URBAN\n",
    "    - Percentage of the land area of the U.S. state represented by the land area of the urban areas (in %)\n",
    "- AREAPCT_UC\n",
    "    - Percentage of the land area of the U.S. state represented by the land area of the urban clusters (in %)\n",
    "- PCT_LAND\n",
    "    - Percentage of land area in the U.S. state as compared to the overall land area in the continental U.S. (in %)\n",
    "- PCT_WATER_TOT\n",
    "    - Percentage of water area in the U.S. state as compared to the overall water area in the continental U.S. (in %)\n",
    "- PCT_WATER_INLAND\n",
    "    - Percentage of inland water area in the U.S. state as compared to the overall inland water area in the continental U.S. (in %)"
   ]
  },
  {
   "cell_type": "code",
   "execution_count": 4,
   "metadata": {
    "ExecuteTime": {
     "end_time": "2019-10-31T23:36:28.657068Z",
     "start_time": "2019-10-31T23:36:28.654650Z"
    }
   },
   "outputs": [
    {
     "name": "stdout",
     "output_type": "stream",
     "text": [
      "1534\n"
     ]
    },
    {
     "data": {
      "text/html": [
       "<div>\n",
       "<style scoped>\n",
       "    .dataframe tbody tr th:only-of-type {\n",
       "        vertical-align: middle;\n",
       "    }\n",
       "\n",
       "    .dataframe tbody tr th {\n",
       "        vertical-align: top;\n",
       "    }\n",
       "\n",
       "    .dataframe thead th {\n",
       "        text-align: right;\n",
       "    }\n",
       "</style>\n",
       "<table border=\"1\" class=\"dataframe\">\n",
       "  <thead>\n",
       "    <tr style=\"text-align: right;\">\n",
       "      <th></th>\n",
       "      <th>OBS</th>\n",
       "      <th>YEAR</th>\n",
       "      <th>MONTH</th>\n",
       "      <th>U.S._STATE</th>\n",
       "      <th>POSTAL.CODE</th>\n",
       "      <th>NERC.REGION</th>\n",
       "      <th>CLIMATE.REGION</th>\n",
       "      <th>ANOMALY.LEVEL</th>\n",
       "      <th>CLIMATE.CATEGORY</th>\n",
       "      <th>OUTAGE.START.DATE</th>\n",
       "      <th>...</th>\n",
       "      <th>POPPCT_URBAN</th>\n",
       "      <th>POPPCT_UC</th>\n",
       "      <th>POPDEN_URBAN</th>\n",
       "      <th>POPDEN_UC</th>\n",
       "      <th>POPDEN_RURAL</th>\n",
       "      <th>AREAPCT_URBAN</th>\n",
       "      <th>AREAPCT_UC</th>\n",
       "      <th>PCT_LAND</th>\n",
       "      <th>PCT_WATER_TOT</th>\n",
       "      <th>PCT_WATER_INLAND</th>\n",
       "    </tr>\n",
       "  </thead>\n",
       "  <tbody>\n",
       "    <tr>\n",
       "      <th>0</th>\n",
       "      <td>1</td>\n",
       "      <td>2011</td>\n",
       "      <td>7.0</td>\n",
       "      <td>Minnesota</td>\n",
       "      <td>MN</td>\n",
       "      <td>MRO</td>\n",
       "      <td>East North Central</td>\n",
       "      <td>-0.3</td>\n",
       "      <td>normal</td>\n",
       "      <td>Friday, July 01, 2011</td>\n",
       "      <td>...</td>\n",
       "      <td>73.27</td>\n",
       "      <td>15.28</td>\n",
       "      <td>2279.0</td>\n",
       "      <td>1700.5</td>\n",
       "      <td>18.2</td>\n",
       "      <td>2.14</td>\n",
       "      <td>0.6</td>\n",
       "      <td>91.592666</td>\n",
       "      <td>8.407334</td>\n",
       "      <td>5.478743</td>\n",
       "    </tr>\n",
       "    <tr>\n",
       "      <th>1</th>\n",
       "      <td>2</td>\n",
       "      <td>2014</td>\n",
       "      <td>5.0</td>\n",
       "      <td>Minnesota</td>\n",
       "      <td>MN</td>\n",
       "      <td>MRO</td>\n",
       "      <td>East North Central</td>\n",
       "      <td>-0.1</td>\n",
       "      <td>normal</td>\n",
       "      <td>Sunday, May 11, 2014</td>\n",
       "      <td>...</td>\n",
       "      <td>73.27</td>\n",
       "      <td>15.28</td>\n",
       "      <td>2279.0</td>\n",
       "      <td>1700.5</td>\n",
       "      <td>18.2</td>\n",
       "      <td>2.14</td>\n",
       "      <td>0.6</td>\n",
       "      <td>91.592666</td>\n",
       "      <td>8.407334</td>\n",
       "      <td>5.478743</td>\n",
       "    </tr>\n",
       "    <tr>\n",
       "      <th>2</th>\n",
       "      <td>3</td>\n",
       "      <td>2010</td>\n",
       "      <td>10.0</td>\n",
       "      <td>Minnesota</td>\n",
       "      <td>MN</td>\n",
       "      <td>MRO</td>\n",
       "      <td>East North Central</td>\n",
       "      <td>-1.5</td>\n",
       "      <td>cold</td>\n",
       "      <td>Tuesday, October 26, 2010</td>\n",
       "      <td>...</td>\n",
       "      <td>73.27</td>\n",
       "      <td>15.28</td>\n",
       "      <td>2279.0</td>\n",
       "      <td>1700.5</td>\n",
       "      <td>18.2</td>\n",
       "      <td>2.14</td>\n",
       "      <td>0.6</td>\n",
       "      <td>91.592666</td>\n",
       "      <td>8.407334</td>\n",
       "      <td>5.478743</td>\n",
       "    </tr>\n",
       "    <tr>\n",
       "      <th>3</th>\n",
       "      <td>4</td>\n",
       "      <td>2012</td>\n",
       "      <td>6.0</td>\n",
       "      <td>Minnesota</td>\n",
       "      <td>MN</td>\n",
       "      <td>MRO</td>\n",
       "      <td>East North Central</td>\n",
       "      <td>-0.1</td>\n",
       "      <td>normal</td>\n",
       "      <td>Tuesday, June 19, 2012</td>\n",
       "      <td>...</td>\n",
       "      <td>73.27</td>\n",
       "      <td>15.28</td>\n",
       "      <td>2279.0</td>\n",
       "      <td>1700.5</td>\n",
       "      <td>18.2</td>\n",
       "      <td>2.14</td>\n",
       "      <td>0.6</td>\n",
       "      <td>91.592666</td>\n",
       "      <td>8.407334</td>\n",
       "      <td>5.478743</td>\n",
       "    </tr>\n",
       "    <tr>\n",
       "      <th>4</th>\n",
       "      <td>5</td>\n",
       "      <td>2015</td>\n",
       "      <td>7.0</td>\n",
       "      <td>Minnesota</td>\n",
       "      <td>MN</td>\n",
       "      <td>MRO</td>\n",
       "      <td>East North Central</td>\n",
       "      <td>1.2</td>\n",
       "      <td>warm</td>\n",
       "      <td>Saturday, July 18, 2015</td>\n",
       "      <td>...</td>\n",
       "      <td>73.27</td>\n",
       "      <td>15.28</td>\n",
       "      <td>2279.0</td>\n",
       "      <td>1700.5</td>\n",
       "      <td>18.2</td>\n",
       "      <td>2.14</td>\n",
       "      <td>0.6</td>\n",
       "      <td>91.592666</td>\n",
       "      <td>8.407334</td>\n",
       "      <td>5.478743</td>\n",
       "    </tr>\n",
       "  </tbody>\n",
       "</table>\n",
       "<p>5 rows × 56 columns</p>\n",
       "</div>"
      ],
      "text/plain": [
       "   OBS  YEAR  MONTH U.S._STATE POSTAL.CODE NERC.REGION      CLIMATE.REGION  \\\n",
       "0    1  2011    7.0  Minnesota          MN         MRO  East North Central   \n",
       "1    2  2014    5.0  Minnesota          MN         MRO  East North Central   \n",
       "2    3  2010   10.0  Minnesota          MN         MRO  East North Central   \n",
       "3    4  2012    6.0  Minnesota          MN         MRO  East North Central   \n",
       "4    5  2015    7.0  Minnesota          MN         MRO  East North Central   \n",
       "\n",
       "   ANOMALY.LEVEL CLIMATE.CATEGORY          OUTAGE.START.DATE  ...  \\\n",
       "0           -0.3           normal      Friday, July 01, 2011  ...   \n",
       "1           -0.1           normal       Sunday, May 11, 2014  ...   \n",
       "2           -1.5             cold  Tuesday, October 26, 2010  ...   \n",
       "3           -0.1           normal     Tuesday, June 19, 2012  ...   \n",
       "4            1.2             warm    Saturday, July 18, 2015  ...   \n",
       "\n",
       "  POPPCT_URBAN POPPCT_UC POPDEN_URBAN POPDEN_UC POPDEN_RURAL AREAPCT_URBAN  \\\n",
       "0        73.27     15.28       2279.0    1700.5         18.2          2.14   \n",
       "1        73.27     15.28       2279.0    1700.5         18.2          2.14   \n",
       "2        73.27     15.28       2279.0    1700.5         18.2          2.14   \n",
       "3        73.27     15.28       2279.0    1700.5         18.2          2.14   \n",
       "4        73.27     15.28       2279.0    1700.5         18.2          2.14   \n",
       "\n",
       "   AREAPCT_UC   PCT_LAND  PCT_WATER_TOT  PCT_WATER_INLAND  \n",
       "0         0.6  91.592666       8.407334          5.478743  \n",
       "1         0.6  91.592666       8.407334          5.478743  \n",
       "2         0.6  91.592666       8.407334          5.478743  \n",
       "3         0.6  91.592666       8.407334          5.478743  \n",
       "4         0.6  91.592666       8.407334          5.478743  \n",
       "\n",
       "[5 rows x 56 columns]"
      ]
     },
     "execution_count": 4,
     "metadata": {},
     "output_type": "execute_result"
    }
   ],
   "source": [
    "outage = pd.read_csv('outage.csv')\n",
    "print(outage.shape[0])\n",
    "outage.head()"
   ]
  },
  {
   "attachments": {},
   "cell_type": "markdown",
   "metadata": {},
   "source": [
    "**Introduction:**\n",
    "\n",
    "This dataset outlines major power outages in the continental U.S. from january 2000 to July 2016 providing information on population, region, land area, consumption, outage duration and causes, as well as regional climate information.\n",
    "\n",
    "*Question:*\n",
    "\n",
    "- Does the cause of major outages affect the duration of the outage?\n",
    "\n",
    "*Rows:*\n",
    "\n",
    "There are 1534 rows in this dataset.\n",
    "\n",
    "*Relevant Columns and Descriptions:*\n",
    "\n",
    "- YEAR\t\n",
    "    - Indicates the year when the outage event occurred\n",
    "- MONTH\n",
    "    - Indicates the month when the outage event occurred\n",
    "- U.S._STATE\n",
    "    - Represents all the states in the continental U.S.\n",
    "- POSTAL.CODE\n",
    "    - Represents the postal code of the U.S. states\n",
    "- NERC.REGION\n",
    "    - The North American Electric Reliability Corporation (NERC) regions involved in the outage event\n",
    "- CLIMATE.REGION\n",
    "    - U.S. Climate regions as specified by National Centers for Environmental Information (nine climatically consistent regions in continental U.S.A.)\n",
    "- ANOMALY.LEVEL\n",
    "    - This represents the oceanic El Niño/La Niña (ONI) index referring to the cold and warm episodes by season. It is estimated as a 3-month running mean of ERSST.v4 SST anomalies in the Niño 3.4 region (5°N to 5°S, 120–170°W) [6]\n",
    "- CLIMATE.CATEGORY\n",
    "    - This represents the climate episodes corresponding to the years. The categories—“Warm”, “Cold” or “Normal” episodes of the climate are based on a threshold of ± 0.5 °C for the Oceanic Niño Index (ONI)\n",
    "- OUTAGE.START.DATE\n",
    "    - This variable indicates the day of the year when the outage event started (as reported by the corresponding Utility in the region)\n",
    "- OUTAGE.START.TIME\n",
    "    - This variable indicates the time of the day when the outage event started (as reported by the corresponding Utility in the region)\n",
    "- OUTAGE.RESTORATION.DATE\n",
    "    - This variable indicates the day of the year when power was restored to all the customers (as reported by the corresponding Utility in the region)\n",
    "- OUTAGE.RESTORATION.TIME\n",
    "    - This variable indicates the time of the day when power was restored to all the customers (as reported by the corresponding Utility in the region)\n",
    "- OUTAGE.DURATION\t\n",
    "    - Duration of outage events (in minutes)\n",
    "- DEMAND.LOSS.MW\n",
    "    - Amount of peak demand lost during an outage event (in Megawatt) [but in many cases, total demand is reported]\n",
    "- CUSTOMERS.AFFECTED\n",
    "    - Number of customers affected by the power outage event\n",
    "- POPULATION\n",
    "    - Population in the U.S. state in a year\n",
    "- POPPCT_URBAN\n",
    "    - Percentage of the total population of the U.S. state represented by the urban population (in %)\n",
    "- POPPCT_UC\n",
    "    - Percentage of the total population of the U.S. state represented by the population of the urban clusters (in %)\n",
    "- POPDEN_URBAN\n",
    "    - Population density of the urban areas (persons per square mile)\n",
    "- POPDEN_UC\n",
    "    - Population density of the urban clusters (persons per square mile)\n",
    "- POPDEN_RURAL\n",
    "    - Population density of the rural areas (persons per square mile)\n",
    "- AREAPCT_URBAN\n",
    "    - Percentage of the land area of the U.S. state represented by the land area of the urban areas (in %)\n",
    "- AREAPCT_UC\n",
    "    - Percentage of the land area of the U.S. state represented by the land area of the urban clusters (in %)\n",
    "- PCT_LAND\n",
    "    - Percentage of land area in the U.S. state as compared to the overall land area in the continental U.S. (in %)\n",
    "- PCT_WATER_TOT\n",
    "    - Percentage of water area in the U.S. state as compared to the overall water area in the continental U.S. (in %)\n",
    "- PCT_WATER_INLAND\n",
    "    - Percentage of inland water area in the U.S. state as compared to the overall inland water area in the continental U.S. (in %)\n"
   ]
  },
  {
   "cell_type": "code",
   "execution_count": 5,
   "metadata": {},
   "outputs": [
    {
     "data": {
      "text/html": [
       "<div>\n",
       "<style scoped>\n",
       "    .dataframe tbody tr th:only-of-type {\n",
       "        vertical-align: middle;\n",
       "    }\n",
       "\n",
       "    .dataframe tbody tr th {\n",
       "        vertical-align: top;\n",
       "    }\n",
       "\n",
       "    .dataframe thead th {\n",
       "        text-align: right;\n",
       "    }\n",
       "</style>\n",
       "<table border=\"1\" class=\"dataframe\">\n",
       "  <thead>\n",
       "    <tr style=\"text-align: right;\">\n",
       "      <th></th>\n",
       "      <th>OBS</th>\n",
       "      <th>YEAR</th>\n",
       "      <th>MONTH</th>\n",
       "      <th>U.S._STATE</th>\n",
       "      <th>POSTAL.CODE</th>\n",
       "      <th>NERC.REGION</th>\n",
       "      <th>CLIMATE.REGION</th>\n",
       "      <th>ANOMALY.LEVEL</th>\n",
       "      <th>CLIMATE.CATEGORY</th>\n",
       "      <th>CAUSE.CATEGORY</th>\n",
       "      <th>...</th>\n",
       "      <th>POPDEN_URBAN</th>\n",
       "      <th>POPDEN_UC</th>\n",
       "      <th>POPDEN_RURAL</th>\n",
       "      <th>AREAPCT_URBAN</th>\n",
       "      <th>AREAPCT_UC</th>\n",
       "      <th>PCT_LAND</th>\n",
       "      <th>PCT_WATER_TOT</th>\n",
       "      <th>PCT_WATER_INLAND</th>\n",
       "      <th>OUTAGE.START</th>\n",
       "      <th>OUTAGE.RESTORATION</th>\n",
       "    </tr>\n",
       "  </thead>\n",
       "  <tbody>\n",
       "    <tr>\n",
       "      <th>0</th>\n",
       "      <td>1</td>\n",
       "      <td>2011</td>\n",
       "      <td>7.0</td>\n",
       "      <td>Minnesota</td>\n",
       "      <td>MN</td>\n",
       "      <td>MRO</td>\n",
       "      <td>East North Central</td>\n",
       "      <td>-0.3</td>\n",
       "      <td>normal</td>\n",
       "      <td>severe weather</td>\n",
       "      <td>...</td>\n",
       "      <td>2279.0</td>\n",
       "      <td>1700.5</td>\n",
       "      <td>18.2</td>\n",
       "      <td>2.14</td>\n",
       "      <td>0.6</td>\n",
       "      <td>91.592666</td>\n",
       "      <td>8.407334</td>\n",
       "      <td>5.478743</td>\n",
       "      <td>2011-07-01 17:00:00</td>\n",
       "      <td>2011-07-03 20:00:00</td>\n",
       "    </tr>\n",
       "    <tr>\n",
       "      <th>1</th>\n",
       "      <td>2</td>\n",
       "      <td>2014</td>\n",
       "      <td>5.0</td>\n",
       "      <td>Minnesota</td>\n",
       "      <td>MN</td>\n",
       "      <td>MRO</td>\n",
       "      <td>East North Central</td>\n",
       "      <td>-0.1</td>\n",
       "      <td>normal</td>\n",
       "      <td>intentional attack</td>\n",
       "      <td>...</td>\n",
       "      <td>2279.0</td>\n",
       "      <td>1700.5</td>\n",
       "      <td>18.2</td>\n",
       "      <td>2.14</td>\n",
       "      <td>0.6</td>\n",
       "      <td>91.592666</td>\n",
       "      <td>8.407334</td>\n",
       "      <td>5.478743</td>\n",
       "      <td>2014-05-11 18:38:00</td>\n",
       "      <td>2014-05-11 18:39:00</td>\n",
       "    </tr>\n",
       "    <tr>\n",
       "      <th>2</th>\n",
       "      <td>3</td>\n",
       "      <td>2010</td>\n",
       "      <td>10.0</td>\n",
       "      <td>Minnesota</td>\n",
       "      <td>MN</td>\n",
       "      <td>MRO</td>\n",
       "      <td>East North Central</td>\n",
       "      <td>-1.5</td>\n",
       "      <td>cold</td>\n",
       "      <td>severe weather</td>\n",
       "      <td>...</td>\n",
       "      <td>2279.0</td>\n",
       "      <td>1700.5</td>\n",
       "      <td>18.2</td>\n",
       "      <td>2.14</td>\n",
       "      <td>0.6</td>\n",
       "      <td>91.592666</td>\n",
       "      <td>8.407334</td>\n",
       "      <td>5.478743</td>\n",
       "      <td>2010-10-26 20:00:00</td>\n",
       "      <td>2010-10-28 22:00:00</td>\n",
       "    </tr>\n",
       "    <tr>\n",
       "      <th>3</th>\n",
       "      <td>4</td>\n",
       "      <td>2012</td>\n",
       "      <td>6.0</td>\n",
       "      <td>Minnesota</td>\n",
       "      <td>MN</td>\n",
       "      <td>MRO</td>\n",
       "      <td>East North Central</td>\n",
       "      <td>-0.1</td>\n",
       "      <td>normal</td>\n",
       "      <td>severe weather</td>\n",
       "      <td>...</td>\n",
       "      <td>2279.0</td>\n",
       "      <td>1700.5</td>\n",
       "      <td>18.2</td>\n",
       "      <td>2.14</td>\n",
       "      <td>0.6</td>\n",
       "      <td>91.592666</td>\n",
       "      <td>8.407334</td>\n",
       "      <td>5.478743</td>\n",
       "      <td>2012-06-19 04:30:00</td>\n",
       "      <td>2012-06-20 23:00:00</td>\n",
       "    </tr>\n",
       "    <tr>\n",
       "      <th>4</th>\n",
       "      <td>5</td>\n",
       "      <td>2015</td>\n",
       "      <td>7.0</td>\n",
       "      <td>Minnesota</td>\n",
       "      <td>MN</td>\n",
       "      <td>MRO</td>\n",
       "      <td>East North Central</td>\n",
       "      <td>1.2</td>\n",
       "      <td>warm</td>\n",
       "      <td>severe weather</td>\n",
       "      <td>...</td>\n",
       "      <td>2279.0</td>\n",
       "      <td>1700.5</td>\n",
       "      <td>18.2</td>\n",
       "      <td>2.14</td>\n",
       "      <td>0.6</td>\n",
       "      <td>91.592666</td>\n",
       "      <td>8.407334</td>\n",
       "      <td>5.478743</td>\n",
       "      <td>2015-07-18 02:00:00</td>\n",
       "      <td>2015-07-19 07:00:00</td>\n",
       "    </tr>\n",
       "  </tbody>\n",
       "</table>\n",
       "<p>5 rows × 54 columns</p>\n",
       "</div>"
      ],
      "text/plain": [
       "   OBS  YEAR  MONTH U.S._STATE POSTAL.CODE NERC.REGION      CLIMATE.REGION  \\\n",
       "0    1  2011    7.0  Minnesota          MN         MRO  East North Central   \n",
       "1    2  2014    5.0  Minnesota          MN         MRO  East North Central   \n",
       "2    3  2010   10.0  Minnesota          MN         MRO  East North Central   \n",
       "3    4  2012    6.0  Minnesota          MN         MRO  East North Central   \n",
       "4    5  2015    7.0  Minnesota          MN         MRO  East North Central   \n",
       "\n",
       "   ANOMALY.LEVEL CLIMATE.CATEGORY      CAUSE.CATEGORY  ... POPDEN_URBAN  \\\n",
       "0           -0.3           normal      severe weather  ...       2279.0   \n",
       "1           -0.1           normal  intentional attack  ...       2279.0   \n",
       "2           -1.5             cold      severe weather  ...       2279.0   \n",
       "3           -0.1           normal      severe weather  ...       2279.0   \n",
       "4            1.2             warm      severe weather  ...       2279.0   \n",
       "\n",
       "  POPDEN_UC  POPDEN_RURAL  AREAPCT_URBAN  AREAPCT_UC   PCT_LAND  \\\n",
       "0    1700.5          18.2           2.14         0.6  91.592666   \n",
       "1    1700.5          18.2           2.14         0.6  91.592666   \n",
       "2    1700.5          18.2           2.14         0.6  91.592666   \n",
       "3    1700.5          18.2           2.14         0.6  91.592666   \n",
       "4    1700.5          18.2           2.14         0.6  91.592666   \n",
       "\n",
       "   PCT_WATER_TOT  PCT_WATER_INLAND        OUTAGE.START  OUTAGE.RESTORATION  \n",
       "0       8.407334          5.478743 2011-07-01 17:00:00 2011-07-03 20:00:00  \n",
       "1       8.407334          5.478743 2014-05-11 18:38:00 2014-05-11 18:39:00  \n",
       "2       8.407334          5.478743 2010-10-26 20:00:00 2010-10-28 22:00:00  \n",
       "3       8.407334          5.478743 2012-06-19 04:30:00 2012-06-20 23:00:00  \n",
       "4       8.407334          5.478743 2015-07-18 02:00:00 2015-07-19 07:00:00  \n",
       "\n",
       "[5 rows x 54 columns]"
      ]
     },
     "execution_count": 5,
     "metadata": {},
     "output_type": "execute_result"
    }
   ],
   "source": [
    "outage_clean = outage.replace('NA', np.NaN)\n",
    "\n",
    "#Combine date and time into one column\n",
    "outage_clean['OUTAGE.START'] = pd.to_datetime(outage_clean['OUTAGE.START.DATE'].apply(str) + ' '+ outage_clean['OUTAGE.START.TIME'])\n",
    "outage_clean['OUTAGE.RESTORATION'] = pd.to_datetime(outage_clean['OUTAGE.RESTORATION.DATE'].apply(str) +' '+ outage_clean['OUTAGE.RESTORATION.TIME'])\n",
    "\n",
    "#drop date and time\n",
    "outage_clean = outage_clean.drop(columns=['OUTAGE.START.DATE', 'OUTAGE.START.TIME', 'OUTAGE.RESTORATION.DATE', 'OUTAGE.RESTORATION.TIME'])\n",
    "\n",
    "outage_clean.head()"
   ]
  },
  {
   "attachments": {},
   "cell_type": "markdown",
   "metadata": {},
   "source": [
    "**Data Cleaning:**\n",
    "\n",
    "I combined columns 'OUTAGE.START.DATE' and 'OUTAGE.START.TIME' into one column 'OUTAGE.START' of type pd.Timestamp\n",
    "\n",
    "I did the same combining 'OUTAGE.RESTORATION.DATE' and 'OUTAGE.RESTORATION.TIME' into 'OUTAGE.RESTORATION'\n",
    "\n",
    "I then replaced all missing 'NA' values with np.NaN"
   ]
  },
  {
   "cell_type": "code",
   "execution_count": 6,
   "metadata": {},
   "outputs": [
    {
     "data": {
      "application/vnd.plotly.v1+json": {
       "config": {
        "plotlyServerURL": "https://plot.ly"
       },
       "data": [
        {
         "alignmentgroup": "True",
         "bingroup": "x",
         "histnorm": "probability",
         "hovertemplate": "OUTAGE.DURATION=%{x}<br>probability=%{y}<extra></extra>",
         "legendgroup": "",
         "marker": {
          "color": "#636efa",
          "pattern": {
           "shape": ""
          }
         },
         "name": "",
         "offsetgroup": "",
         "orientation": "v",
         "showlegend": false,
         "type": "histogram",
         "x": [
          3060,
          1,
          3000,
          2550,
          1740,
          1860,
          2970,
          3960,
          155,
          3621,
          7740,
          8880,
          0,
          1322,
          60,
          19,
          0,
          21,
          196,
          840,
          935,
          1260,
          null,
          619,
          150,
          762,
          0,
          660,
          1,
          2700,
          1,
          4921,
          95,
          251,
          4125,
          2550,
          null,
          1200,
          310,
          2818,
          5054,
          136,
          528,
          150,
          46,
          1,
          1920,
          null,
          32,
          null,
          135,
          3000,
          32,
          108653,
          8468,
          960,
          44,
          1605,
          4410,
          388,
          480,
          1219,
          90,
          18660,
          538,
          104,
          60,
          1272,
          60,
          1,
          1000,
          17339,
          9576,
          3090,
          6510,
          5820,
          1078,
          1513,
          4830,
          3051,
          4200,
          2085,
          5730,
          4290,
          2670,
          3540,
          3637,
          1710,
          4320,
          3915,
          3120,
          4590,
          7530,
          5034,
          8160,
          3300,
          4320,
          1770,
          9857,
          4080,
          5670,
          5700,
          1995,
          300,
          5115,
          2670,
          7650,
          4338,
          761,
          5760,
          2820,
          4110,
          3360,
          3015,
          232,
          11525,
          6420,
          46080,
          5700,
          5610,
          78377,
          270,
          4050,
          5865,
          1,
          2325,
          4170,
          4485,
          2694,
          168,
          5580,
          705,
          11850,
          3494,
          4560,
          2760,
          5760,
          8922,
          6030,
          7800,
          4242,
          3120,
          5700,
          900,
          1046,
          7620,
          3630,
          1260,
          5840,
          5790,
          2820,
          600,
          4259,
          2939,
          7080,
          3600,
          1588,
          4260,
          2700,
          200,
          8430,
          85,
          9150,
          1019,
          420,
          1140,
          7440,
          4458,
          373,
          1203,
          868,
          1455,
          206,
          1195,
          1559,
          900,
          2690,
          5115,
          5,
          189,
          2142,
          360,
          null,
          225,
          2340,
          480,
          9486,
          480,
          3000,
          300,
          3020,
          766,
          null,
          1335,
          197,
          245,
          3255,
          12180,
          1077,
          600,
          186,
          690,
          27698,
          402,
          2420,
          327,
          1,
          1860,
          220,
          455,
          318,
          757,
          847,
          410,
          215,
          5,
          570,
          12124,
          2655,
          20160,
          1440,
          600,
          39,
          181,
          1185,
          1500,
          0,
          271,
          1860,
          1200,
          2159,
          6300,
          null,
          1620,
          224,
          70,
          1697,
          95,
          2220,
          null,
          7809,
          1200,
          121,
          63,
          5595,
          1,
          557,
          240,
          3360,
          685,
          2280,
          210,
          167,
          1920,
          3569,
          3300,
          10,
          1560,
          840,
          240,
          990,
          6000,
          17865,
          1282,
          1080,
          7540,
          1320,
          1110,
          27698,
          130,
          3040,
          394,
          10140,
          20160,
          21540,
          45,
          1,
          1200,
          550,
          900,
          885,
          940,
          null,
          3050,
          1830,
          6000,
          1500,
          150,
          1955,
          2220,
          330,
          74,
          420,
          1440,
          255,
          1060,
          12240,
          5250,
          4320,
          120,
          233,
          null,
          65,
          2120,
          96,
          3,
          4320,
          65,
          2146,
          96,
          4032,
          2580,
          6,
          569,
          0,
          15950,
          200,
          1980,
          4045,
          2730,
          3314,
          7319,
          1,
          47,
          1440,
          276,
          0,
          0,
          3646,
          1130,
          2880,
          513,
          35,
          23773,
          10,
          3872,
          23187,
          12240,
          390,
          null,
          3264,
          1230,
          803,
          77,
          30,
          300,
          1,
          5,
          1450,
          2680,
          null,
          7609,
          150,
          3000,
          420,
          479,
          1680,
          2700,
          149,
          1110,
          2790,
          659,
          1320,
          1830,
          3000,
          null,
          870,
          810,
          1336,
          1695,
          360,
          360,
          120,
          3000,
          1290,
          1530,
          2370,
          1200,
          1200,
          90,
          120,
          1200,
          2761,
          720,
          1120,
          2100,
          960,
          450,
          1440,
          1020,
          0,
          2010,
          120,
          9230,
          1240,
          465,
          0,
          2460,
          1183,
          8880,
          394,
          219,
          487,
          19,
          28,
          0,
          1,
          5340,
          8940,
          467,
          0,
          1920,
          0,
          25,
          420,
          2040,
          0,
          1,
          1423,
          60,
          1620,
          3300,
          385,
          663,
          123,
          1276,
          1919,
          null,
          440,
          6690,
          null,
          0,
          null,
          717,
          1204,
          292,
          313,
          1,
          5,
          6276,
          0,
          74,
          0,
          null,
          248,
          1,
          2700,
          25,
          126,
          1,
          255,
          1207,
          0,
          0,
          245,
          476,
          null,
          null,
          null,
          1,
          2639,
          502,
          548,
          369,
          6480,
          15,
          5,
          null,
          1,
          0,
          432,
          21,
          1697,
          0,
          2615,
          9630,
          3507,
          2820,
          314,
          5855,
          0,
          0,
          1,
          22769,
          70,
          4285,
          355,
          0,
          2520,
          0,
          180,
          554,
          50,
          70,
          180,
          3842,
          35,
          1,
          189,
          49320,
          4200,
          353,
          1,
          87,
          66,
          null,
          1,
          227,
          null,
          1440,
          1,
          2700,
          null,
          49320,
          2,
          215,
          451,
          418,
          100,
          2021,
          1671,
          3938,
          4470,
          2279,
          4440,
          2760,
          0,
          1,
          0,
          1,
          1840,
          428,
          331,
          1980,
          1,
          1,
          1950,
          3037,
          1,
          1,
          1196,
          5628,
          1440,
          7700,
          2,
          12890,
          4232,
          95,
          2610,
          4320,
          17,
          113,
          0,
          2507,
          0,
          1,
          4920,
          1,
          4080,
          0,
          960,
          185,
          1320,
          1673,
          2855,
          3060,
          565,
          1,
          1,
          7298,
          5790,
          3040,
          11700,
          7987,
          304,
          4517,
          0,
          3058,
          13381,
          2865,
          152,
          380,
          9450,
          7803,
          5579,
          8979,
          4800,
          3060,
          4792,
          3894,
          1757,
          2880,
          2985,
          164,
          3232,
          2319,
          4338,
          2880,
          1714,
          90,
          59,
          4139,
          10530,
          6938,
          930,
          278,
          299,
          5320,
          2880,
          1,
          4260,
          6713,
          5160,
          1440,
          78,
          7523,
          2668,
          1,
          376,
          1324,
          6940,
          2684,
          54,
          100,
          720,
          2880,
          3189,
          2790,
          13679,
          2843,
          13488,
          1642,
          7709,
          7080,
          1440,
          1,
          1680,
          1579,
          652,
          108,
          300,
          1020,
          3570,
          6492,
          23700,
          10499,
          15180,
          0,
          120,
          1,
          1,
          1,
          1,
          1,
          1,
          60,
          113,
          204,
          31,
          57,
          13,
          2,
          11,
          283,
          0,
          1,
          871,
          1631,
          56,
          15,
          15,
          20,
          60,
          1,
          95,
          300,
          1,
          3186,
          575,
          2275,
          15,
          1,
          44,
          21,
          1,
          114,
          1,
          60,
          4920,
          null,
          4920,
          420,
          0,
          7,
          21,
          340,
          4200,
          805,
          5040,
          7430,
          5490,
          165,
          3630,
          11640,
          1590,
          3137,
          1440,
          7920,
          360,
          0,
          1440,
          1372,
          6480,
          2190,
          285,
          75,
          1843,
          1,
          11531,
          1420,
          0,
          930,
          11420,
          0,
          352,
          0,
          960,
          1733,
          3690,
          10619,
          634,
          11280,
          1440,
          180,
          1574,
          45,
          563,
          388,
          373,
          4510,
          290,
          1950,
          270,
          1355,
          1318,
          2490,
          1265,
          195,
          3120,
          3388,
          1025,
          990,
          240,
          1485,
          129,
          0,
          1528,
          1890,
          2551,
          985,
          405,
          1698,
          167,
          1460,
          182,
          4113,
          null,
          885,
          15,
          42,
          1050,
          1,
          132,
          4140,
          2880,
          null,
          11430,
          3599,
          0,
          2941,
          null,
          6090,
          1365,
          375,
          2520,
          10080,
          76,
          0,
          3720,
          333,
          0,
          353,
          11337,
          0,
          0,
          7020,
          11058,
          null,
          9360,
          3300,
          3339,
          2880,
          11580,
          9600,
          13201,
          9719,
          488,
          2415,
          180,
          4177,
          7440,
          3480,
          6600,
          300,
          1526,
          60,
          210,
          2,
          1350,
          73,
          1,
          200,
          0,
          null,
          4380,
          0,
          120,
          2680,
          840,
          989,
          4313,
          214,
          4,
          164,
          91,
          1050,
          838,
          60,
          1,
          1,
          9886,
          2425,
          390,
          14500,
          6660,
          159,
          54,
          30,
          8077,
          855,
          65,
          810,
          4150,
          4740,
          25,
          0,
          null,
          2070,
          870,
          12652,
          2880,
          120,
          1199,
          null,
          1470,
          4140,
          15420,
          50,
          0,
          1,
          1,
          0,
          0,
          0,
          457,
          1,
          1,
          0,
          30,
          1,
          1,
          65,
          1,
          0,
          0,
          0,
          1,
          null,
          1,
          0,
          1,
          1,
          110,
          39,
          1,
          1,
          1,
          1,
          1,
          1,
          507,
          213,
          4254,
          1,
          1,
          53,
          0,
          0,
          251,
          347,
          1637,
          21360,
          2161,
          2880,
          1044,
          8670,
          56,
          93,
          13,
          2089,
          20280,
          14639,
          2880,
          681,
          494,
          1,
          5355,
          0,
          3943,
          3300,
          191,
          0,
          73,
          4680,
          17310,
          10080,
          10726,
          1,
          5,
          2515,
          25920,
          2730,
          9480,
          5400,
          30,
          3584,
          3600,
          5850,
          4710,
          1,
          1732,
          0,
          23040,
          1800,
          6074,
          null,
          49,
          2299,
          5760,
          420,
          7320,
          2880,
          448,
          2520,
          18717,
          5513,
          21,
          2100,
          3120,
          8221,
          3240,
          2880,
          255,
          2355,
          161,
          50,
          258,
          13140,
          8640,
          18240,
          15492,
          8268,
          0,
          300,
          14400,
          7962,
          2400,
          11296,
          48,
          60480,
          28170,
          300,
          8054,
          2775,
          2775,
          2160,
          2100,
          2775,
          3180,
          2775,
          1440,
          430,
          2129,
          1755,
          null,
          692,
          732,
          7,
          510,
          420,
          13215,
          557,
          300,
          17812,
          20416,
          6240,
          467,
          3067,
          3060,
          355,
          430,
          300,
          227,
          52,
          null,
          2880,
          18804,
          1867,
          1690,
          295,
          17,
          240,
          17520,
          8189,
          182,
          5820,
          83,
          230,
          2009,
          720,
          155,
          4320,
          4320,
          480,
          1005,
          221,
          372,
          13430,
          4320,
          91,
          1419,
          3600,
          10080,
          5071,
          152,
          6840,
          221,
          24780,
          38,
          61,
          7560,
          90,
          10380,
          396,
          2040,
          12060,
          1080,
          1680,
          13920,
          14101,
          1099,
          2460,
          540,
          52,
          816,
          420,
          155,
          437,
          247,
          540,
          1135,
          437,
          180,
          171,
          656,
          84,
          202,
          255,
          1054,
          1,
          1254,
          1456,
          177,
          106,
          32,
          2464,
          55,
          144,
          70,
          64,
          8873,
          945,
          null,
          523,
          56,
          3,
          8472,
          155,
          33,
          749,
          159,
          null,
          270,
          2790,
          224,
          1470,
          334,
          2050,
          370,
          26,
          797,
          12,
          195,
          1,
          230,
          125,
          15,
          316,
          365,
          1560,
          4740,
          294,
          455,
          2878,
          336,
          295,
          480,
          25,
          null,
          223,
          2645,
          2016,
          7371,
          360,
          3408,
          3698,
          4890,
          1,
          871,
          2759,
          250,
          3301,
          249,
          164,
          435,
          420,
          854,
          5160,
          133,
          15180,
          2055,
          451,
          140,
          199,
          721,
          179,
          1524,
          78,
          268,
          39,
          1,
          14190,
          47,
          161,
          900,
          6070,
          697,
          234,
          14,
          5910,
          null,
          34390,
          40,
          166,
          182,
          829,
          15,
          64,
          13,
          245,
          1080,
          null,
          390,
          47,
          269,
          null,
          400,
          660,
          213,
          null,
          761,
          8100,
          180,
          124,
          4320,
          2820,
          3100,
          49427,
          989,
          125,
          44,
          26,
          245,
          null,
          98,
          1,
          0,
          135,
          50,
          1008,
          53,
          554,
          1260,
          2895,
          89,
          98,
          865,
          128,
          230,
          252,
          130,
          5,
          157,
          6914,
          11,
          13,
          2880,
          270,
          962,
          47,
          null,
          20,
          108,
          9855,
          75,
          17,
          21,
          1950,
          11867,
          141,
          959,
          1035,
          617,
          1230,
          572,
          324,
          1835,
          6780,
          900,
          null,
          37,
          72,
          1,
          251,
          620,
          89,
          909,
          236,
          326,
          300,
          751,
          122,
          214,
          193,
          8,
          5227,
          null,
          1414,
          448,
          4605,
          4080,
          null,
          1914,
          759,
          1,
          10274,
          3,
          2700,
          105,
          240,
          210,
          1,
          1201,
          30,
          2806,
          1226,
          300,
          206,
          270,
          2880,
          513,
          8160,
          3314,
          414,
          126,
          60,
          285,
          110,
          62,
          2363,
          424,
          180,
          0,
          448,
          2,
          624,
          2435,
          131,
          null,
          208,
          103,
          1355,
          1523,
          90,
          1205,
          385,
          144,
          235,
          241,
          6787,
          1337,
          1673,
          3366,
          2640,
          1826,
          570,
          1565,
          2691,
          1072,
          115,
          816,
          168,
          30,
          160,
          485,
          1508,
          1301,
          159,
          60,
          4,
          9600,
          106,
          0,
          0,
          1,
          32,
          61,
          314,
          30,
          0,
          92,
          390,
          161,
          60,
          76,
          1,
          1,
          160,
          20,
          1,
          1,
          70,
          50,
          15,
          810,
          1380,
          1800,
          1560,
          2054,
          1452,
          1865,
          1999,
          120,
          1950,
          360,
          1087,
          1200,
          4122,
          360,
          645,
          108,
          0,
          1,
          1440,
          4560,
          1,
          1,
          110,
          210,
          120,
          0,
          4260,
          76,
          210,
          3305,
          5880,
          145,
          60,
          2640,
          1042,
          110,
          11880,
          2245,
          984,
          7200,
          1381,
          148,
          13972,
          null,
          796,
          300,
          null,
          2612,
          3000,
          431,
          5310,
          1732,
          0,
          6685,
          3300,
          280,
          117,
          2895,
          480,
          31,
          1,
          0,
          0,
          103,
          4745,
          307,
          1656,
          3525,
          374,
          1068,
          1569,
          114,
          115,
          15,
          2891,
          1,
          1676,
          0,
          0,
          3604,
          195,
          1,
          0,
          2108,
          198,
          3667,
          1037,
          673,
          null,
          2652,
          300,
          881,
          618,
          1187,
          950,
          2535,
          27,
          108,
          73,
          200,
          5,
          75,
          0,
          77,
          660,
          0,
          92,
          30,
          33,
          1895,
          274,
          1,
          1534,
          1,
          60,
          108,
          2,
          175,
          null,
          2040,
          2710,
          284,
          105,
          4019,
          1,
          391,
          439,
          5,
          201,
          2140,
          103,
          null,
          187,
          1406,
          348,
          13650,
          90,
          913,
          null,
          14040,
          1367,
          174,
          543,
          237,
          1906,
          224,
          0,
          95,
          360,
          1548,
          870,
          0,
          null,
          220,
          720,
          null,
          59,
          181,
          null
         ],
         "xaxis": "x",
         "yaxis": "y"
        }
       ],
       "layout": {
        "barmode": "relative",
        "legend": {
         "tracegroupgap": 0
        },
        "template": {
         "data": {
          "bar": [
           {
            "error_x": {
             "color": "#2a3f5f"
            },
            "error_y": {
             "color": "#2a3f5f"
            },
            "marker": {
             "line": {
              "color": "#E5ECF6",
              "width": 0.5
             },
             "pattern": {
              "fillmode": "overlay",
              "size": 10,
              "solidity": 0.2
             }
            },
            "type": "bar"
           }
          ],
          "barpolar": [
           {
            "marker": {
             "line": {
              "color": "#E5ECF6",
              "width": 0.5
             },
             "pattern": {
              "fillmode": "overlay",
              "size": 10,
              "solidity": 0.2
             }
            },
            "type": "barpolar"
           }
          ],
          "carpet": [
           {
            "aaxis": {
             "endlinecolor": "#2a3f5f",
             "gridcolor": "white",
             "linecolor": "white",
             "minorgridcolor": "white",
             "startlinecolor": "#2a3f5f"
            },
            "baxis": {
             "endlinecolor": "#2a3f5f",
             "gridcolor": "white",
             "linecolor": "white",
             "minorgridcolor": "white",
             "startlinecolor": "#2a3f5f"
            },
            "type": "carpet"
           }
          ],
          "choropleth": [
           {
            "colorbar": {
             "outlinewidth": 0,
             "ticks": ""
            },
            "type": "choropleth"
           }
          ],
          "contour": [
           {
            "colorbar": {
             "outlinewidth": 0,
             "ticks": ""
            },
            "colorscale": [
             [
              0,
              "#0d0887"
             ],
             [
              0.1111111111111111,
              "#46039f"
             ],
             [
              0.2222222222222222,
              "#7201a8"
             ],
             [
              0.3333333333333333,
              "#9c179e"
             ],
             [
              0.4444444444444444,
              "#bd3786"
             ],
             [
              0.5555555555555556,
              "#d8576b"
             ],
             [
              0.6666666666666666,
              "#ed7953"
             ],
             [
              0.7777777777777778,
              "#fb9f3a"
             ],
             [
              0.8888888888888888,
              "#fdca26"
             ],
             [
              1,
              "#f0f921"
             ]
            ],
            "type": "contour"
           }
          ],
          "contourcarpet": [
           {
            "colorbar": {
             "outlinewidth": 0,
             "ticks": ""
            },
            "type": "contourcarpet"
           }
          ],
          "heatmap": [
           {
            "colorbar": {
             "outlinewidth": 0,
             "ticks": ""
            },
            "colorscale": [
             [
              0,
              "#0d0887"
             ],
             [
              0.1111111111111111,
              "#46039f"
             ],
             [
              0.2222222222222222,
              "#7201a8"
             ],
             [
              0.3333333333333333,
              "#9c179e"
             ],
             [
              0.4444444444444444,
              "#bd3786"
             ],
             [
              0.5555555555555556,
              "#d8576b"
             ],
             [
              0.6666666666666666,
              "#ed7953"
             ],
             [
              0.7777777777777778,
              "#fb9f3a"
             ],
             [
              0.8888888888888888,
              "#fdca26"
             ],
             [
              1,
              "#f0f921"
             ]
            ],
            "type": "heatmap"
           }
          ],
          "heatmapgl": [
           {
            "colorbar": {
             "outlinewidth": 0,
             "ticks": ""
            },
            "colorscale": [
             [
              0,
              "#0d0887"
             ],
             [
              0.1111111111111111,
              "#46039f"
             ],
             [
              0.2222222222222222,
              "#7201a8"
             ],
             [
              0.3333333333333333,
              "#9c179e"
             ],
             [
              0.4444444444444444,
              "#bd3786"
             ],
             [
              0.5555555555555556,
              "#d8576b"
             ],
             [
              0.6666666666666666,
              "#ed7953"
             ],
             [
              0.7777777777777778,
              "#fb9f3a"
             ],
             [
              0.8888888888888888,
              "#fdca26"
             ],
             [
              1,
              "#f0f921"
             ]
            ],
            "type": "heatmapgl"
           }
          ],
          "histogram": [
           {
            "marker": {
             "pattern": {
              "fillmode": "overlay",
              "size": 10,
              "solidity": 0.2
             }
            },
            "type": "histogram"
           }
          ],
          "histogram2d": [
           {
            "colorbar": {
             "outlinewidth": 0,
             "ticks": ""
            },
            "colorscale": [
             [
              0,
              "#0d0887"
             ],
             [
              0.1111111111111111,
              "#46039f"
             ],
             [
              0.2222222222222222,
              "#7201a8"
             ],
             [
              0.3333333333333333,
              "#9c179e"
             ],
             [
              0.4444444444444444,
              "#bd3786"
             ],
             [
              0.5555555555555556,
              "#d8576b"
             ],
             [
              0.6666666666666666,
              "#ed7953"
             ],
             [
              0.7777777777777778,
              "#fb9f3a"
             ],
             [
              0.8888888888888888,
              "#fdca26"
             ],
             [
              1,
              "#f0f921"
             ]
            ],
            "type": "histogram2d"
           }
          ],
          "histogram2dcontour": [
           {
            "colorbar": {
             "outlinewidth": 0,
             "ticks": ""
            },
            "colorscale": [
             [
              0,
              "#0d0887"
             ],
             [
              0.1111111111111111,
              "#46039f"
             ],
             [
              0.2222222222222222,
              "#7201a8"
             ],
             [
              0.3333333333333333,
              "#9c179e"
             ],
             [
              0.4444444444444444,
              "#bd3786"
             ],
             [
              0.5555555555555556,
              "#d8576b"
             ],
             [
              0.6666666666666666,
              "#ed7953"
             ],
             [
              0.7777777777777778,
              "#fb9f3a"
             ],
             [
              0.8888888888888888,
              "#fdca26"
             ],
             [
              1,
              "#f0f921"
             ]
            ],
            "type": "histogram2dcontour"
           }
          ],
          "mesh3d": [
           {
            "colorbar": {
             "outlinewidth": 0,
             "ticks": ""
            },
            "type": "mesh3d"
           }
          ],
          "parcoords": [
           {
            "line": {
             "colorbar": {
              "outlinewidth": 0,
              "ticks": ""
             }
            },
            "type": "parcoords"
           }
          ],
          "pie": [
           {
            "automargin": true,
            "type": "pie"
           }
          ],
          "scatter": [
           {
            "fillpattern": {
             "fillmode": "overlay",
             "size": 10,
             "solidity": 0.2
            },
            "type": "scatter"
           }
          ],
          "scatter3d": [
           {
            "line": {
             "colorbar": {
              "outlinewidth": 0,
              "ticks": ""
             }
            },
            "marker": {
             "colorbar": {
              "outlinewidth": 0,
              "ticks": ""
             }
            },
            "type": "scatter3d"
           }
          ],
          "scattercarpet": [
           {
            "marker": {
             "colorbar": {
              "outlinewidth": 0,
              "ticks": ""
             }
            },
            "type": "scattercarpet"
           }
          ],
          "scattergeo": [
           {
            "marker": {
             "colorbar": {
              "outlinewidth": 0,
              "ticks": ""
             }
            },
            "type": "scattergeo"
           }
          ],
          "scattergl": [
           {
            "marker": {
             "colorbar": {
              "outlinewidth": 0,
              "ticks": ""
             }
            },
            "type": "scattergl"
           }
          ],
          "scattermapbox": [
           {
            "marker": {
             "colorbar": {
              "outlinewidth": 0,
              "ticks": ""
             }
            },
            "type": "scattermapbox"
           }
          ],
          "scatterpolar": [
           {
            "marker": {
             "colorbar": {
              "outlinewidth": 0,
              "ticks": ""
             }
            },
            "type": "scatterpolar"
           }
          ],
          "scatterpolargl": [
           {
            "marker": {
             "colorbar": {
              "outlinewidth": 0,
              "ticks": ""
             }
            },
            "type": "scatterpolargl"
           }
          ],
          "scatterternary": [
           {
            "marker": {
             "colorbar": {
              "outlinewidth": 0,
              "ticks": ""
             }
            },
            "type": "scatterternary"
           }
          ],
          "surface": [
           {
            "colorbar": {
             "outlinewidth": 0,
             "ticks": ""
            },
            "colorscale": [
             [
              0,
              "#0d0887"
             ],
             [
              0.1111111111111111,
              "#46039f"
             ],
             [
              0.2222222222222222,
              "#7201a8"
             ],
             [
              0.3333333333333333,
              "#9c179e"
             ],
             [
              0.4444444444444444,
              "#bd3786"
             ],
             [
              0.5555555555555556,
              "#d8576b"
             ],
             [
              0.6666666666666666,
              "#ed7953"
             ],
             [
              0.7777777777777778,
              "#fb9f3a"
             ],
             [
              0.8888888888888888,
              "#fdca26"
             ],
             [
              1,
              "#f0f921"
             ]
            ],
            "type": "surface"
           }
          ],
          "table": [
           {
            "cells": {
             "fill": {
              "color": "#EBF0F8"
             },
             "line": {
              "color": "white"
             }
            },
            "header": {
             "fill": {
              "color": "#C8D4E3"
             },
             "line": {
              "color": "white"
             }
            },
            "type": "table"
           }
          ]
         },
         "layout": {
          "annotationdefaults": {
           "arrowcolor": "#2a3f5f",
           "arrowhead": 0,
           "arrowwidth": 1
          },
          "autotypenumbers": "strict",
          "coloraxis": {
           "colorbar": {
            "outlinewidth": 0,
            "ticks": ""
           }
          },
          "colorscale": {
           "diverging": [
            [
             0,
             "#8e0152"
            ],
            [
             0.1,
             "#c51b7d"
            ],
            [
             0.2,
             "#de77ae"
            ],
            [
             0.3,
             "#f1b6da"
            ],
            [
             0.4,
             "#fde0ef"
            ],
            [
             0.5,
             "#f7f7f7"
            ],
            [
             0.6,
             "#e6f5d0"
            ],
            [
             0.7,
             "#b8e186"
            ],
            [
             0.8,
             "#7fbc41"
            ],
            [
             0.9,
             "#4d9221"
            ],
            [
             1,
             "#276419"
            ]
           ],
           "sequential": [
            [
             0,
             "#0d0887"
            ],
            [
             0.1111111111111111,
             "#46039f"
            ],
            [
             0.2222222222222222,
             "#7201a8"
            ],
            [
             0.3333333333333333,
             "#9c179e"
            ],
            [
             0.4444444444444444,
             "#bd3786"
            ],
            [
             0.5555555555555556,
             "#d8576b"
            ],
            [
             0.6666666666666666,
             "#ed7953"
            ],
            [
             0.7777777777777778,
             "#fb9f3a"
            ],
            [
             0.8888888888888888,
             "#fdca26"
            ],
            [
             1,
             "#f0f921"
            ]
           ],
           "sequentialminus": [
            [
             0,
             "#0d0887"
            ],
            [
             0.1111111111111111,
             "#46039f"
            ],
            [
             0.2222222222222222,
             "#7201a8"
            ],
            [
             0.3333333333333333,
             "#9c179e"
            ],
            [
             0.4444444444444444,
             "#bd3786"
            ],
            [
             0.5555555555555556,
             "#d8576b"
            ],
            [
             0.6666666666666666,
             "#ed7953"
            ],
            [
             0.7777777777777778,
             "#fb9f3a"
            ],
            [
             0.8888888888888888,
             "#fdca26"
            ],
            [
             1,
             "#f0f921"
            ]
           ]
          },
          "colorway": [
           "#636efa",
           "#EF553B",
           "#00cc96",
           "#ab63fa",
           "#FFA15A",
           "#19d3f3",
           "#FF6692",
           "#B6E880",
           "#FF97FF",
           "#FECB52"
          ],
          "font": {
           "color": "#2a3f5f"
          },
          "geo": {
           "bgcolor": "white",
           "lakecolor": "white",
           "landcolor": "#E5ECF6",
           "showlakes": true,
           "showland": true,
           "subunitcolor": "white"
          },
          "hoverlabel": {
           "align": "left"
          },
          "hovermode": "closest",
          "mapbox": {
           "style": "light"
          },
          "paper_bgcolor": "white",
          "plot_bgcolor": "#E5ECF6",
          "polar": {
           "angularaxis": {
            "gridcolor": "white",
            "linecolor": "white",
            "ticks": ""
           },
           "bgcolor": "#E5ECF6",
           "radialaxis": {
            "gridcolor": "white",
            "linecolor": "white",
            "ticks": ""
           }
          },
          "scene": {
           "xaxis": {
            "backgroundcolor": "#E5ECF6",
            "gridcolor": "white",
            "gridwidth": 2,
            "linecolor": "white",
            "showbackground": true,
            "ticks": "",
            "zerolinecolor": "white"
           },
           "yaxis": {
            "backgroundcolor": "#E5ECF6",
            "gridcolor": "white",
            "gridwidth": 2,
            "linecolor": "white",
            "showbackground": true,
            "ticks": "",
            "zerolinecolor": "white"
           },
           "zaxis": {
            "backgroundcolor": "#E5ECF6",
            "gridcolor": "white",
            "gridwidth": 2,
            "linecolor": "white",
            "showbackground": true,
            "ticks": "",
            "zerolinecolor": "white"
           }
          },
          "shapedefaults": {
           "line": {
            "color": "#2a3f5f"
           }
          },
          "ternary": {
           "aaxis": {
            "gridcolor": "white",
            "linecolor": "white",
            "ticks": ""
           },
           "baxis": {
            "gridcolor": "white",
            "linecolor": "white",
            "ticks": ""
           },
           "bgcolor": "#E5ECF6",
           "caxis": {
            "gridcolor": "white",
            "linecolor": "white",
            "ticks": ""
           }
          },
          "title": {
           "x": 0.05
          },
          "xaxis": {
           "automargin": true,
           "gridcolor": "white",
           "linecolor": "white",
           "ticks": "",
           "title": {
            "standoff": 15
           },
           "zerolinecolor": "white",
           "zerolinewidth": 2
          },
          "yaxis": {
           "automargin": true,
           "gridcolor": "white",
           "linecolor": "white",
           "ticks": "",
           "title": {
            "standoff": 15
           },
           "zerolinecolor": "white",
           "zerolinewidth": 2
          }
         }
        },
        "title": {
         "text": "Duration of Outage in Minutes"
        },
        "xaxis": {
         "anchor": "y",
         "domain": [
          0,
          1
         ],
         "title": {
          "text": "OUTAGE.DURATION"
         }
        },
        "yaxis": {
         "anchor": "x",
         "domain": [
          0,
          1
         ],
         "title": {
          "text": "probability"
         }
        }
       }
      }
     },
     "metadata": {},
     "output_type": "display_data"
    }
   ],
   "source": [
    "fig = px.histogram(outage_clean, x=\"OUTAGE.DURATION\", histnorm='probability',\n",
    "                   title=\"Duration of Outage in Minutes\")\n",
    "fig.show()"
   ]
  },
  {
   "cell_type": "code",
   "execution_count": 7,
   "metadata": {},
   "outputs": [
    {
     "data": {
      "application/vnd.plotly.v1+json": {
       "config": {
        "plotlyServerURL": "https://plot.ly"
       },
       "data": [
        {
         "alignmentgroup": "True",
         "bingroup": "x",
         "histnorm": "probability",
         "hovertemplate": "CUSTOMERS.AFFECTED=%{x}<br>probability=%{y}<extra></extra>",
         "legendgroup": "",
         "marker": {
          "color": "#636efa",
          "pattern": {
           "shape": ""
          }
         },
         "name": "",
         "offsetgroup": "",
         "orientation": "v",
         "showlegend": false,
         "type": "histogram",
         "x": [
          70000,
          null,
          70000,
          68200,
          250000,
          60000,
          63000,
          300000,
          5941,
          400000,
          193000,
          200000,
          0,
          0,
          55951,
          null,
          null,
          null,
          64000,
          57000,
          null,
          50001,
          0,
          null,
          null,
          null,
          106300,
          63000,
          56475,
          null,
          null,
          73000,
          215,
          50000,
          38500,
          105000,
          null,
          null,
          null,
          80000,
          63000,
          136000,
          65904,
          null,
          null,
          null,
          null,
          0,
          null,
          null,
          null,
          48000,
          7000,
          null,
          null,
          52000,
          null,
          0,
          110000,
          7600,
          63000,
          0,
          null,
          null,
          120000,
          null,
          null,
          51160,
          null,
          null,
          66383,
          208000,
          265000,
          113000,
          53000,
          245000,
          null,
          145314,
          60000,
          2100000,
          425000,
          78213,
          150000,
          164000,
          140000,
          70793,
          134288,
          60000,
          69000,
          75000,
          105000,
          118000,
          201580,
          325325,
          118000,
          131000,
          160000,
          0,
          50000,
          133777,
          125000,
          248209,
          162000,
          160895,
          210517,
          111000,
          247847,
          68000,
          null,
          50000,
          285000,
          86915,
          122000,
          65562,
          50114,
          null,
          252089,
          2,
          137000,
          80000,
          null,
          53000,
          130000,
          182000,
          0,
          50000,
          60175,
          146500,
          101000,
          null,
          239663,
          230000,
          150000,
          111393,
          250000,
          138802,
          75000,
          358000,
          127534,
          122600,
          140735,
          66000,
          160000,
          156627,
          0,
          114711,
          99188,
          85000,
          159870,
          75000,
          72520,
          100000,
          99000,
          272355,
          315000,
          190000,
          58156,
          82000,
          168000,
          0,
          197166,
          103000,
          129607,
          138000,
          138000,
          56000,
          105000,
          65000,
          30000,
          null,
          86013,
          52000,
          3314,
          null,
          null,
          119000,
          57000,
          454000,
          null,
          489478,
          126000,
          79741,
          null,
          null,
          118000,
          0,
          108000,
          238000,
          null,
          96000,
          280982,
          98700,
          null,
          79000,
          0,
          200000,
          85000,
          200000,
          null,
          null,
          68530,
          67000,
          2142678,
          null,
          130252,
          60000,
          0,
          262000,
          null,
          null,
          null,
          192000,
          71823,
          0,
          73000,
          0,
          64801,
          211266,
          62000,
          null,
          null,
          83000,
          100000,
          70000,
          214864,
          80000,
          null,
          null,
          219681,
          78000,
          2000000,
          500000,
          null,
          715000,
          null,
          100000,
          1069730,
          51404,
          175000,
          43000,
          881000,
          85000,
          68000,
          17311,
          488689,
          null,
          0,
          0,
          238392,
          340350,
          null,
          null,
          24506,
          158000,
          234393,
          89000,
          0,
          73000,
          120377,
          null,
          null,
          0,
          63000,
          null,
          171117,
          0,
          57531,
          123000,
          2504366,
          9000,
          61000,
          0,
          36073,
          null,
          113247,
          null,
          null,
          500000,
          null,
          82000,
          132000,
          81586,
          70000,
          415103,
          300000,
          800000,
          65000,
          62500,
          100000,
          157019,
          null,
          null,
          243000,
          114000,
          null,
          127000,
          null,
          135000,
          61705,
          0,
          9700,
          124000,
          9700,
          50000,
          9700,
          null,
          75065,
          7500,
          201000,
          null,
          61705,
          56000,
          9800,
          82621,
          0,
          114791,
          61413,
          94345,
          186000,
          86615,
          215387,
          70000,
          null,
          9600,
          52702,
          null,
          0,
          null,
          141000,
          63000,
          null,
          53000,
          9700,
          53700,
          null,
          58000,
          null,
          75000,
          65000,
          160000,
          60000,
          75000,
          111644,
          null,
          null,
          10000,
          null,
          0,
          0,
          300000,
          101830,
          629590,
          109000,
          192106,
          181000,
          190000,
          471932,
          400000,
          51500,
          121000,
          420000,
          245000,
          127000,
          169000,
          320000,
          11000,
          330000,
          109000,
          283451,
          300000,
          72000,
          157000,
          80000,
          653000,
          71500,
          200000,
          65400,
          237000,
          135000,
          115000,
          51000,
          239567,
          null,
          165000,
          325000,
          127000,
          130000,
          169000,
          170519,
          190000,
          500000,
          125000,
          null,
          68800,
          null,
          null,
          null,
          92090,
          null,
          250000,
          null,
          null,
          null,
          null,
          0,
          null,
          0,
          145000,
          63992,
          null,
          null,
          426000,
          null,
          null,
          76300,
          110433,
          null,
          0,
          null,
          0,
          null,
          105000,
          null,
          null,
          0,
          null,
          0,
          0,
          null,
          140000,
          56000,
          null,
          500000,
          0,
          93300,
          0,
          0,
          null,
          0,
          160000,
          0,
          null,
          null,
          89000,
          8000,
          null,
          123535,
          null,
          0,
          null,
          null,
          null,
          0,
          null,
          null,
          null,
          0,
          300000,
          null,
          null,
          175000,
          null,
          null,
          null,
          200000,
          null,
          null,
          null,
          null,
          null,
          null,
          0,
          null,
          0,
          null,
          172060,
          123827,
          75000,
          null,
          50000,
          0,
          null,
          null,
          700000,
          null,
          187000,
          null,
          null,
          64000,
          null,
          null,
          160000,
          null,
          null,
          null,
          null,
          47000,
          null,
          null,
          null,
          140000,
          null,
          null,
          null,
          40911,
          0,
          null,
          2713,
          null,
          null,
          null,
          null,
          null,
          null,
          null,
          69000,
          null,
          30000,
          90000,
          60000,
          70000,
          60000,
          108000,
          122000,
          180000,
          87600,
          null,
          0,
          0,
          0,
          null,
          0,
          null,
          108000,
          null,
          null,
          104195,
          93000,
          0,
          null,
          null,
          55118,
          0,
          297700,
          0,
          650000,
          234326,
          null,
          70000,
          86390,
          0,
          null,
          1,
          219000,
          1,
          181000,
          110000,
          0,
          133000,
          0,
          null,
          65000,
          249408,
          0,
          85091,
          138000,
          null,
          0,
          0,
          153000,
          155183,
          124000,
          760113,
          600000,
          null,
          64943,
          null,
          167564,
          50000,
          120000,
          null,
          null,
          57000,
          146721,
          198000,
          400000,
          146094,
          111555,
          52000,
          64500,
          143000,
          200717,
          142315,
          0,
          82861,
          105312,
          185000,
          109335,
          93837,
          200000,
          62000,
          213000,
          850000,
          124596,
          118000,
          null,
          105000,
          177528,
          264000,
          715000,
          null,
          160875,
          132000,
          65112,
          55000,
          492955,
          62159,
          null,
          43903,
          120001,
          144000,
          168449,
          null,
          0,
          106000,
          284000,
          65000,
          95630,
          312359,
          0,
          270000,
          35000,
          355000,
          223000,
          null,
          null,
          78000,
          181700,
          null,
          110,
          375000,
          76000,
          383000,
          190000,
          0,
          18000,
          3500,
          0,
          0,
          null,
          null,
          null,
          null,
          null,
          37,
          0,
          5763,
          85179,
          0,
          0,
          null,
          null,
          0,
          null,
          0,
          null,
          74031,
          60000,
          0,
          0,
          0,
          null,
          0,
          null,
          0,
          0,
          null,
          0,
          0,
          null,
          null,
          null,
          null,
          0,
          null,
          0,
          null,
          null,
          281000,
          null,
          127000,
          null,
          0,
          0,
          null,
          null,
          95000,
          45000,
          134500,
          175000,
          107833,
          67000,
          184000,
          246990,
          122314,
          1203000,
          0,
          211000,
          0,
          null,
          null,
          57054,
          150000,
          56000,
          0,
          0,
          50636,
          0,
          564728,
          59106,
          0,
          184000,
          245164,
          2000,
          23000,
          0,
          52747,
          48102,
          86000,
          346000,
          null,
          100000,
          60000,
          72000,
          220000,
          12000,
          null,
          70135,
          6100,
          200000,
          1200,
          103776,
          69106,
          203345,
          50718,
          130000,
          null,
          1200,
          null,
          340000,
          71000,
          61000,
          51600,
          53000,
          12000,
          29376,
          50000,
          112000,
          136000,
          61377,
          0,
          175000,
          0,
          47000,
          null,
          285465,
          50000,
          57000,
          320000,
          4196,
          370900,
          0,
          156338,
          100000,
          650000,
          null,
          197000,
          135000,
          0,
          95400,
          73000,
          248800,
          156729,
          0,
          140000,
          263000,
          50900,
          0,
          130000,
          75654,
          0,
          null,
          50000,
          0,
          0,
          150000,
          205000,
          null,
          217000,
          180000,
          67900,
          665000,
          221000,
          null,
          379000,
          360000,
          125000,
          50465,
          677858,
          120124,
          133000,
          150000,
          81000,
          677858,
          9000,
          2500,
          71000,
          null,
          null,
          0,
          null,
          3,
          null,
          null,
          249500,
          null,
          null,
          0,
          null,
          null,
          111000,
          0,
          null,
          0,
          null,
          84500,
          null,
          0,
          null,
          null,
          97651,
          220000,
          76729,
          530000,
          210000,
          52000,
          null,
          40000,
          425000,
          101003,
          null,
          83000,
          null,
          62500,
          null,
          null,
          0,
          63000,
          53000,
          20000,
          70000,
          55000,
          0,
          0,
          100000,
          56444,
          95000,
          18400,
          0,
          null,
          null,
          0,
          0,
          0,
          0,
          0,
          null,
          0,
          null,
          0,
          null,
          0,
          null,
          0,
          0,
          0,
          null,
          null,
          0,
          0,
          null,
          null,
          null,
          0,
          0,
          0,
          null,
          null,
          null,
          0,
          0,
          0,
          65000,
          null,
          null,
          null,
          0,
          0,
          null,
          140000,
          null,
          null,
          0,
          null,
          215000,
          21000,
          null,
          null,
          null,
          160000,
          632816,
          818000,
          152261,
          null,
          null,
          116000,
          145000,
          0,
          59000,
          300000,
          56645,
          null,
          0,
          18600,
          null,
          null,
          190000,
          null,
          null,
          61795,
          null,
          74300,
          173000,
          60000,
          0,
          54316,
          null,
          null,
          68000,
          null,
          3125350,
          0,
          null,
          null,
          50000,
          null,
          137000,
          100000,
          153000,
          null,
          55000,
          0,
          200000,
          150000,
          null,
          null,
          null,
          50280,
          18600,
          99700,
          65000,
          180000,
          null,
          null,
          0,
          61000,
          0,
          120000,
          50000,
          null,
          250000,
          371000,
          null,
          null,
          null,
          161151,
          18600,
          25000,
          null,
          null,
          null,
          null,
          59057,
          null,
          null,
          1100000,
          null,
          null,
          85000,
          null,
          287000,
          null,
          1,
          null,
          57184,
          143000,
          11000,
          11000,
          null,
          null,
          246092,
          null,
          null,
          150000,
          50000,
          190000,
          null,
          95000,
          50000,
          null,
          null,
          null,
          21800,
          28000,
          242910,
          null,
          125000,
          68018,
          null,
          null,
          0,
          440000,
          0,
          0,
          584384,
          430000,
          0,
          25000,
          50000,
          105000,
          150000,
          0,
          0,
          1200000,
          179000,
          42124,
          null,
          0,
          0,
          53965,
          31000,
          2775093,
          0,
          101950,
          37,
          110000,
          78000,
          84900,
          56000,
          47661,
          722000,
          104498,
          832898,
          32593,
          285300,
          268000,
          3241437,
          26000,
          502000,
          0,
          23000,
          26000,
          87000,
          20900,
          16500,
          null,
          null,
          null,
          null,
          null,
          0,
          null,
          null,
          128050,
          124000,
          900000,
          null,
          148000,
          37784,
          null,
          6810,
          79000,
          null,
          2500,
          null,
          150000,
          null,
          15000,
          null,
          26000,
          0,
          null,
          null,
          150000,
          290000,
          10000,
          850068,
          null,
          70000,
          null,
          null,
          null,
          10008,
          407440,
          477,
          50000,
          130000,
          null,
          null,
          727,
          484,
          0,
          1,
          48400,
          58850,
          94000,
          433,
          null,
          55655,
          null,
          442000,
          30000,
          89500,
          null,
          null,
          null,
          null,
          null,
          null,
          4300,
          160000,
          100000,
          1271893,
          0,
          80000,
          0,
          80000,
          null,
          null,
          505000,
          null,
          null,
          409000,
          65255,
          null,
          null,
          null,
          939000,
          6800,
          2606931,
          null,
          null,
          null,
          null,
          109750,
          null,
          null,
          0,
          7077,
          null,
          null,
          1700000,
          255000,
          59458,
          95000,
          147223,
          0,
          50000,
          2035,
          241000,
          426,
          108000,
          null,
          78164,
          null,
          null,
          9956,
          182000,
          null,
          null,
          null,
          430984,
          859554,
          null,
          null,
          65000,
          70,
          null,
          165000,
          null,
          140000,
          1667316,
          null,
          280000,
          0,
          385000,
          125000,
          0,
          55677,
          1,
          484,
          127,
          133900,
          32000,
          null,
          null,
          0,
          4,
          2650,
          null,
          5314,
          null,
          null,
          73514,
          null,
          0,
          null,
          420,
          null,
          200000,
          54332,
          6635,
          70,
          128000,
          2674,
          null,
          null,
          940,
          20345,
          null,
          0,
          null,
          70848,
          91690,
          null,
          300000,
          90323,
          263000,
          null,
          25000,
          104000,
          638,
          1400000,
          158977,
          null,
          null,
          null,
          1500000,
          null,
          1400000,
          68780,
          9956,
          0,
          7077,
          123000,
          null,
          1,
          80000,
          null,
          null,
          115500,
          null,
          0,
          1,
          null,
          60000,
          null,
          null,
          null,
          0,
          671189,
          null,
          120000,
          400000,
          null,
          111818,
          null,
          215700,
          null,
          null,
          64951,
          null,
          null,
          null,
          13000,
          null,
          7935,
          25159,
          0,
          13000,
          null,
          43000,
          null,
          8000,
          50797,
          null,
          57200,
          9200,
          null,
          null,
          115000,
          51580,
          0,
          88000,
          null,
          88110,
          52739,
          67000,
          37000,
          60000,
          119000,
          150084,
          156000,
          56000,
          175000,
          107000,
          55000,
          81000,
          600000,
          880000,
          null,
          119000,
          145157,
          217000,
          253800,
          114618,
          233000,
          130000,
          75000,
          80000,
          58500,
          67000,
          null,
          50000,
          126000,
          283000,
          190000,
          null,
          126000,
          120212,
          15000,
          35500,
          0,
          0,
          null,
          null,
          null,
          0,
          null,
          500000,
          null,
          null,
          0,
          null,
          null,
          null,
          0,
          0,
          null,
          null,
          null,
          0,
          0,
          0,
          47165,
          82000,
          30689,
          150000,
          218783,
          93828,
          52659,
          186035,
          109000,
          80539,
          83450,
          66445,
          102000,
          373835,
          85455,
          169000,
          null,
          0,
          null,
          158000,
          50752,
          null,
          0,
          56400,
          75000,
          null,
          0,
          67000,
          50100,
          null,
          50246,
          224912,
          0,
          null,
          52000,
          54476,
          0,
          1881134,
          112000,
          14500,
          68705,
          null,
          null,
          256663,
          50500,
          96966,
          null,
          35000,
          54000,
          41306,
          null,
          127000,
          92748,
          0,
          56874,
          55609,
          1500,
          null,
          54000,
          80000,
          29250,
          50000,
          0,
          0,
          130000,
          50000,
          null,
          50000,
          50000,
          380000,
          50500,
          null,
          null,
          300000,
          0,
          1,
          0,
          0,
          0,
          0,
          127545,
          null,
          0,
          0,
          131000,
          63000,
          169757,
          50462,
          60863,
          null,
          52500,
          0,
          0,
          110000,
          50000,
          117142,
          50000,
          0,
          0,
          0,
          null,
          0,
          0,
          0,
          null,
          102568,
          0,
          null,
          0,
          0,
          0,
          1100,
          0,
          null,
          null,
          110000,
          0,
          35230,
          0,
          0,
          204000,
          86058,
          null,
          null,
          0,
          null,
          31000,
          null,
          30379,
          0,
          65000,
          0,
          270000,
          null,
          0,
          70000,
          95000,
          0,
          null,
          110000,
          211000,
          294000,
          62000,
          59886,
          29300,
          291000,
          null,
          0,
          35000,
          0,
          0,
          null,
          0,
          0,
          null,
          34500,
          null,
          null,
          null,
          14273
         ],
         "xaxis": "x",
         "yaxis": "y"
        }
       ],
       "layout": {
        "barmode": "relative",
        "legend": {
         "tracegroupgap": 0
        },
        "template": {
         "data": {
          "bar": [
           {
            "error_x": {
             "color": "#2a3f5f"
            },
            "error_y": {
             "color": "#2a3f5f"
            },
            "marker": {
             "line": {
              "color": "#E5ECF6",
              "width": 0.5
             },
             "pattern": {
              "fillmode": "overlay",
              "size": 10,
              "solidity": 0.2
             }
            },
            "type": "bar"
           }
          ],
          "barpolar": [
           {
            "marker": {
             "line": {
              "color": "#E5ECF6",
              "width": 0.5
             },
             "pattern": {
              "fillmode": "overlay",
              "size": 10,
              "solidity": 0.2
             }
            },
            "type": "barpolar"
           }
          ],
          "carpet": [
           {
            "aaxis": {
             "endlinecolor": "#2a3f5f",
             "gridcolor": "white",
             "linecolor": "white",
             "minorgridcolor": "white",
             "startlinecolor": "#2a3f5f"
            },
            "baxis": {
             "endlinecolor": "#2a3f5f",
             "gridcolor": "white",
             "linecolor": "white",
             "minorgridcolor": "white",
             "startlinecolor": "#2a3f5f"
            },
            "type": "carpet"
           }
          ],
          "choropleth": [
           {
            "colorbar": {
             "outlinewidth": 0,
             "ticks": ""
            },
            "type": "choropleth"
           }
          ],
          "contour": [
           {
            "colorbar": {
             "outlinewidth": 0,
             "ticks": ""
            },
            "colorscale": [
             [
              0,
              "#0d0887"
             ],
             [
              0.1111111111111111,
              "#46039f"
             ],
             [
              0.2222222222222222,
              "#7201a8"
             ],
             [
              0.3333333333333333,
              "#9c179e"
             ],
             [
              0.4444444444444444,
              "#bd3786"
             ],
             [
              0.5555555555555556,
              "#d8576b"
             ],
             [
              0.6666666666666666,
              "#ed7953"
             ],
             [
              0.7777777777777778,
              "#fb9f3a"
             ],
             [
              0.8888888888888888,
              "#fdca26"
             ],
             [
              1,
              "#f0f921"
             ]
            ],
            "type": "contour"
           }
          ],
          "contourcarpet": [
           {
            "colorbar": {
             "outlinewidth": 0,
             "ticks": ""
            },
            "type": "contourcarpet"
           }
          ],
          "heatmap": [
           {
            "colorbar": {
             "outlinewidth": 0,
             "ticks": ""
            },
            "colorscale": [
             [
              0,
              "#0d0887"
             ],
             [
              0.1111111111111111,
              "#46039f"
             ],
             [
              0.2222222222222222,
              "#7201a8"
             ],
             [
              0.3333333333333333,
              "#9c179e"
             ],
             [
              0.4444444444444444,
              "#bd3786"
             ],
             [
              0.5555555555555556,
              "#d8576b"
             ],
             [
              0.6666666666666666,
              "#ed7953"
             ],
             [
              0.7777777777777778,
              "#fb9f3a"
             ],
             [
              0.8888888888888888,
              "#fdca26"
             ],
             [
              1,
              "#f0f921"
             ]
            ],
            "type": "heatmap"
           }
          ],
          "heatmapgl": [
           {
            "colorbar": {
             "outlinewidth": 0,
             "ticks": ""
            },
            "colorscale": [
             [
              0,
              "#0d0887"
             ],
             [
              0.1111111111111111,
              "#46039f"
             ],
             [
              0.2222222222222222,
              "#7201a8"
             ],
             [
              0.3333333333333333,
              "#9c179e"
             ],
             [
              0.4444444444444444,
              "#bd3786"
             ],
             [
              0.5555555555555556,
              "#d8576b"
             ],
             [
              0.6666666666666666,
              "#ed7953"
             ],
             [
              0.7777777777777778,
              "#fb9f3a"
             ],
             [
              0.8888888888888888,
              "#fdca26"
             ],
             [
              1,
              "#f0f921"
             ]
            ],
            "type": "heatmapgl"
           }
          ],
          "histogram": [
           {
            "marker": {
             "pattern": {
              "fillmode": "overlay",
              "size": 10,
              "solidity": 0.2
             }
            },
            "type": "histogram"
           }
          ],
          "histogram2d": [
           {
            "colorbar": {
             "outlinewidth": 0,
             "ticks": ""
            },
            "colorscale": [
             [
              0,
              "#0d0887"
             ],
             [
              0.1111111111111111,
              "#46039f"
             ],
             [
              0.2222222222222222,
              "#7201a8"
             ],
             [
              0.3333333333333333,
              "#9c179e"
             ],
             [
              0.4444444444444444,
              "#bd3786"
             ],
             [
              0.5555555555555556,
              "#d8576b"
             ],
             [
              0.6666666666666666,
              "#ed7953"
             ],
             [
              0.7777777777777778,
              "#fb9f3a"
             ],
             [
              0.8888888888888888,
              "#fdca26"
             ],
             [
              1,
              "#f0f921"
             ]
            ],
            "type": "histogram2d"
           }
          ],
          "histogram2dcontour": [
           {
            "colorbar": {
             "outlinewidth": 0,
             "ticks": ""
            },
            "colorscale": [
             [
              0,
              "#0d0887"
             ],
             [
              0.1111111111111111,
              "#46039f"
             ],
             [
              0.2222222222222222,
              "#7201a8"
             ],
             [
              0.3333333333333333,
              "#9c179e"
             ],
             [
              0.4444444444444444,
              "#bd3786"
             ],
             [
              0.5555555555555556,
              "#d8576b"
             ],
             [
              0.6666666666666666,
              "#ed7953"
             ],
             [
              0.7777777777777778,
              "#fb9f3a"
             ],
             [
              0.8888888888888888,
              "#fdca26"
             ],
             [
              1,
              "#f0f921"
             ]
            ],
            "type": "histogram2dcontour"
           }
          ],
          "mesh3d": [
           {
            "colorbar": {
             "outlinewidth": 0,
             "ticks": ""
            },
            "type": "mesh3d"
           }
          ],
          "parcoords": [
           {
            "line": {
             "colorbar": {
              "outlinewidth": 0,
              "ticks": ""
             }
            },
            "type": "parcoords"
           }
          ],
          "pie": [
           {
            "automargin": true,
            "type": "pie"
           }
          ],
          "scatter": [
           {
            "fillpattern": {
             "fillmode": "overlay",
             "size": 10,
             "solidity": 0.2
            },
            "type": "scatter"
           }
          ],
          "scatter3d": [
           {
            "line": {
             "colorbar": {
              "outlinewidth": 0,
              "ticks": ""
             }
            },
            "marker": {
             "colorbar": {
              "outlinewidth": 0,
              "ticks": ""
             }
            },
            "type": "scatter3d"
           }
          ],
          "scattercarpet": [
           {
            "marker": {
             "colorbar": {
              "outlinewidth": 0,
              "ticks": ""
             }
            },
            "type": "scattercarpet"
           }
          ],
          "scattergeo": [
           {
            "marker": {
             "colorbar": {
              "outlinewidth": 0,
              "ticks": ""
             }
            },
            "type": "scattergeo"
           }
          ],
          "scattergl": [
           {
            "marker": {
             "colorbar": {
              "outlinewidth": 0,
              "ticks": ""
             }
            },
            "type": "scattergl"
           }
          ],
          "scattermapbox": [
           {
            "marker": {
             "colorbar": {
              "outlinewidth": 0,
              "ticks": ""
             }
            },
            "type": "scattermapbox"
           }
          ],
          "scatterpolar": [
           {
            "marker": {
             "colorbar": {
              "outlinewidth": 0,
              "ticks": ""
             }
            },
            "type": "scatterpolar"
           }
          ],
          "scatterpolargl": [
           {
            "marker": {
             "colorbar": {
              "outlinewidth": 0,
              "ticks": ""
             }
            },
            "type": "scatterpolargl"
           }
          ],
          "scatterternary": [
           {
            "marker": {
             "colorbar": {
              "outlinewidth": 0,
              "ticks": ""
             }
            },
            "type": "scatterternary"
           }
          ],
          "surface": [
           {
            "colorbar": {
             "outlinewidth": 0,
             "ticks": ""
            },
            "colorscale": [
             [
              0,
              "#0d0887"
             ],
             [
              0.1111111111111111,
              "#46039f"
             ],
             [
              0.2222222222222222,
              "#7201a8"
             ],
             [
              0.3333333333333333,
              "#9c179e"
             ],
             [
              0.4444444444444444,
              "#bd3786"
             ],
             [
              0.5555555555555556,
              "#d8576b"
             ],
             [
              0.6666666666666666,
              "#ed7953"
             ],
             [
              0.7777777777777778,
              "#fb9f3a"
             ],
             [
              0.8888888888888888,
              "#fdca26"
             ],
             [
              1,
              "#f0f921"
             ]
            ],
            "type": "surface"
           }
          ],
          "table": [
           {
            "cells": {
             "fill": {
              "color": "#EBF0F8"
             },
             "line": {
              "color": "white"
             }
            },
            "header": {
             "fill": {
              "color": "#C8D4E3"
             },
             "line": {
              "color": "white"
             }
            },
            "type": "table"
           }
          ]
         },
         "layout": {
          "annotationdefaults": {
           "arrowcolor": "#2a3f5f",
           "arrowhead": 0,
           "arrowwidth": 1
          },
          "autotypenumbers": "strict",
          "coloraxis": {
           "colorbar": {
            "outlinewidth": 0,
            "ticks": ""
           }
          },
          "colorscale": {
           "diverging": [
            [
             0,
             "#8e0152"
            ],
            [
             0.1,
             "#c51b7d"
            ],
            [
             0.2,
             "#de77ae"
            ],
            [
             0.3,
             "#f1b6da"
            ],
            [
             0.4,
             "#fde0ef"
            ],
            [
             0.5,
             "#f7f7f7"
            ],
            [
             0.6,
             "#e6f5d0"
            ],
            [
             0.7,
             "#b8e186"
            ],
            [
             0.8,
             "#7fbc41"
            ],
            [
             0.9,
             "#4d9221"
            ],
            [
             1,
             "#276419"
            ]
           ],
           "sequential": [
            [
             0,
             "#0d0887"
            ],
            [
             0.1111111111111111,
             "#46039f"
            ],
            [
             0.2222222222222222,
             "#7201a8"
            ],
            [
             0.3333333333333333,
             "#9c179e"
            ],
            [
             0.4444444444444444,
             "#bd3786"
            ],
            [
             0.5555555555555556,
             "#d8576b"
            ],
            [
             0.6666666666666666,
             "#ed7953"
            ],
            [
             0.7777777777777778,
             "#fb9f3a"
            ],
            [
             0.8888888888888888,
             "#fdca26"
            ],
            [
             1,
             "#f0f921"
            ]
           ],
           "sequentialminus": [
            [
             0,
             "#0d0887"
            ],
            [
             0.1111111111111111,
             "#46039f"
            ],
            [
             0.2222222222222222,
             "#7201a8"
            ],
            [
             0.3333333333333333,
             "#9c179e"
            ],
            [
             0.4444444444444444,
             "#bd3786"
            ],
            [
             0.5555555555555556,
             "#d8576b"
            ],
            [
             0.6666666666666666,
             "#ed7953"
            ],
            [
             0.7777777777777778,
             "#fb9f3a"
            ],
            [
             0.8888888888888888,
             "#fdca26"
            ],
            [
             1,
             "#f0f921"
            ]
           ]
          },
          "colorway": [
           "#636efa",
           "#EF553B",
           "#00cc96",
           "#ab63fa",
           "#FFA15A",
           "#19d3f3",
           "#FF6692",
           "#B6E880",
           "#FF97FF",
           "#FECB52"
          ],
          "font": {
           "color": "#2a3f5f"
          },
          "geo": {
           "bgcolor": "white",
           "lakecolor": "white",
           "landcolor": "#E5ECF6",
           "showlakes": true,
           "showland": true,
           "subunitcolor": "white"
          },
          "hoverlabel": {
           "align": "left"
          },
          "hovermode": "closest",
          "mapbox": {
           "style": "light"
          },
          "paper_bgcolor": "white",
          "plot_bgcolor": "#E5ECF6",
          "polar": {
           "angularaxis": {
            "gridcolor": "white",
            "linecolor": "white",
            "ticks": ""
           },
           "bgcolor": "#E5ECF6",
           "radialaxis": {
            "gridcolor": "white",
            "linecolor": "white",
            "ticks": ""
           }
          },
          "scene": {
           "xaxis": {
            "backgroundcolor": "#E5ECF6",
            "gridcolor": "white",
            "gridwidth": 2,
            "linecolor": "white",
            "showbackground": true,
            "ticks": "",
            "zerolinecolor": "white"
           },
           "yaxis": {
            "backgroundcolor": "#E5ECF6",
            "gridcolor": "white",
            "gridwidth": 2,
            "linecolor": "white",
            "showbackground": true,
            "ticks": "",
            "zerolinecolor": "white"
           },
           "zaxis": {
            "backgroundcolor": "#E5ECF6",
            "gridcolor": "white",
            "gridwidth": 2,
            "linecolor": "white",
            "showbackground": true,
            "ticks": "",
            "zerolinecolor": "white"
           }
          },
          "shapedefaults": {
           "line": {
            "color": "#2a3f5f"
           }
          },
          "ternary": {
           "aaxis": {
            "gridcolor": "white",
            "linecolor": "white",
            "ticks": ""
           },
           "baxis": {
            "gridcolor": "white",
            "linecolor": "white",
            "ticks": ""
           },
           "bgcolor": "#E5ECF6",
           "caxis": {
            "gridcolor": "white",
            "linecolor": "white",
            "ticks": ""
           }
          },
          "title": {
           "x": 0.05
          },
          "xaxis": {
           "automargin": true,
           "gridcolor": "white",
           "linecolor": "white",
           "ticks": "",
           "title": {
            "standoff": 15
           },
           "zerolinecolor": "white",
           "zerolinewidth": 2
          },
          "yaxis": {
           "automargin": true,
           "gridcolor": "white",
           "linecolor": "white",
           "ticks": "",
           "title": {
            "standoff": 15
           },
           "zerolinecolor": "white",
           "zerolinewidth": 2
          }
         }
        },
        "title": {
         "text": "Customers Affected by Outages"
        },
        "xaxis": {
         "anchor": "y",
         "domain": [
          0,
          1
         ],
         "title": {
          "text": "CUSTOMERS.AFFECTED"
         }
        },
        "yaxis": {
         "anchor": "x",
         "domain": [
          0,
          1
         ],
         "title": {
          "text": "probability"
         }
        }
       }
      }
     },
     "metadata": {},
     "output_type": "display_data"
    }
   ],
   "source": [
    "fig = px.histogram(outage_clean, x=\"CUSTOMERS.AFFECTED\", histnorm='probability',\n",
    "                   title=\"Customers Affected by Outages\")\n",
    "fig.show()"
   ]
  },
  {
   "cell_type": "code",
   "execution_count": null,
   "metadata": {},
   "outputs": [],
   "source": [
    "fig.write_html('univariate.html', include_plotlyjs='cdn')"
   ]
  },
  {
   "attachments": {},
   "cell_type": "markdown",
   "metadata": {},
   "source": [
    "**Univariate Analysis:**\n",
    "\n",
    "Customers affected by Outages shows that it is more likely that fewer customers will be affected. Meaning that an outage that affects the  maximum amount of customers is much rarer than outages that affect the minimum amount of cutsomers."
   ]
  },
  {
   "cell_type": "code",
   "execution_count": 8,
   "metadata": {},
   "outputs": [
    {
     "data": {
      "application/vnd.plotly.v1+json": {
       "config": {
        "plotlyServerURL": "https://plot.ly"
       },
       "data": [
        {
         "hovertemplate": "CUSTOMERS.AFFECTED=%{x}<br>OUTAGE.DURATION=%{y}<extra></extra>",
         "legendgroup": "",
         "marker": {
          "color": "#636efa",
          "symbol": "circle"
         },
         "mode": "markers",
         "name": "",
         "showlegend": false,
         "type": "scattergl",
         "x": [
          70000,
          null,
          70000,
          68200,
          250000,
          60000,
          63000,
          300000,
          5941,
          400000,
          193000,
          200000,
          0,
          0,
          55951,
          null,
          null,
          null,
          64000,
          57000,
          null,
          50001,
          0,
          null,
          null,
          null,
          106300,
          63000,
          56475,
          null,
          null,
          73000,
          215,
          50000,
          38500,
          105000,
          null,
          null,
          null,
          80000,
          63000,
          136000,
          65904,
          null,
          null,
          null,
          null,
          0,
          null,
          null,
          null,
          48000,
          7000,
          null,
          null,
          52000,
          null,
          0,
          110000,
          7600,
          63000,
          0,
          null,
          null,
          120000,
          null,
          null,
          51160,
          null,
          null,
          66383,
          208000,
          265000,
          113000,
          53000,
          245000,
          null,
          145314,
          60000,
          2100000,
          425000,
          78213,
          150000,
          164000,
          140000,
          70793,
          134288,
          60000,
          69000,
          75000,
          105000,
          118000,
          201580,
          325325,
          118000,
          131000,
          160000,
          0,
          50000,
          133777,
          125000,
          248209,
          162000,
          160895,
          210517,
          111000,
          247847,
          68000,
          null,
          50000,
          285000,
          86915,
          122000,
          65562,
          50114,
          null,
          252089,
          2,
          137000,
          80000,
          null,
          53000,
          130000,
          182000,
          0,
          50000,
          60175,
          146500,
          101000,
          null,
          239663,
          230000,
          150000,
          111393,
          250000,
          138802,
          75000,
          358000,
          127534,
          122600,
          140735,
          66000,
          160000,
          156627,
          0,
          114711,
          99188,
          85000,
          159870,
          75000,
          72520,
          100000,
          99000,
          272355,
          315000,
          190000,
          58156,
          82000,
          168000,
          0,
          197166,
          103000,
          129607,
          138000,
          138000,
          56000,
          105000,
          65000,
          30000,
          null,
          86013,
          52000,
          3314,
          null,
          null,
          119000,
          57000,
          454000,
          null,
          489478,
          126000,
          79741,
          null,
          null,
          118000,
          0,
          108000,
          238000,
          null,
          96000,
          280982,
          98700,
          null,
          79000,
          0,
          200000,
          85000,
          200000,
          null,
          null,
          68530,
          67000,
          2142678,
          null,
          130252,
          60000,
          0,
          262000,
          null,
          null,
          null,
          192000,
          71823,
          0,
          73000,
          0,
          64801,
          211266,
          62000,
          null,
          null,
          83000,
          100000,
          70000,
          214864,
          80000,
          null,
          null,
          219681,
          78000,
          2000000,
          500000,
          null,
          715000,
          null,
          100000,
          1069730,
          51404,
          175000,
          43000,
          881000,
          85000,
          68000,
          17311,
          488689,
          null,
          0,
          0,
          238392,
          340350,
          null,
          null,
          24506,
          158000,
          234393,
          89000,
          0,
          73000,
          120377,
          null,
          null,
          0,
          63000,
          null,
          171117,
          0,
          57531,
          123000,
          2504366,
          9000,
          61000,
          0,
          36073,
          null,
          113247,
          null,
          null,
          500000,
          null,
          82000,
          132000,
          81586,
          70000,
          415103,
          300000,
          800000,
          65000,
          62500,
          100000,
          157019,
          null,
          null,
          243000,
          114000,
          null,
          127000,
          null,
          135000,
          61705,
          0,
          9700,
          124000,
          9700,
          50000,
          9700,
          null,
          75065,
          7500,
          201000,
          null,
          61705,
          56000,
          9800,
          82621,
          0,
          114791,
          61413,
          94345,
          186000,
          86615,
          215387,
          70000,
          null,
          9600,
          52702,
          null,
          0,
          null,
          141000,
          63000,
          null,
          53000,
          9700,
          53700,
          null,
          58000,
          null,
          75000,
          65000,
          160000,
          60000,
          75000,
          111644,
          null,
          null,
          10000,
          null,
          0,
          0,
          300000,
          101830,
          629590,
          109000,
          192106,
          181000,
          190000,
          471932,
          400000,
          51500,
          121000,
          420000,
          245000,
          127000,
          169000,
          320000,
          11000,
          330000,
          109000,
          283451,
          300000,
          72000,
          157000,
          80000,
          653000,
          71500,
          200000,
          65400,
          237000,
          135000,
          115000,
          51000,
          239567,
          null,
          165000,
          325000,
          127000,
          130000,
          169000,
          170519,
          190000,
          500000,
          125000,
          null,
          68800,
          null,
          null,
          null,
          92090,
          null,
          250000,
          null,
          null,
          null,
          null,
          0,
          null,
          0,
          145000,
          63992,
          null,
          null,
          426000,
          null,
          null,
          76300,
          110433,
          null,
          0,
          null,
          0,
          null,
          105000,
          null,
          null,
          0,
          null,
          0,
          0,
          null,
          140000,
          56000,
          null,
          500000,
          0,
          93300,
          0,
          0,
          null,
          0,
          160000,
          0,
          null,
          null,
          89000,
          8000,
          null,
          123535,
          null,
          0,
          null,
          null,
          null,
          0,
          null,
          null,
          null,
          0,
          300000,
          null,
          null,
          175000,
          null,
          null,
          null,
          200000,
          null,
          null,
          null,
          null,
          null,
          null,
          0,
          null,
          0,
          null,
          172060,
          123827,
          75000,
          null,
          50000,
          0,
          null,
          null,
          700000,
          null,
          187000,
          null,
          null,
          64000,
          null,
          null,
          160000,
          null,
          null,
          null,
          null,
          47000,
          null,
          null,
          null,
          140000,
          null,
          null,
          null,
          40911,
          0,
          null,
          2713,
          null,
          null,
          null,
          null,
          null,
          null,
          null,
          69000,
          null,
          30000,
          90000,
          60000,
          70000,
          60000,
          108000,
          122000,
          180000,
          87600,
          null,
          0,
          0,
          0,
          null,
          0,
          null,
          108000,
          null,
          null,
          104195,
          93000,
          0,
          null,
          null,
          55118,
          0,
          297700,
          0,
          650000,
          234326,
          null,
          70000,
          86390,
          0,
          null,
          1,
          219000,
          1,
          181000,
          110000,
          0,
          133000,
          0,
          null,
          65000,
          249408,
          0,
          85091,
          138000,
          null,
          0,
          0,
          153000,
          155183,
          124000,
          760113,
          600000,
          null,
          64943,
          null,
          167564,
          50000,
          120000,
          null,
          null,
          57000,
          146721,
          198000,
          400000,
          146094,
          111555,
          52000,
          64500,
          143000,
          200717,
          142315,
          0,
          82861,
          105312,
          185000,
          109335,
          93837,
          200000,
          62000,
          213000,
          850000,
          124596,
          118000,
          null,
          105000,
          177528,
          264000,
          715000,
          null,
          160875,
          132000,
          65112,
          55000,
          492955,
          62159,
          null,
          43903,
          120001,
          144000,
          168449,
          null,
          0,
          106000,
          284000,
          65000,
          95630,
          312359,
          0,
          270000,
          35000,
          355000,
          223000,
          null,
          null,
          78000,
          181700,
          null,
          110,
          375000,
          76000,
          383000,
          190000,
          0,
          18000,
          3500,
          0,
          0,
          null,
          null,
          null,
          null,
          null,
          37,
          0,
          5763,
          85179,
          0,
          0,
          null,
          null,
          0,
          null,
          0,
          null,
          74031,
          60000,
          0,
          0,
          0,
          null,
          0,
          null,
          0,
          0,
          null,
          0,
          0,
          null,
          null,
          null,
          null,
          0,
          null,
          0,
          null,
          null,
          281000,
          null,
          127000,
          null,
          0,
          0,
          null,
          null,
          95000,
          45000,
          134500,
          175000,
          107833,
          67000,
          184000,
          246990,
          122314,
          1203000,
          0,
          211000,
          0,
          null,
          null,
          57054,
          150000,
          56000,
          0,
          0,
          50636,
          0,
          564728,
          59106,
          0,
          184000,
          245164,
          2000,
          23000,
          0,
          52747,
          48102,
          86000,
          346000,
          null,
          100000,
          60000,
          72000,
          220000,
          12000,
          null,
          70135,
          6100,
          200000,
          1200,
          103776,
          69106,
          203345,
          50718,
          130000,
          null,
          1200,
          null,
          340000,
          71000,
          61000,
          51600,
          53000,
          12000,
          29376,
          50000,
          112000,
          136000,
          61377,
          0,
          175000,
          0,
          47000,
          null,
          285465,
          50000,
          57000,
          320000,
          4196,
          370900,
          0,
          156338,
          100000,
          650000,
          null,
          197000,
          135000,
          0,
          95400,
          73000,
          248800,
          156729,
          0,
          140000,
          263000,
          50900,
          0,
          130000,
          75654,
          0,
          null,
          50000,
          0,
          0,
          150000,
          205000,
          null,
          217000,
          180000,
          67900,
          665000,
          221000,
          null,
          379000,
          360000,
          125000,
          50465,
          677858,
          120124,
          133000,
          150000,
          81000,
          677858,
          9000,
          2500,
          71000,
          null,
          null,
          0,
          null,
          3,
          null,
          null,
          249500,
          null,
          null,
          0,
          null,
          null,
          111000,
          0,
          null,
          0,
          null,
          84500,
          null,
          0,
          null,
          null,
          97651,
          220000,
          76729,
          530000,
          210000,
          52000,
          null,
          40000,
          425000,
          101003,
          null,
          83000,
          null,
          62500,
          null,
          null,
          0,
          63000,
          53000,
          20000,
          70000,
          55000,
          0,
          0,
          100000,
          56444,
          95000,
          18400,
          0,
          null,
          null,
          0,
          0,
          0,
          0,
          0,
          null,
          0,
          null,
          0,
          null,
          0,
          null,
          0,
          0,
          0,
          null,
          null,
          0,
          0,
          null,
          null,
          null,
          0,
          0,
          0,
          null,
          null,
          null,
          0,
          0,
          0,
          65000,
          null,
          null,
          null,
          0,
          0,
          null,
          140000,
          null,
          null,
          0,
          null,
          215000,
          21000,
          null,
          null,
          null,
          160000,
          632816,
          818000,
          152261,
          null,
          null,
          116000,
          145000,
          0,
          59000,
          300000,
          56645,
          null,
          0,
          18600,
          null,
          null,
          190000,
          null,
          null,
          61795,
          null,
          74300,
          173000,
          60000,
          0,
          54316,
          null,
          null,
          68000,
          null,
          3125350,
          0,
          null,
          null,
          50000,
          null,
          137000,
          100000,
          153000,
          null,
          55000,
          0,
          200000,
          150000,
          null,
          null,
          null,
          50280,
          18600,
          99700,
          65000,
          180000,
          null,
          null,
          0,
          61000,
          0,
          120000,
          50000,
          null,
          250000,
          371000,
          null,
          null,
          null,
          161151,
          18600,
          25000,
          null,
          null,
          null,
          null,
          59057,
          null,
          null,
          1100000,
          null,
          null,
          85000,
          null,
          287000,
          null,
          1,
          null,
          57184,
          143000,
          11000,
          11000,
          null,
          null,
          246092,
          null,
          null,
          150000,
          50000,
          190000,
          null,
          95000,
          50000,
          null,
          null,
          null,
          21800,
          28000,
          242910,
          null,
          125000,
          68018,
          null,
          null,
          0,
          440000,
          0,
          0,
          584384,
          430000,
          0,
          25000,
          50000,
          105000,
          150000,
          0,
          0,
          1200000,
          179000,
          42124,
          null,
          0,
          0,
          53965,
          31000,
          2775093,
          0,
          101950,
          37,
          110000,
          78000,
          84900,
          56000,
          47661,
          722000,
          104498,
          832898,
          32593,
          285300,
          268000,
          3241437,
          26000,
          502000,
          0,
          23000,
          26000,
          87000,
          20900,
          16500,
          null,
          null,
          null,
          null,
          null,
          0,
          null,
          null,
          128050,
          124000,
          900000,
          null,
          148000,
          37784,
          null,
          6810,
          79000,
          null,
          2500,
          null,
          150000,
          null,
          15000,
          null,
          26000,
          0,
          null,
          null,
          150000,
          290000,
          10000,
          850068,
          null,
          70000,
          null,
          null,
          null,
          10008,
          407440,
          477,
          50000,
          130000,
          null,
          null,
          727,
          484,
          0,
          1,
          48400,
          58850,
          94000,
          433,
          null,
          55655,
          null,
          442000,
          30000,
          89500,
          null,
          null,
          null,
          null,
          null,
          null,
          4300,
          160000,
          100000,
          1271893,
          0,
          80000,
          0,
          80000,
          null,
          null,
          505000,
          null,
          null,
          409000,
          65255,
          null,
          null,
          null,
          939000,
          6800,
          2606931,
          null,
          null,
          null,
          null,
          109750,
          null,
          null,
          0,
          7077,
          null,
          null,
          1700000,
          255000,
          59458,
          95000,
          147223,
          0,
          50000,
          2035,
          241000,
          426,
          108000,
          null,
          78164,
          null,
          null,
          9956,
          182000,
          null,
          null,
          null,
          430984,
          859554,
          null,
          null,
          65000,
          70,
          null,
          165000,
          null,
          140000,
          1667316,
          null,
          280000,
          0,
          385000,
          125000,
          0,
          55677,
          1,
          484,
          127,
          133900,
          32000,
          null,
          null,
          0,
          4,
          2650,
          null,
          5314,
          null,
          null,
          73514,
          null,
          0,
          null,
          420,
          null,
          200000,
          54332,
          6635,
          70,
          128000,
          2674,
          null,
          null,
          940,
          20345,
          null,
          0,
          null,
          70848,
          91690,
          null,
          300000,
          90323,
          263000,
          null,
          25000,
          104000,
          638,
          1400000,
          158977,
          null,
          null,
          null,
          1500000,
          null,
          1400000,
          68780,
          9956,
          0,
          7077,
          123000,
          null,
          1,
          80000,
          null,
          null,
          115500,
          null,
          0,
          1,
          null,
          60000,
          null,
          null,
          null,
          0,
          671189,
          null,
          120000,
          400000,
          null,
          111818,
          null,
          215700,
          null,
          null,
          64951,
          null,
          null,
          null,
          13000,
          null,
          7935,
          25159,
          0,
          13000,
          null,
          43000,
          null,
          8000,
          50797,
          null,
          57200,
          9200,
          null,
          null,
          115000,
          51580,
          0,
          88000,
          null,
          88110,
          52739,
          67000,
          37000,
          60000,
          119000,
          150084,
          156000,
          56000,
          175000,
          107000,
          55000,
          81000,
          600000,
          880000,
          null,
          119000,
          145157,
          217000,
          253800,
          114618,
          233000,
          130000,
          75000,
          80000,
          58500,
          67000,
          null,
          50000,
          126000,
          283000,
          190000,
          null,
          126000,
          120212,
          15000,
          35500,
          0,
          0,
          null,
          null,
          null,
          0,
          null,
          500000,
          null,
          null,
          0,
          null,
          null,
          null,
          0,
          0,
          null,
          null,
          null,
          0,
          0,
          0,
          47165,
          82000,
          30689,
          150000,
          218783,
          93828,
          52659,
          186035,
          109000,
          80539,
          83450,
          66445,
          102000,
          373835,
          85455,
          169000,
          null,
          0,
          null,
          158000,
          50752,
          null,
          0,
          56400,
          75000,
          null,
          0,
          67000,
          50100,
          null,
          50246,
          224912,
          0,
          null,
          52000,
          54476,
          0,
          1881134,
          112000,
          14500,
          68705,
          null,
          null,
          256663,
          50500,
          96966,
          null,
          35000,
          54000,
          41306,
          null,
          127000,
          92748,
          0,
          56874,
          55609,
          1500,
          null,
          54000,
          80000,
          29250,
          50000,
          0,
          0,
          130000,
          50000,
          null,
          50000,
          50000,
          380000,
          50500,
          null,
          null,
          300000,
          0,
          1,
          0,
          0,
          0,
          0,
          127545,
          null,
          0,
          0,
          131000,
          63000,
          169757,
          50462,
          60863,
          null,
          52500,
          0,
          0,
          110000,
          50000,
          117142,
          50000,
          0,
          0,
          0,
          null,
          0,
          0,
          0,
          null,
          102568,
          0,
          null,
          0,
          0,
          0,
          1100,
          0,
          null,
          null,
          110000,
          0,
          35230,
          0,
          0,
          204000,
          86058,
          null,
          null,
          0,
          null,
          31000,
          null,
          30379,
          0,
          65000,
          0,
          270000,
          null,
          0,
          70000,
          95000,
          0,
          null,
          110000,
          211000,
          294000,
          62000,
          59886,
          29300,
          291000,
          null,
          0,
          35000,
          0,
          0,
          null,
          0,
          0,
          null,
          34500,
          null,
          null,
          null,
          14273
         ],
         "xaxis": "x",
         "y": [
          3060,
          1,
          3000,
          2550,
          1740,
          1860,
          2970,
          3960,
          155,
          3621,
          7740,
          8880,
          0,
          1322,
          60,
          19,
          0,
          21,
          196,
          840,
          935,
          1260,
          null,
          619,
          150,
          762,
          0,
          660,
          1,
          2700,
          1,
          4921,
          95,
          251,
          4125,
          2550,
          null,
          1200,
          310,
          2818,
          5054,
          136,
          528,
          150,
          46,
          1,
          1920,
          null,
          32,
          null,
          135,
          3000,
          32,
          108653,
          8468,
          960,
          44,
          1605,
          4410,
          388,
          480,
          1219,
          90,
          18660,
          538,
          104,
          60,
          1272,
          60,
          1,
          1000,
          17339,
          9576,
          3090,
          6510,
          5820,
          1078,
          1513,
          4830,
          3051,
          4200,
          2085,
          5730,
          4290,
          2670,
          3540,
          3637,
          1710,
          4320,
          3915,
          3120,
          4590,
          7530,
          5034,
          8160,
          3300,
          4320,
          1770,
          9857,
          4080,
          5670,
          5700,
          1995,
          300,
          5115,
          2670,
          7650,
          4338,
          761,
          5760,
          2820,
          4110,
          3360,
          3015,
          232,
          11525,
          6420,
          46080,
          5700,
          5610,
          78377,
          270,
          4050,
          5865,
          1,
          2325,
          4170,
          4485,
          2694,
          168,
          5580,
          705,
          11850,
          3494,
          4560,
          2760,
          5760,
          8922,
          6030,
          7800,
          4242,
          3120,
          5700,
          900,
          1046,
          7620,
          3630,
          1260,
          5840,
          5790,
          2820,
          600,
          4259,
          2939,
          7080,
          3600,
          1588,
          4260,
          2700,
          200,
          8430,
          85,
          9150,
          1019,
          420,
          1140,
          7440,
          4458,
          373,
          1203,
          868,
          1455,
          206,
          1195,
          1559,
          900,
          2690,
          5115,
          5,
          189,
          2142,
          360,
          null,
          225,
          2340,
          480,
          9486,
          480,
          3000,
          300,
          3020,
          766,
          null,
          1335,
          197,
          245,
          3255,
          12180,
          1077,
          600,
          186,
          690,
          27698,
          402,
          2420,
          327,
          1,
          1860,
          220,
          455,
          318,
          757,
          847,
          410,
          215,
          5,
          570,
          12124,
          2655,
          20160,
          1440,
          600,
          39,
          181,
          1185,
          1500,
          0,
          271,
          1860,
          1200,
          2159,
          6300,
          null,
          1620,
          224,
          70,
          1697,
          95,
          2220,
          null,
          7809,
          1200,
          121,
          63,
          5595,
          1,
          557,
          240,
          3360,
          685,
          2280,
          210,
          167,
          1920,
          3569,
          3300,
          10,
          1560,
          840,
          240,
          990,
          6000,
          17865,
          1282,
          1080,
          7540,
          1320,
          1110,
          27698,
          130,
          3040,
          394,
          10140,
          20160,
          21540,
          45,
          1,
          1200,
          550,
          900,
          885,
          940,
          null,
          3050,
          1830,
          6000,
          1500,
          150,
          1955,
          2220,
          330,
          74,
          420,
          1440,
          255,
          1060,
          12240,
          5250,
          4320,
          120,
          233,
          null,
          65,
          2120,
          96,
          3,
          4320,
          65,
          2146,
          96,
          4032,
          2580,
          6,
          569,
          0,
          15950,
          200,
          1980,
          4045,
          2730,
          3314,
          7319,
          1,
          47,
          1440,
          276,
          0,
          0,
          3646,
          1130,
          2880,
          513,
          35,
          23773,
          10,
          3872,
          23187,
          12240,
          390,
          null,
          3264,
          1230,
          803,
          77,
          30,
          300,
          1,
          5,
          1450,
          2680,
          null,
          7609,
          150,
          3000,
          420,
          479,
          1680,
          2700,
          149,
          1110,
          2790,
          659,
          1320,
          1830,
          3000,
          null,
          870,
          810,
          1336,
          1695,
          360,
          360,
          120,
          3000,
          1290,
          1530,
          2370,
          1200,
          1200,
          90,
          120,
          1200,
          2761,
          720,
          1120,
          2100,
          960,
          450,
          1440,
          1020,
          0,
          2010,
          120,
          9230,
          1240,
          465,
          0,
          2460,
          1183,
          8880,
          394,
          219,
          487,
          19,
          28,
          0,
          1,
          5340,
          8940,
          467,
          0,
          1920,
          0,
          25,
          420,
          2040,
          0,
          1,
          1423,
          60,
          1620,
          3300,
          385,
          663,
          123,
          1276,
          1919,
          null,
          440,
          6690,
          null,
          0,
          null,
          717,
          1204,
          292,
          313,
          1,
          5,
          6276,
          0,
          74,
          0,
          null,
          248,
          1,
          2700,
          25,
          126,
          1,
          255,
          1207,
          0,
          0,
          245,
          476,
          null,
          null,
          null,
          1,
          2639,
          502,
          548,
          369,
          6480,
          15,
          5,
          null,
          1,
          0,
          432,
          21,
          1697,
          0,
          2615,
          9630,
          3507,
          2820,
          314,
          5855,
          0,
          0,
          1,
          22769,
          70,
          4285,
          355,
          0,
          2520,
          0,
          180,
          554,
          50,
          70,
          180,
          3842,
          35,
          1,
          189,
          49320,
          4200,
          353,
          1,
          87,
          66,
          null,
          1,
          227,
          null,
          1440,
          1,
          2700,
          null,
          49320,
          2,
          215,
          451,
          418,
          100,
          2021,
          1671,
          3938,
          4470,
          2279,
          4440,
          2760,
          0,
          1,
          0,
          1,
          1840,
          428,
          331,
          1980,
          1,
          1,
          1950,
          3037,
          1,
          1,
          1196,
          5628,
          1440,
          7700,
          2,
          12890,
          4232,
          95,
          2610,
          4320,
          17,
          113,
          0,
          2507,
          0,
          1,
          4920,
          1,
          4080,
          0,
          960,
          185,
          1320,
          1673,
          2855,
          3060,
          565,
          1,
          1,
          7298,
          5790,
          3040,
          11700,
          7987,
          304,
          4517,
          0,
          3058,
          13381,
          2865,
          152,
          380,
          9450,
          7803,
          5579,
          8979,
          4800,
          3060,
          4792,
          3894,
          1757,
          2880,
          2985,
          164,
          3232,
          2319,
          4338,
          2880,
          1714,
          90,
          59,
          4139,
          10530,
          6938,
          930,
          278,
          299,
          5320,
          2880,
          1,
          4260,
          6713,
          5160,
          1440,
          78,
          7523,
          2668,
          1,
          376,
          1324,
          6940,
          2684,
          54,
          100,
          720,
          2880,
          3189,
          2790,
          13679,
          2843,
          13488,
          1642,
          7709,
          7080,
          1440,
          1,
          1680,
          1579,
          652,
          108,
          300,
          1020,
          3570,
          6492,
          23700,
          10499,
          15180,
          0,
          120,
          1,
          1,
          1,
          1,
          1,
          1,
          60,
          113,
          204,
          31,
          57,
          13,
          2,
          11,
          283,
          0,
          1,
          871,
          1631,
          56,
          15,
          15,
          20,
          60,
          1,
          95,
          300,
          1,
          3186,
          575,
          2275,
          15,
          1,
          44,
          21,
          1,
          114,
          1,
          60,
          4920,
          null,
          4920,
          420,
          0,
          7,
          21,
          340,
          4200,
          805,
          5040,
          7430,
          5490,
          165,
          3630,
          11640,
          1590,
          3137,
          1440,
          7920,
          360,
          0,
          1440,
          1372,
          6480,
          2190,
          285,
          75,
          1843,
          1,
          11531,
          1420,
          0,
          930,
          11420,
          0,
          352,
          0,
          960,
          1733,
          3690,
          10619,
          634,
          11280,
          1440,
          180,
          1574,
          45,
          563,
          388,
          373,
          4510,
          290,
          1950,
          270,
          1355,
          1318,
          2490,
          1265,
          195,
          3120,
          3388,
          1025,
          990,
          240,
          1485,
          129,
          0,
          1528,
          1890,
          2551,
          985,
          405,
          1698,
          167,
          1460,
          182,
          4113,
          null,
          885,
          15,
          42,
          1050,
          1,
          132,
          4140,
          2880,
          null,
          11430,
          3599,
          0,
          2941,
          null,
          6090,
          1365,
          375,
          2520,
          10080,
          76,
          0,
          3720,
          333,
          0,
          353,
          11337,
          0,
          0,
          7020,
          11058,
          null,
          9360,
          3300,
          3339,
          2880,
          11580,
          9600,
          13201,
          9719,
          488,
          2415,
          180,
          4177,
          7440,
          3480,
          6600,
          300,
          1526,
          60,
          210,
          2,
          1350,
          73,
          1,
          200,
          0,
          null,
          4380,
          0,
          120,
          2680,
          840,
          989,
          4313,
          214,
          4,
          164,
          91,
          1050,
          838,
          60,
          1,
          1,
          9886,
          2425,
          390,
          14500,
          6660,
          159,
          54,
          30,
          8077,
          855,
          65,
          810,
          4150,
          4740,
          25,
          0,
          null,
          2070,
          870,
          12652,
          2880,
          120,
          1199,
          null,
          1470,
          4140,
          15420,
          50,
          0,
          1,
          1,
          0,
          0,
          0,
          457,
          1,
          1,
          0,
          30,
          1,
          1,
          65,
          1,
          0,
          0,
          0,
          1,
          null,
          1,
          0,
          1,
          1,
          110,
          39,
          1,
          1,
          1,
          1,
          1,
          1,
          507,
          213,
          4254,
          1,
          1,
          53,
          0,
          0,
          251,
          347,
          1637,
          21360,
          2161,
          2880,
          1044,
          8670,
          56,
          93,
          13,
          2089,
          20280,
          14639,
          2880,
          681,
          494,
          1,
          5355,
          0,
          3943,
          3300,
          191,
          0,
          73,
          4680,
          17310,
          10080,
          10726,
          1,
          5,
          2515,
          25920,
          2730,
          9480,
          5400,
          30,
          3584,
          3600,
          5850,
          4710,
          1,
          1732,
          0,
          23040,
          1800,
          6074,
          null,
          49,
          2299,
          5760,
          420,
          7320,
          2880,
          448,
          2520,
          18717,
          5513,
          21,
          2100,
          3120,
          8221,
          3240,
          2880,
          255,
          2355,
          161,
          50,
          258,
          13140,
          8640,
          18240,
          15492,
          8268,
          0,
          300,
          14400,
          7962,
          2400,
          11296,
          48,
          60480,
          28170,
          300,
          8054,
          2775,
          2775,
          2160,
          2100,
          2775,
          3180,
          2775,
          1440,
          430,
          2129,
          1755,
          null,
          692,
          732,
          7,
          510,
          420,
          13215,
          557,
          300,
          17812,
          20416,
          6240,
          467,
          3067,
          3060,
          355,
          430,
          300,
          227,
          52,
          null,
          2880,
          18804,
          1867,
          1690,
          295,
          17,
          240,
          17520,
          8189,
          182,
          5820,
          83,
          230,
          2009,
          720,
          155,
          4320,
          4320,
          480,
          1005,
          221,
          372,
          13430,
          4320,
          91,
          1419,
          3600,
          10080,
          5071,
          152,
          6840,
          221,
          24780,
          38,
          61,
          7560,
          90,
          10380,
          396,
          2040,
          12060,
          1080,
          1680,
          13920,
          14101,
          1099,
          2460,
          540,
          52,
          816,
          420,
          155,
          437,
          247,
          540,
          1135,
          437,
          180,
          171,
          656,
          84,
          202,
          255,
          1054,
          1,
          1254,
          1456,
          177,
          106,
          32,
          2464,
          55,
          144,
          70,
          64,
          8873,
          945,
          null,
          523,
          56,
          3,
          8472,
          155,
          33,
          749,
          159,
          null,
          270,
          2790,
          224,
          1470,
          334,
          2050,
          370,
          26,
          797,
          12,
          195,
          1,
          230,
          125,
          15,
          316,
          365,
          1560,
          4740,
          294,
          455,
          2878,
          336,
          295,
          480,
          25,
          null,
          223,
          2645,
          2016,
          7371,
          360,
          3408,
          3698,
          4890,
          1,
          871,
          2759,
          250,
          3301,
          249,
          164,
          435,
          420,
          854,
          5160,
          133,
          15180,
          2055,
          451,
          140,
          199,
          721,
          179,
          1524,
          78,
          268,
          39,
          1,
          14190,
          47,
          161,
          900,
          6070,
          697,
          234,
          14,
          5910,
          null,
          34390,
          40,
          166,
          182,
          829,
          15,
          64,
          13,
          245,
          1080,
          null,
          390,
          47,
          269,
          null,
          400,
          660,
          213,
          null,
          761,
          8100,
          180,
          124,
          4320,
          2820,
          3100,
          49427,
          989,
          125,
          44,
          26,
          245,
          null,
          98,
          1,
          0,
          135,
          50,
          1008,
          53,
          554,
          1260,
          2895,
          89,
          98,
          865,
          128,
          230,
          252,
          130,
          5,
          157,
          6914,
          11,
          13,
          2880,
          270,
          962,
          47,
          null,
          20,
          108,
          9855,
          75,
          17,
          21,
          1950,
          11867,
          141,
          959,
          1035,
          617,
          1230,
          572,
          324,
          1835,
          6780,
          900,
          null,
          37,
          72,
          1,
          251,
          620,
          89,
          909,
          236,
          326,
          300,
          751,
          122,
          214,
          193,
          8,
          5227,
          null,
          1414,
          448,
          4605,
          4080,
          null,
          1914,
          759,
          1,
          10274,
          3,
          2700,
          105,
          240,
          210,
          1,
          1201,
          30,
          2806,
          1226,
          300,
          206,
          270,
          2880,
          513,
          8160,
          3314,
          414,
          126,
          60,
          285,
          110,
          62,
          2363,
          424,
          180,
          0,
          448,
          2,
          624,
          2435,
          131,
          null,
          208,
          103,
          1355,
          1523,
          90,
          1205,
          385,
          144,
          235,
          241,
          6787,
          1337,
          1673,
          3366,
          2640,
          1826,
          570,
          1565,
          2691,
          1072,
          115,
          816,
          168,
          30,
          160,
          485,
          1508,
          1301,
          159,
          60,
          4,
          9600,
          106,
          0,
          0,
          1,
          32,
          61,
          314,
          30,
          0,
          92,
          390,
          161,
          60,
          76,
          1,
          1,
          160,
          20,
          1,
          1,
          70,
          50,
          15,
          810,
          1380,
          1800,
          1560,
          2054,
          1452,
          1865,
          1999,
          120,
          1950,
          360,
          1087,
          1200,
          4122,
          360,
          645,
          108,
          0,
          1,
          1440,
          4560,
          1,
          1,
          110,
          210,
          120,
          0,
          4260,
          76,
          210,
          3305,
          5880,
          145,
          60,
          2640,
          1042,
          110,
          11880,
          2245,
          984,
          7200,
          1381,
          148,
          13972,
          null,
          796,
          300,
          null,
          2612,
          3000,
          431,
          5310,
          1732,
          0,
          6685,
          3300,
          280,
          117,
          2895,
          480,
          31,
          1,
          0,
          0,
          103,
          4745,
          307,
          1656,
          3525,
          374,
          1068,
          1569,
          114,
          115,
          15,
          2891,
          1,
          1676,
          0,
          0,
          3604,
          195,
          1,
          0,
          2108,
          198,
          3667,
          1037,
          673,
          null,
          2652,
          300,
          881,
          618,
          1187,
          950,
          2535,
          27,
          108,
          73,
          200,
          5,
          75,
          0,
          77,
          660,
          0,
          92,
          30,
          33,
          1895,
          274,
          1,
          1534,
          1,
          60,
          108,
          2,
          175,
          null,
          2040,
          2710,
          284,
          105,
          4019,
          1,
          391,
          439,
          5,
          201,
          2140,
          103,
          null,
          187,
          1406,
          348,
          13650,
          90,
          913,
          null,
          14040,
          1367,
          174,
          543,
          237,
          1906,
          224,
          0,
          95,
          360,
          1548,
          870,
          0,
          null,
          220,
          720,
          null,
          59,
          181,
          null
         ],
         "yaxis": "y"
        }
       ],
       "layout": {
        "legend": {
         "tracegroupgap": 0
        },
        "template": {
         "data": {
          "bar": [
           {
            "error_x": {
             "color": "#2a3f5f"
            },
            "error_y": {
             "color": "#2a3f5f"
            },
            "marker": {
             "line": {
              "color": "#E5ECF6",
              "width": 0.5
             },
             "pattern": {
              "fillmode": "overlay",
              "size": 10,
              "solidity": 0.2
             }
            },
            "type": "bar"
           }
          ],
          "barpolar": [
           {
            "marker": {
             "line": {
              "color": "#E5ECF6",
              "width": 0.5
             },
             "pattern": {
              "fillmode": "overlay",
              "size": 10,
              "solidity": 0.2
             }
            },
            "type": "barpolar"
           }
          ],
          "carpet": [
           {
            "aaxis": {
             "endlinecolor": "#2a3f5f",
             "gridcolor": "white",
             "linecolor": "white",
             "minorgridcolor": "white",
             "startlinecolor": "#2a3f5f"
            },
            "baxis": {
             "endlinecolor": "#2a3f5f",
             "gridcolor": "white",
             "linecolor": "white",
             "minorgridcolor": "white",
             "startlinecolor": "#2a3f5f"
            },
            "type": "carpet"
           }
          ],
          "choropleth": [
           {
            "colorbar": {
             "outlinewidth": 0,
             "ticks": ""
            },
            "type": "choropleth"
           }
          ],
          "contour": [
           {
            "colorbar": {
             "outlinewidth": 0,
             "ticks": ""
            },
            "colorscale": [
             [
              0,
              "#0d0887"
             ],
             [
              0.1111111111111111,
              "#46039f"
             ],
             [
              0.2222222222222222,
              "#7201a8"
             ],
             [
              0.3333333333333333,
              "#9c179e"
             ],
             [
              0.4444444444444444,
              "#bd3786"
             ],
             [
              0.5555555555555556,
              "#d8576b"
             ],
             [
              0.6666666666666666,
              "#ed7953"
             ],
             [
              0.7777777777777778,
              "#fb9f3a"
             ],
             [
              0.8888888888888888,
              "#fdca26"
             ],
             [
              1,
              "#f0f921"
             ]
            ],
            "type": "contour"
           }
          ],
          "contourcarpet": [
           {
            "colorbar": {
             "outlinewidth": 0,
             "ticks": ""
            },
            "type": "contourcarpet"
           }
          ],
          "heatmap": [
           {
            "colorbar": {
             "outlinewidth": 0,
             "ticks": ""
            },
            "colorscale": [
             [
              0,
              "#0d0887"
             ],
             [
              0.1111111111111111,
              "#46039f"
             ],
             [
              0.2222222222222222,
              "#7201a8"
             ],
             [
              0.3333333333333333,
              "#9c179e"
             ],
             [
              0.4444444444444444,
              "#bd3786"
             ],
             [
              0.5555555555555556,
              "#d8576b"
             ],
             [
              0.6666666666666666,
              "#ed7953"
             ],
             [
              0.7777777777777778,
              "#fb9f3a"
             ],
             [
              0.8888888888888888,
              "#fdca26"
             ],
             [
              1,
              "#f0f921"
             ]
            ],
            "type": "heatmap"
           }
          ],
          "heatmapgl": [
           {
            "colorbar": {
             "outlinewidth": 0,
             "ticks": ""
            },
            "colorscale": [
             [
              0,
              "#0d0887"
             ],
             [
              0.1111111111111111,
              "#46039f"
             ],
             [
              0.2222222222222222,
              "#7201a8"
             ],
             [
              0.3333333333333333,
              "#9c179e"
             ],
             [
              0.4444444444444444,
              "#bd3786"
             ],
             [
              0.5555555555555556,
              "#d8576b"
             ],
             [
              0.6666666666666666,
              "#ed7953"
             ],
             [
              0.7777777777777778,
              "#fb9f3a"
             ],
             [
              0.8888888888888888,
              "#fdca26"
             ],
             [
              1,
              "#f0f921"
             ]
            ],
            "type": "heatmapgl"
           }
          ],
          "histogram": [
           {
            "marker": {
             "pattern": {
              "fillmode": "overlay",
              "size": 10,
              "solidity": 0.2
             }
            },
            "type": "histogram"
           }
          ],
          "histogram2d": [
           {
            "colorbar": {
             "outlinewidth": 0,
             "ticks": ""
            },
            "colorscale": [
             [
              0,
              "#0d0887"
             ],
             [
              0.1111111111111111,
              "#46039f"
             ],
             [
              0.2222222222222222,
              "#7201a8"
             ],
             [
              0.3333333333333333,
              "#9c179e"
             ],
             [
              0.4444444444444444,
              "#bd3786"
             ],
             [
              0.5555555555555556,
              "#d8576b"
             ],
             [
              0.6666666666666666,
              "#ed7953"
             ],
             [
              0.7777777777777778,
              "#fb9f3a"
             ],
             [
              0.8888888888888888,
              "#fdca26"
             ],
             [
              1,
              "#f0f921"
             ]
            ],
            "type": "histogram2d"
           }
          ],
          "histogram2dcontour": [
           {
            "colorbar": {
             "outlinewidth": 0,
             "ticks": ""
            },
            "colorscale": [
             [
              0,
              "#0d0887"
             ],
             [
              0.1111111111111111,
              "#46039f"
             ],
             [
              0.2222222222222222,
              "#7201a8"
             ],
             [
              0.3333333333333333,
              "#9c179e"
             ],
             [
              0.4444444444444444,
              "#bd3786"
             ],
             [
              0.5555555555555556,
              "#d8576b"
             ],
             [
              0.6666666666666666,
              "#ed7953"
             ],
             [
              0.7777777777777778,
              "#fb9f3a"
             ],
             [
              0.8888888888888888,
              "#fdca26"
             ],
             [
              1,
              "#f0f921"
             ]
            ],
            "type": "histogram2dcontour"
           }
          ],
          "mesh3d": [
           {
            "colorbar": {
             "outlinewidth": 0,
             "ticks": ""
            },
            "type": "mesh3d"
           }
          ],
          "parcoords": [
           {
            "line": {
             "colorbar": {
              "outlinewidth": 0,
              "ticks": ""
             }
            },
            "type": "parcoords"
           }
          ],
          "pie": [
           {
            "automargin": true,
            "type": "pie"
           }
          ],
          "scatter": [
           {
            "fillpattern": {
             "fillmode": "overlay",
             "size": 10,
             "solidity": 0.2
            },
            "type": "scatter"
           }
          ],
          "scatter3d": [
           {
            "line": {
             "colorbar": {
              "outlinewidth": 0,
              "ticks": ""
             }
            },
            "marker": {
             "colorbar": {
              "outlinewidth": 0,
              "ticks": ""
             }
            },
            "type": "scatter3d"
           }
          ],
          "scattercarpet": [
           {
            "marker": {
             "colorbar": {
              "outlinewidth": 0,
              "ticks": ""
             }
            },
            "type": "scattercarpet"
           }
          ],
          "scattergeo": [
           {
            "marker": {
             "colorbar": {
              "outlinewidth": 0,
              "ticks": ""
             }
            },
            "type": "scattergeo"
           }
          ],
          "scattergl": [
           {
            "marker": {
             "colorbar": {
              "outlinewidth": 0,
              "ticks": ""
             }
            },
            "type": "scattergl"
           }
          ],
          "scattermapbox": [
           {
            "marker": {
             "colorbar": {
              "outlinewidth": 0,
              "ticks": ""
             }
            },
            "type": "scattermapbox"
           }
          ],
          "scatterpolar": [
           {
            "marker": {
             "colorbar": {
              "outlinewidth": 0,
              "ticks": ""
             }
            },
            "type": "scatterpolar"
           }
          ],
          "scatterpolargl": [
           {
            "marker": {
             "colorbar": {
              "outlinewidth": 0,
              "ticks": ""
             }
            },
            "type": "scatterpolargl"
           }
          ],
          "scatterternary": [
           {
            "marker": {
             "colorbar": {
              "outlinewidth": 0,
              "ticks": ""
             }
            },
            "type": "scatterternary"
           }
          ],
          "surface": [
           {
            "colorbar": {
             "outlinewidth": 0,
             "ticks": ""
            },
            "colorscale": [
             [
              0,
              "#0d0887"
             ],
             [
              0.1111111111111111,
              "#46039f"
             ],
             [
              0.2222222222222222,
              "#7201a8"
             ],
             [
              0.3333333333333333,
              "#9c179e"
             ],
             [
              0.4444444444444444,
              "#bd3786"
             ],
             [
              0.5555555555555556,
              "#d8576b"
             ],
             [
              0.6666666666666666,
              "#ed7953"
             ],
             [
              0.7777777777777778,
              "#fb9f3a"
             ],
             [
              0.8888888888888888,
              "#fdca26"
             ],
             [
              1,
              "#f0f921"
             ]
            ],
            "type": "surface"
           }
          ],
          "table": [
           {
            "cells": {
             "fill": {
              "color": "#EBF0F8"
             },
             "line": {
              "color": "white"
             }
            },
            "header": {
             "fill": {
              "color": "#C8D4E3"
             },
             "line": {
              "color": "white"
             }
            },
            "type": "table"
           }
          ]
         },
         "layout": {
          "annotationdefaults": {
           "arrowcolor": "#2a3f5f",
           "arrowhead": 0,
           "arrowwidth": 1
          },
          "autotypenumbers": "strict",
          "coloraxis": {
           "colorbar": {
            "outlinewidth": 0,
            "ticks": ""
           }
          },
          "colorscale": {
           "diverging": [
            [
             0,
             "#8e0152"
            ],
            [
             0.1,
             "#c51b7d"
            ],
            [
             0.2,
             "#de77ae"
            ],
            [
             0.3,
             "#f1b6da"
            ],
            [
             0.4,
             "#fde0ef"
            ],
            [
             0.5,
             "#f7f7f7"
            ],
            [
             0.6,
             "#e6f5d0"
            ],
            [
             0.7,
             "#b8e186"
            ],
            [
             0.8,
             "#7fbc41"
            ],
            [
             0.9,
             "#4d9221"
            ],
            [
             1,
             "#276419"
            ]
           ],
           "sequential": [
            [
             0,
             "#0d0887"
            ],
            [
             0.1111111111111111,
             "#46039f"
            ],
            [
             0.2222222222222222,
             "#7201a8"
            ],
            [
             0.3333333333333333,
             "#9c179e"
            ],
            [
             0.4444444444444444,
             "#bd3786"
            ],
            [
             0.5555555555555556,
             "#d8576b"
            ],
            [
             0.6666666666666666,
             "#ed7953"
            ],
            [
             0.7777777777777778,
             "#fb9f3a"
            ],
            [
             0.8888888888888888,
             "#fdca26"
            ],
            [
             1,
             "#f0f921"
            ]
           ],
           "sequentialminus": [
            [
             0,
             "#0d0887"
            ],
            [
             0.1111111111111111,
             "#46039f"
            ],
            [
             0.2222222222222222,
             "#7201a8"
            ],
            [
             0.3333333333333333,
             "#9c179e"
            ],
            [
             0.4444444444444444,
             "#bd3786"
            ],
            [
             0.5555555555555556,
             "#d8576b"
            ],
            [
             0.6666666666666666,
             "#ed7953"
            ],
            [
             0.7777777777777778,
             "#fb9f3a"
            ],
            [
             0.8888888888888888,
             "#fdca26"
            ],
            [
             1,
             "#f0f921"
            ]
           ]
          },
          "colorway": [
           "#636efa",
           "#EF553B",
           "#00cc96",
           "#ab63fa",
           "#FFA15A",
           "#19d3f3",
           "#FF6692",
           "#B6E880",
           "#FF97FF",
           "#FECB52"
          ],
          "font": {
           "color": "#2a3f5f"
          },
          "geo": {
           "bgcolor": "white",
           "lakecolor": "white",
           "landcolor": "#E5ECF6",
           "showlakes": true,
           "showland": true,
           "subunitcolor": "white"
          },
          "hoverlabel": {
           "align": "left"
          },
          "hovermode": "closest",
          "mapbox": {
           "style": "light"
          },
          "paper_bgcolor": "white",
          "plot_bgcolor": "#E5ECF6",
          "polar": {
           "angularaxis": {
            "gridcolor": "white",
            "linecolor": "white",
            "ticks": ""
           },
           "bgcolor": "#E5ECF6",
           "radialaxis": {
            "gridcolor": "white",
            "linecolor": "white",
            "ticks": ""
           }
          },
          "scene": {
           "xaxis": {
            "backgroundcolor": "#E5ECF6",
            "gridcolor": "white",
            "gridwidth": 2,
            "linecolor": "white",
            "showbackground": true,
            "ticks": "",
            "zerolinecolor": "white"
           },
           "yaxis": {
            "backgroundcolor": "#E5ECF6",
            "gridcolor": "white",
            "gridwidth": 2,
            "linecolor": "white",
            "showbackground": true,
            "ticks": "",
            "zerolinecolor": "white"
           },
           "zaxis": {
            "backgroundcolor": "#E5ECF6",
            "gridcolor": "white",
            "gridwidth": 2,
            "linecolor": "white",
            "showbackground": true,
            "ticks": "",
            "zerolinecolor": "white"
           }
          },
          "shapedefaults": {
           "line": {
            "color": "#2a3f5f"
           }
          },
          "ternary": {
           "aaxis": {
            "gridcolor": "white",
            "linecolor": "white",
            "ticks": ""
           },
           "baxis": {
            "gridcolor": "white",
            "linecolor": "white",
            "ticks": ""
           },
           "bgcolor": "#E5ECF6",
           "caxis": {
            "gridcolor": "white",
            "linecolor": "white",
            "ticks": ""
           }
          },
          "title": {
           "x": 0.05
          },
          "xaxis": {
           "automargin": true,
           "gridcolor": "white",
           "linecolor": "white",
           "ticks": "",
           "title": {
            "standoff": 15
           },
           "zerolinecolor": "white",
           "zerolinewidth": 2
          },
          "yaxis": {
           "automargin": true,
           "gridcolor": "white",
           "linecolor": "white",
           "ticks": "",
           "title": {
            "standoff": 15
           },
           "zerolinecolor": "white",
           "zerolinewidth": 2
          }
         }
        },
        "title": {
         "text": "Customers Affected by Outage Duration in Minutes"
        },
        "xaxis": {
         "anchor": "y",
         "domain": [
          0,
          1
         ],
         "title": {
          "text": "CUSTOMERS.AFFECTED"
         }
        },
        "yaxis": {
         "anchor": "x",
         "domain": [
          0,
          1
         ],
         "title": {
          "text": "OUTAGE.DURATION"
         }
        }
       }
      }
     },
     "metadata": {},
     "output_type": "display_data"
    }
   ],
   "source": [
    "fig = px.scatter(outage_clean, x=\"CUSTOMERS.AFFECTED\", y=\"OUTAGE.DURATION\", \n",
    "                    title='Customers Affected by Outage Duration in Minutes')\n",
    "fig.show()"
   ]
  },
  {
   "cell_type": "code",
   "execution_count": null,
   "metadata": {},
   "outputs": [],
   "source": [
    "fig.write_html('bivariate.html', include_plotlyjs='cdn')"
   ]
  },
  {
   "cell_type": "code",
   "execution_count": 9,
   "metadata": {},
   "outputs": [
    {
     "data": {
      "application/vnd.plotly.v1+json": {
       "config": {
        "plotlyServerURL": "https://plot.ly"
       },
       "data": [
        {
         "alignmentgroup": "True",
         "hovertemplate": "OUTAGE.DURATION=%{x}<br>CLIMATE.REGION=%{y}<extra></extra>",
         "legendgroup": "",
         "marker": {
          "color": "#636efa"
         },
         "name": "",
         "notched": false,
         "offsetgroup": "",
         "orientation": "h",
         "showlegend": false,
         "type": "box",
         "x": [
          3060,
          1,
          3000,
          2550,
          1740,
          1860,
          2970,
          3960,
          155,
          3621,
          7740,
          8880,
          0,
          1322,
          60,
          19,
          0,
          21,
          196,
          840,
          935,
          1260,
          null,
          619,
          150,
          762,
          0,
          660,
          1,
          2700,
          1,
          4921,
          95,
          251,
          4125,
          2550,
          null,
          1200,
          310,
          2818,
          5054,
          136,
          528,
          150,
          46,
          1,
          1920,
          null,
          32,
          null,
          135,
          3000,
          32,
          108653,
          8468,
          960,
          44,
          1605,
          4410,
          388,
          480,
          1219,
          90,
          18660,
          538,
          104,
          60,
          1272,
          60,
          1,
          1000,
          17339,
          9576,
          3090,
          6510,
          5820,
          1078,
          1513,
          4830,
          3051,
          4200,
          2085,
          5730,
          4290,
          2670,
          3540,
          3637,
          1710,
          4320,
          3915,
          3120,
          4590,
          7530,
          5034,
          8160,
          3300,
          4320,
          1770,
          9857,
          4080,
          5670,
          5700,
          1995,
          300,
          5115,
          2670,
          7650,
          4338,
          761,
          5760,
          2820,
          4110,
          3360,
          3015,
          232,
          11525,
          6420,
          46080,
          5700,
          5610,
          78377,
          270,
          4050,
          5865,
          1,
          2325,
          4170,
          4485,
          2694,
          168,
          5580,
          705,
          11850,
          3494,
          4560,
          2760,
          5760,
          8922,
          6030,
          7800,
          4242,
          3120,
          5700,
          900,
          1046,
          7620,
          3630,
          1260,
          5840,
          5790,
          2820,
          600,
          4259,
          2939,
          7080,
          3600,
          1588,
          4260,
          2700,
          200,
          8430,
          85,
          9150,
          1019,
          420,
          1140,
          7440,
          4458,
          373,
          1203,
          868,
          1455,
          206,
          1195,
          1559,
          900,
          2690,
          5115,
          5,
          189,
          2142,
          360,
          null,
          225,
          2340,
          480,
          9486,
          480,
          3000,
          300,
          3020,
          766,
          null,
          1335,
          197,
          245,
          3255,
          12180,
          1077,
          600,
          186,
          690,
          27698,
          402,
          2420,
          327,
          1,
          1860,
          220,
          455,
          318,
          757,
          847,
          410,
          215,
          5,
          570,
          12124,
          2655,
          20160,
          1440,
          600,
          39,
          181,
          1185,
          1500,
          0,
          271,
          1860,
          1200,
          2159,
          6300,
          null,
          1620,
          224,
          70,
          1697,
          95,
          2220,
          null,
          7809,
          1200,
          121,
          63,
          5595,
          1,
          557,
          240,
          3360,
          685,
          2280,
          210,
          167,
          1920,
          3569,
          3300,
          10,
          1560,
          840,
          240,
          990,
          6000,
          17865,
          1282,
          1080,
          7540,
          1320,
          1110,
          27698,
          130,
          3040,
          394,
          10140,
          20160,
          21540,
          45,
          1,
          1200,
          550,
          900,
          885,
          940,
          null,
          3050,
          1830,
          6000,
          1500,
          150,
          1955,
          2220,
          330,
          74,
          420,
          1440,
          255,
          1060,
          12240,
          5250,
          4320,
          120,
          233,
          null,
          65,
          2120,
          96,
          3,
          4320,
          65,
          2146,
          96,
          4032,
          2580,
          6,
          569,
          0,
          15950,
          200,
          1980,
          4045,
          2730,
          3314,
          7319,
          1,
          47,
          1440,
          276,
          0,
          0,
          3646,
          1130,
          2880,
          513,
          35,
          23773,
          10,
          3872,
          23187,
          12240,
          390,
          null,
          3264,
          1230,
          803,
          77,
          30,
          300,
          1,
          5,
          1450,
          2680,
          null,
          7609,
          150,
          3000,
          420,
          479,
          1680,
          2700,
          149,
          1110,
          2790,
          659,
          1320,
          1830,
          3000,
          null,
          870,
          810,
          1336,
          1695,
          360,
          360,
          120,
          3000,
          1290,
          1530,
          2370,
          1200,
          1200,
          90,
          120,
          1200,
          2761,
          720,
          1120,
          2100,
          960,
          450,
          1440,
          1020,
          0,
          2010,
          120,
          9230,
          1240,
          465,
          0,
          2460,
          1183,
          8880,
          394,
          219,
          487,
          19,
          28,
          0,
          1,
          5340,
          8940,
          467,
          0,
          1920,
          0,
          25,
          420,
          2040,
          0,
          1,
          1423,
          60,
          1620,
          3300,
          385,
          663,
          123,
          1276,
          1919,
          null,
          440,
          6690,
          null,
          0,
          null,
          717,
          1204,
          292,
          313,
          1,
          5,
          6276,
          0,
          74,
          0,
          null,
          248,
          1,
          2700,
          25,
          126,
          1,
          255,
          1207,
          0,
          0,
          245,
          476,
          null,
          null,
          null,
          1,
          2639,
          502,
          548,
          369,
          6480,
          15,
          5,
          null,
          1,
          0,
          432,
          21,
          1697,
          0,
          2615,
          9630,
          3507,
          2820,
          314,
          5855,
          0,
          0,
          1,
          22769,
          70,
          4285,
          355,
          0,
          2520,
          0,
          180,
          554,
          50,
          70,
          180,
          3842,
          35,
          1,
          189,
          49320,
          4200,
          353,
          1,
          87,
          66,
          null,
          1,
          227,
          null,
          1440,
          1,
          2700,
          null,
          49320,
          2,
          215,
          451,
          418,
          100,
          2021,
          1671,
          3938,
          4470,
          2279,
          4440,
          2760,
          0,
          1,
          0,
          1,
          1840,
          428,
          331,
          1980,
          1,
          1,
          1950,
          3037,
          1,
          1,
          1196,
          5628,
          1440,
          7700,
          2,
          12890,
          4232,
          95,
          2610,
          4320,
          17,
          113,
          0,
          2507,
          0,
          1,
          4920,
          1,
          4080,
          0,
          960,
          185,
          1320,
          1673,
          2855,
          3060,
          565,
          1,
          1,
          7298,
          5790,
          3040,
          11700,
          7987,
          304,
          4517,
          0,
          3058,
          13381,
          2865,
          152,
          380,
          9450,
          7803,
          5579,
          8979,
          4800,
          3060,
          4792,
          3894,
          1757,
          2880,
          2985,
          164,
          3232,
          2319,
          4338,
          2880,
          1714,
          90,
          59,
          4139,
          10530,
          6938,
          930,
          278,
          299,
          5320,
          2880,
          1,
          4260,
          6713,
          5160,
          1440,
          78,
          7523,
          2668,
          1,
          376,
          1324,
          6940,
          2684,
          54,
          100,
          720,
          2880,
          3189,
          2790,
          13679,
          2843,
          13488,
          1642,
          7709,
          7080,
          1440,
          1,
          1680,
          1579,
          652,
          108,
          300,
          1020,
          3570,
          6492,
          23700,
          10499,
          15180,
          0,
          120,
          1,
          1,
          1,
          1,
          1,
          1,
          60,
          113,
          204,
          31,
          57,
          13,
          2,
          11,
          283,
          0,
          1,
          871,
          1631,
          56,
          15,
          15,
          20,
          60,
          1,
          95,
          300,
          1,
          3186,
          575,
          2275,
          15,
          1,
          44,
          21,
          1,
          114,
          1,
          60,
          4920,
          null,
          4920,
          420,
          0,
          7,
          21,
          340,
          4200,
          805,
          5040,
          7430,
          5490,
          165,
          3630,
          11640,
          1590,
          3137,
          1440,
          7920,
          360,
          0,
          1440,
          1372,
          6480,
          2190,
          285,
          75,
          1843,
          1,
          11531,
          1420,
          0,
          930,
          11420,
          0,
          352,
          0,
          960,
          1733,
          3690,
          10619,
          634,
          11280,
          1440,
          180,
          1574,
          45,
          563,
          388,
          373,
          4510,
          290,
          1950,
          270,
          1355,
          1318,
          2490,
          1265,
          195,
          3120,
          3388,
          1025,
          990,
          240,
          1485,
          129,
          0,
          1528,
          1890,
          2551,
          985,
          405,
          1698,
          167,
          1460,
          182,
          4113,
          null,
          885,
          15,
          42,
          1050,
          1,
          132,
          4140,
          2880,
          null,
          11430,
          3599,
          0,
          2941,
          null,
          6090,
          1365,
          375,
          2520,
          10080,
          76,
          0,
          3720,
          333,
          0,
          353,
          11337,
          0,
          0,
          7020,
          11058,
          null,
          9360,
          3300,
          3339,
          2880,
          11580,
          9600,
          13201,
          9719,
          488,
          2415,
          180,
          4177,
          7440,
          3480,
          6600,
          300,
          1526,
          60,
          210,
          2,
          1350,
          73,
          1,
          200,
          0,
          null,
          4380,
          0,
          120,
          2680,
          840,
          989,
          4313,
          214,
          4,
          164,
          91,
          1050,
          838,
          60,
          1,
          1,
          9886,
          2425,
          390,
          14500,
          6660,
          159,
          54,
          30,
          8077,
          855,
          65,
          810,
          4150,
          4740,
          25,
          0,
          null,
          2070,
          870,
          12652,
          2880,
          120,
          1199,
          null,
          1470,
          4140,
          15420,
          50,
          0,
          1,
          1,
          0,
          0,
          0,
          457,
          1,
          1,
          0,
          30,
          1,
          1,
          65,
          1,
          0,
          0,
          0,
          1,
          null,
          1,
          0,
          1,
          1,
          110,
          39,
          1,
          1,
          1,
          1,
          1,
          1,
          507,
          213,
          4254,
          1,
          1,
          53,
          0,
          0,
          251,
          347,
          1637,
          21360,
          2161,
          2880,
          1044,
          8670,
          56,
          93,
          13,
          2089,
          20280,
          14639,
          2880,
          681,
          494,
          1,
          5355,
          0,
          3943,
          3300,
          191,
          0,
          73,
          4680,
          17310,
          10080,
          10726,
          1,
          5,
          2515,
          25920,
          2730,
          9480,
          5400,
          30,
          3584,
          3600,
          5850,
          4710,
          1,
          1732,
          0,
          23040,
          1800,
          6074,
          null,
          49,
          2299,
          5760,
          420,
          7320,
          2880,
          448,
          2520,
          18717,
          5513,
          21,
          2100,
          3120,
          8221,
          3240,
          2880,
          255,
          2355,
          161,
          50,
          258,
          13140,
          8640,
          18240,
          15492,
          8268,
          0,
          300,
          14400,
          7962,
          2400,
          11296,
          48,
          60480,
          28170,
          300,
          8054,
          2775,
          2775,
          2160,
          2100,
          2775,
          3180,
          2775,
          1440,
          430,
          2129,
          1755,
          null,
          692,
          732,
          7,
          510,
          420,
          13215,
          557,
          300,
          17812,
          20416,
          6240,
          467,
          3067,
          3060,
          355,
          430,
          300,
          227,
          52,
          null,
          2880,
          18804,
          1867,
          1690,
          295,
          17,
          240,
          17520,
          8189,
          182,
          5820,
          83,
          230,
          2009,
          720,
          155,
          4320,
          4320,
          480,
          1005,
          221,
          372,
          13430,
          4320,
          91,
          1419,
          3600,
          10080,
          5071,
          152,
          6840,
          221,
          24780,
          38,
          61,
          7560,
          90,
          10380,
          396,
          2040,
          12060,
          1080,
          1680,
          13920,
          14101,
          1099,
          2460,
          540,
          52,
          816,
          420,
          155,
          437,
          247,
          540,
          1135,
          437,
          180,
          171,
          656,
          84,
          202,
          255,
          1054,
          1,
          1254,
          1456,
          177,
          106,
          32,
          2464,
          55,
          144,
          70,
          64,
          8873,
          945,
          null,
          523,
          56,
          3,
          8472,
          155,
          33,
          749,
          159,
          null,
          270,
          2790,
          224,
          1470,
          334,
          2050,
          370,
          26,
          797,
          12,
          195,
          1,
          230,
          125,
          15,
          316,
          365,
          1560,
          4740,
          294,
          455,
          2878,
          336,
          295,
          480,
          25,
          null,
          223,
          2645,
          2016,
          7371,
          360,
          3408,
          3698,
          4890,
          1,
          871,
          2759,
          250,
          3301,
          249,
          164,
          435,
          420,
          854,
          5160,
          133,
          15180,
          2055,
          451,
          140,
          199,
          721,
          179,
          1524,
          78,
          268,
          39,
          1,
          14190,
          47,
          161,
          900,
          6070,
          697,
          234,
          14,
          5910,
          null,
          34390,
          40,
          166,
          182,
          829,
          15,
          64,
          13,
          245,
          1080,
          null,
          390,
          47,
          269,
          null,
          400,
          660,
          213,
          null,
          761,
          8100,
          180,
          124,
          4320,
          2820,
          3100,
          49427,
          989,
          125,
          44,
          26,
          245,
          null,
          98,
          1,
          0,
          135,
          50,
          1008,
          53,
          554,
          1260,
          2895,
          89,
          98,
          865,
          128,
          230,
          252,
          130,
          5,
          157,
          6914,
          11,
          13,
          2880,
          270,
          962,
          47,
          null,
          20,
          108,
          9855,
          75,
          17,
          21,
          1950,
          11867,
          141,
          959,
          1035,
          617,
          1230,
          572,
          324,
          1835,
          6780,
          900,
          null,
          37,
          72,
          1,
          251,
          620,
          89,
          909,
          236,
          326,
          300,
          751,
          122,
          214,
          193,
          8,
          5227,
          null,
          1414,
          448,
          4605,
          4080,
          null,
          1914,
          759,
          1,
          10274,
          3,
          2700,
          105,
          240,
          210,
          1,
          1201,
          30,
          2806,
          1226,
          300,
          206,
          270,
          2880,
          513,
          8160,
          3314,
          414,
          126,
          60,
          285,
          110,
          62,
          2363,
          424,
          180,
          0,
          448,
          2,
          624,
          2435,
          131,
          null,
          208,
          103,
          1355,
          1523,
          90,
          1205,
          385,
          144,
          235,
          241,
          6787,
          1337,
          1673,
          3366,
          2640,
          1826,
          570,
          1565,
          2691,
          1072,
          115,
          816,
          168,
          30,
          160,
          485,
          1508,
          1301,
          159,
          60,
          4,
          9600,
          106,
          0,
          0,
          1,
          32,
          61,
          314,
          30,
          0,
          92,
          390,
          161,
          60,
          76,
          1,
          1,
          160,
          20,
          1,
          1,
          70,
          50,
          15,
          810,
          1380,
          1800,
          1560,
          2054,
          1452,
          1865,
          1999,
          120,
          1950,
          360,
          1087,
          1200,
          4122,
          360,
          645,
          108,
          0,
          1,
          1440,
          4560,
          1,
          1,
          110,
          210,
          120,
          0,
          4260,
          76,
          210,
          3305,
          5880,
          145,
          60,
          2640,
          1042,
          110,
          11880,
          2245,
          984,
          7200,
          1381,
          148,
          13972,
          null,
          796,
          300,
          null,
          2612,
          3000,
          431,
          5310,
          1732,
          0,
          6685,
          3300,
          280,
          117,
          2895,
          480,
          31,
          1,
          0,
          0,
          103,
          4745,
          307,
          1656,
          3525,
          374,
          1068,
          1569,
          114,
          115,
          15,
          2891,
          1,
          1676,
          0,
          0,
          3604,
          195,
          1,
          0,
          2108,
          198,
          3667,
          1037,
          673,
          null,
          2652,
          300,
          881,
          618,
          1187,
          950,
          2535,
          27,
          108,
          73,
          200,
          5,
          75,
          0,
          77,
          660,
          0,
          92,
          30,
          33,
          1895,
          274,
          1,
          1534,
          1,
          60,
          108,
          2,
          175,
          null,
          2040,
          2710,
          284,
          105,
          4019,
          1,
          391,
          439,
          5,
          201,
          2140,
          103,
          null,
          187,
          1406,
          348,
          13650,
          90,
          913,
          null,
          14040,
          1367,
          174,
          543,
          237,
          1906,
          224,
          0,
          95,
          360,
          1548,
          870,
          0,
          null,
          220,
          720,
          null,
          59,
          181,
          null
         ],
         "x0": " ",
         "xaxis": "x",
         "y": [
          "East North Central",
          "East North Central",
          "East North Central",
          "East North Central",
          "East North Central",
          "East North Central",
          "East North Central",
          "East North Central",
          "East North Central",
          "East North Central",
          "East North Central",
          "East North Central",
          "East North Central",
          "East North Central",
          "East North Central",
          "Central",
          "Central",
          "Central",
          "Central",
          "Central",
          "Central",
          "Central",
          "Central",
          "Central",
          "Central",
          "Central",
          "Central",
          "Central",
          "Central",
          "Central",
          "Central",
          "Central",
          "Central",
          "Central",
          "Central",
          "Central",
          "Central",
          "Central",
          "Central",
          "Central",
          "Central",
          "Central",
          "Central",
          "Central",
          "Central",
          "Central",
          "Central",
          "Central",
          "Central",
          "East North Central",
          "East North Central",
          "East North Central",
          "East North Central",
          "East North Central",
          "East North Central",
          "East North Central",
          "East North Central",
          "East North Central",
          "East North Central",
          "East North Central",
          "East North Central",
          "East North Central",
          "East North Central",
          "East North Central",
          "East North Central",
          "East North Central",
          "East North Central",
          "East North Central",
          "East North Central",
          "Central",
          "Central",
          "Central",
          "Central",
          "East North Central",
          "East North Central",
          "East North Central",
          "East North Central",
          "East North Central",
          "East North Central",
          "East North Central",
          "East North Central",
          "East North Central",
          "East North Central",
          "East North Central",
          "East North Central",
          "East North Central",
          "East North Central",
          "East North Central",
          "East North Central",
          "East North Central",
          "East North Central",
          "East North Central",
          "East North Central",
          "East North Central",
          "East North Central",
          "East North Central",
          "East North Central",
          "East North Central",
          "East North Central",
          "East North Central",
          "East North Central",
          "East North Central",
          "East North Central",
          "East North Central",
          "East North Central",
          "East North Central",
          "East North Central",
          "East North Central",
          "East North Central",
          "East North Central",
          "East North Central",
          "East North Central",
          "East North Central",
          "East North Central",
          "East North Central",
          "East North Central",
          "East North Central",
          "East North Central",
          "East North Central",
          "East North Central",
          "East North Central",
          "East North Central",
          "East North Central",
          "East North Central",
          "East North Central",
          "East North Central",
          "East North Central",
          "East North Central",
          "East North Central",
          "East North Central",
          "East North Central",
          "East North Central",
          "East North Central",
          "East North Central",
          "East North Central",
          "East North Central",
          "East North Central",
          "East North Central",
          "East North Central",
          "East North Central",
          "East North Central",
          "East North Central",
          "East North Central",
          "East North Central",
          "East North Central",
          "East North Central",
          "East North Central",
          "East North Central",
          "East North Central",
          "East North Central",
          "East North Central",
          "East North Central",
          "East North Central",
          "East North Central",
          "East North Central",
          "East North Central",
          "East North Central",
          "East North Central",
          "East North Central",
          "East North Central",
          "East North Central",
          "East North Central",
          "East North Central",
          "East North Central",
          "East North Central",
          "East North Central",
          "East North Central",
          "East North Central",
          "South",
          "South",
          "South",
          "South",
          "South",
          "South",
          "South",
          "South",
          "South",
          "South",
          "South",
          "South",
          "South",
          "South",
          "South",
          "South",
          "South",
          "South",
          "South",
          "South",
          "South",
          "South",
          "South",
          "South",
          "South",
          "South",
          "South",
          "South",
          "South",
          "South",
          "South",
          "South",
          "South",
          "South",
          "South",
          "South",
          "South",
          "South",
          "South",
          "South",
          "South",
          "South",
          "South",
          "South",
          "South",
          "South",
          "South",
          "South",
          "South",
          "South",
          "South",
          "South",
          "South",
          "South",
          "South",
          "South",
          "South",
          "South",
          "South",
          "South",
          "South",
          "South",
          "South",
          "South",
          "South",
          "South",
          "South",
          "South",
          "South",
          "South",
          "South",
          "South",
          "South",
          "South",
          "South",
          "South",
          "South",
          "South",
          "South",
          "South",
          "South",
          "South",
          "South",
          "South",
          "South",
          "South",
          "South",
          "South",
          "South",
          "South",
          "South",
          "South",
          "South",
          "South",
          "South",
          "South",
          "South",
          "South",
          "South",
          "South",
          "South",
          "South",
          "South",
          "South",
          "South",
          "South",
          "South",
          "South",
          "South",
          "South",
          "South",
          "South",
          "South",
          "South",
          "South",
          "South",
          "South",
          "South",
          "South",
          "South",
          "South",
          "South",
          "South",
          "South",
          "South",
          "South",
          "South",
          "Central",
          "Central",
          "Central",
          "Central",
          "Central",
          "Central",
          "Central",
          "Central",
          "Central",
          "Central",
          "Central",
          "Central",
          "Central",
          "Central",
          "Central",
          "Central",
          "Central",
          "Central",
          "Central",
          "Central",
          "Central",
          "Central",
          "Central",
          "Central",
          "Central",
          "Central",
          "Central",
          "Central",
          "Central",
          "Central",
          "Central",
          "Central",
          "Central",
          "Central",
          "Central",
          "Central",
          "Central",
          "Central",
          "Central",
          "Central",
          "Central",
          "Central",
          "Central",
          "Southeast",
          "Southeast",
          "Southeast",
          "Southeast",
          "Southeast",
          "Southeast",
          "South",
          "South",
          "South",
          "South",
          "Central",
          "Central",
          "Central",
          "Central",
          "Central",
          "Central",
          "Central",
          "Central",
          "Central",
          "Central",
          "Central",
          "Central",
          "Central",
          "Central",
          "Central",
          "Central",
          "Central",
          "Central",
          "Central",
          "Central",
          "Central",
          "Central",
          "Central",
          "Central",
          "Central",
          "Central",
          "Central",
          "Central",
          "Central",
          "Central",
          "Central",
          "Central",
          "Central",
          "Central",
          "Central",
          "Central",
          "Central",
          "Central",
          "Central",
          "Central",
          "Central",
          "Central",
          "Central",
          "Central",
          "Central",
          "Central",
          "Northwest",
          "Northwest",
          "Northwest",
          "Northwest",
          "Northwest",
          "Northwest",
          "Northwest",
          "Northwest",
          "Northwest",
          "Northwest",
          "Northwest",
          "Northwest",
          "Northwest",
          "Northwest",
          "Northwest",
          "Northwest",
          "Northwest",
          "Northwest",
          "Northwest",
          "Northwest",
          "Northwest",
          "Northwest",
          "Northwest",
          "Northwest",
          "Northwest",
          "Northwest",
          "Northwest",
          "Northwest",
          "Northwest",
          "Northwest",
          "Northwest",
          "Northwest",
          "Northwest",
          "Northwest",
          "Northwest",
          "Northwest",
          "Northwest",
          "Northwest",
          "Northwest",
          "Northwest",
          "Northwest",
          "Northwest",
          "Northwest",
          "Northwest",
          "Northwest",
          "Northwest",
          "Northwest",
          "Northwest",
          "Northwest",
          "Northwest",
          "Northwest",
          "Northwest",
          "Northwest",
          "Northwest",
          "Northwest",
          "Northwest",
          "Northwest",
          "Northwest",
          "Northwest",
          "Northwest",
          "Northwest",
          "Northwest",
          "Northwest",
          "Northwest",
          "Northwest",
          "Northwest",
          "Northwest",
          "Northwest",
          "Northwest",
          "Northwest",
          "Northwest",
          "Northwest",
          "Northwest",
          "Northwest",
          "Northwest",
          "Northwest",
          "Northwest",
          "Northwest",
          "Northwest",
          "Northwest",
          "Northwest",
          "Northwest",
          "Northwest",
          "Northwest",
          "Northwest",
          "Northwest",
          "Northwest",
          "Northwest",
          "Northwest",
          "Northwest",
          "Northwest",
          "Northwest",
          "Northwest",
          "Northwest",
          "Northwest",
          "Northwest",
          "Northwest",
          "Southwest",
          "Southwest",
          "Southwest",
          "Southwest",
          "Southwest",
          "Southwest",
          "Southwest",
          "Southwest",
          "Southwest",
          "Southwest",
          "Southwest",
          "Southwest",
          "Southwest",
          "Southwest",
          "Southwest",
          "Southwest",
          "Southwest",
          "Southwest",
          "Southwest",
          "Southwest",
          "Southwest",
          "Southwest",
          "Southwest",
          "Southwest",
          "Southwest",
          "Southwest",
          "Southwest",
          "Southwest",
          "Northeast",
          "Northeast",
          "Northeast",
          "Northeast",
          "Northeast",
          "Northeast",
          "Northeast",
          "Northeast",
          "Northeast",
          "Northeast",
          "Northeast",
          "Northeast",
          "Northeast",
          "Northeast",
          "Northeast",
          "Northeast",
          "Northeast",
          "Northeast",
          "Northeast",
          "Northeast",
          "Northeast",
          "Northeast",
          "Northeast",
          "Northeast",
          "Northeast",
          "Northeast",
          "Northeast",
          "Northeast",
          "Northeast",
          "Northeast",
          "Northeast",
          "Northeast",
          "Northeast",
          "Northeast",
          "Northeast",
          "Northeast",
          "Northeast",
          "Northeast",
          "Northeast",
          "Northeast",
          "Northeast",
          "Northeast",
          "Northeast",
          "Northeast",
          "Northeast",
          "Northeast",
          "Northeast",
          "Northeast",
          "Northeast",
          "Northeast",
          "Northeast",
          "Northeast",
          "Northeast",
          "Northeast",
          "Northeast",
          "Northeast",
          "Northeast",
          "Northeast",
          "Northeast",
          "Northeast",
          "Northeast",
          "Northeast",
          "Northeast",
          "Northeast",
          "Northeast",
          "Northeast",
          "Northeast",
          "Northeast",
          "Northeast",
          "Northeast",
          "Northeast",
          "Northeast",
          "Northeast",
          "Northeast",
          "Northeast",
          "Northeast",
          "Northeast",
          "Northeast",
          "Northeast",
          "Northeast",
          "Northeast",
          "Northeast",
          "Northeast",
          "Northeast",
          "Northeast",
          "Northeast",
          "Northeast",
          "Northeast",
          "Northeast",
          "Northeast",
          "Northeast",
          "Northeast",
          "Northeast",
          "Northeast",
          "Northeast",
          "Northeast",
          "Northeast",
          "Northeast",
          "Northeast",
          "Northeast",
          "Northeast",
          "Northeast",
          "Northeast",
          "Northeast",
          "Northeast",
          "Northeast",
          "Northeast",
          "Northeast",
          "Northeast",
          "Northeast",
          "Northeast",
          "Northeast",
          "Northeast",
          "Northeast",
          "Northeast",
          "Central",
          "Central",
          "Central",
          "Central",
          "Central",
          "Central",
          "Central",
          "Central",
          "Central",
          "Central",
          "Central",
          "Central",
          "Central",
          "Southwest",
          "Southwest",
          "Southwest",
          "Southwest",
          "Southwest",
          "Southwest",
          "Southwest",
          "Southwest",
          "Southwest",
          "Southwest",
          "Southwest",
          "Southwest",
          "Southwest",
          "Southwest",
          "Southwest",
          "Southwest",
          "Southwest",
          "Southwest",
          "Southwest",
          "Southwest",
          "Southwest",
          "Southwest",
          "Southwest",
          "Southwest",
          "Southwest",
          "Southwest",
          "Southwest",
          "Southwest",
          "Southwest",
          "Southwest",
          "Southwest",
          "Southwest",
          "Southwest",
          "Southwest",
          "Southwest",
          "Southwest",
          "Southwest",
          "Southwest",
          "Southwest",
          "Southwest",
          "Southwest",
          "Central",
          "Central",
          "Central",
          "Central",
          "Central",
          "Central",
          "Central",
          "Central",
          "Central",
          "Central",
          "Central",
          "Central",
          "Central",
          "Central",
          "Central",
          "Central",
          "Central",
          "Central",
          "Central",
          "Central",
          "Central",
          "Central",
          "Central",
          "Central",
          "Central",
          "Central",
          "Central",
          "Central",
          "Central",
          "Central",
          "Central",
          "Central",
          "Central",
          "Central",
          "Central",
          "Central",
          "Central",
          "Central",
          "Central",
          "Central",
          "Central",
          "Central",
          "Central",
          "Southeast",
          "Southeast",
          "Southeast",
          "Southeast",
          "Southeast",
          "Southeast",
          "Southeast",
          "Southeast",
          "Southeast",
          "Southeast",
          "Southeast",
          "Southeast",
          "Southeast",
          "Southeast",
          "Southeast",
          "Southeast",
          "Southeast",
          "Southeast",
          "Southeast",
          "Southeast",
          "Southeast",
          "Southeast",
          "Southeast",
          "Southeast",
          "Southeast",
          "Southeast",
          "Southeast",
          "Southeast",
          "Southeast",
          "Southeast",
          "Southeast",
          "Southeast",
          "Southeast",
          "Southeast",
          "Southeast",
          "Southeast",
          "Southeast",
          "Southeast",
          "Southeast",
          "Southeast",
          "Northeast",
          "Northeast",
          "Northeast",
          "Northeast",
          "Northeast",
          "Northeast",
          "Northeast",
          "Northeast",
          "Northeast",
          "Northeast",
          "Northeast",
          "Northeast",
          "Northeast",
          "Northeast",
          "Northeast",
          "Northeast",
          "Northeast",
          "Northeast",
          "Northeast",
          "Northeast",
          "Northeast",
          "Northeast",
          "Northeast",
          "Northeast",
          "Northeast",
          "Northeast",
          "Northeast",
          "Northeast",
          "Northeast",
          "Northeast",
          "Northeast",
          "Northeast",
          "Northeast",
          "Northeast",
          "Northeast",
          "Southeast",
          "Southeast",
          "Southeast",
          "Southeast",
          "Southeast",
          "Southeast",
          "Southeast",
          "Southeast",
          "Northwest",
          "Northwest",
          "Northwest",
          "Northwest",
          "Northwest",
          "Northwest",
          "Northwest",
          "Northwest",
          "Northwest",
          "Northwest",
          "Northwest",
          "Northwest",
          "Northwest",
          "Northwest",
          "Northwest",
          "Northwest",
          "Northwest",
          "Northwest",
          "Northwest",
          "Northwest",
          "Northwest",
          "Northwest",
          "Northwest",
          "Northwest",
          "Northwest",
          "Northwest",
          "Northeast",
          "Northeast",
          "Northeast",
          "Northeast",
          "Northeast",
          "Northeast",
          "Northeast",
          "Northeast",
          "Northeast",
          "Northeast",
          "Central",
          "Central",
          "Central",
          "Central",
          "Central",
          "Central",
          "Central",
          "Central",
          "Central",
          "Central",
          "Central",
          "Central",
          "Central",
          "Central",
          "Central",
          "Central",
          "Central",
          "Northeast",
          "Northeast",
          "Northeast",
          "Northeast",
          "Northeast",
          "Northeast",
          "Northeast",
          "Northeast",
          "Northeast",
          "Northeast",
          "Northeast",
          "Northeast",
          "Northeast",
          "Northeast",
          "Northeast",
          "Northeast",
          "Northeast",
          "Northeast",
          "Northeast",
          "Northeast",
          "Northeast",
          "Northeast",
          "Northeast",
          "Northeast",
          "Northeast",
          "Northeast",
          "Northeast",
          "Northeast",
          "Northeast",
          "Northeast",
          "Northeast",
          "Northeast",
          "Northeast",
          "Northeast",
          "Northeast",
          "Northeast",
          "Northeast",
          "Northeast",
          "Northeast",
          "Northeast",
          "Northeast",
          "East North Central",
          "East North Central",
          "East North Central",
          "East North Central",
          "East North Central",
          "East North Central",
          "East North Central",
          "East North Central",
          "West North Central",
          "West North Central",
          "West North Central",
          "Northeast",
          "Northeast",
          "Northeast",
          "Northeast",
          "Northeast",
          "Northeast",
          "Northeast",
          "Northeast",
          "Northeast",
          "Northeast",
          "Northeast",
          "Northeast",
          "Northeast",
          "Northeast",
          "Northeast",
          "Northeast",
          "Northeast",
          "Northeast",
          "Northeast",
          "Northeast",
          "Northeast",
          "Northeast",
          "Northeast",
          "Northeast",
          "Northeast",
          "Northeast",
          "Northeast",
          "Northeast",
          "Northeast",
          "Northeast",
          "Northeast",
          "Northeast",
          "Northeast",
          "Northeast",
          "Northeast",
          "Northeast",
          "Northeast",
          "Northeast",
          "Northeast",
          "Northeast",
          "Northeast",
          "Northeast",
          "Northeast",
          "Northeast",
          "Northeast",
          "Northeast",
          "Northeast",
          "Northeast",
          "Northeast",
          "Northeast",
          "Northeast",
          "Northeast",
          "Northeast",
          "Northeast",
          "Northeast",
          "Northeast",
          "Northeast",
          "Northeast",
          "Northeast",
          "Northeast",
          "Northeast",
          "Northeast",
          "Northeast",
          "Northeast",
          "Northeast",
          "Northeast",
          "Northeast",
          "Northeast",
          "Northeast",
          "Northeast",
          "Northeast",
          "South",
          "South",
          "South",
          "South",
          "South",
          "South",
          "South",
          "South",
          "South",
          "South",
          "South",
          "South",
          "South",
          "South",
          "South",
          "South",
          "South",
          "South",
          "South",
          "South",
          "South",
          "South",
          "South",
          "South",
          "South",
          "South",
          "South",
          "South",
          "South",
          "South",
          "South",
          "South",
          "South",
          "South",
          "South",
          "South",
          "South",
          "South",
          "South",
          "South",
          "Southeast",
          "Southeast",
          "Southeast",
          "Southeast",
          "Southeast",
          "Southeast",
          "Southeast",
          "Southeast",
          "Southeast",
          "Southeast",
          "Southeast",
          "Southeast",
          "Southeast",
          "Southeast",
          "Southeast",
          "Southeast",
          "Southeast",
          "Southeast",
          "Southeast",
          "Southeast",
          "Southeast",
          "Southeast",
          "Southeast",
          "Southeast",
          "Southeast",
          "Southeast",
          "Southeast",
          "Southeast",
          "Southeast",
          "Southeast",
          "Southeast",
          "Southeast",
          "Southeast",
          "Southeast",
          "Southeast",
          "Southeast",
          "Southeast",
          "Southeast",
          "Southeast",
          "Southeast",
          "Southeast",
          "Southeast",
          "Southeast",
          "Southeast",
          "Southeast",
          "West",
          "West",
          "West",
          "West",
          "West",
          "West",
          "West",
          "West",
          "West",
          "West",
          "West",
          "West",
          "West",
          "West",
          "West",
          "West",
          "West",
          "West",
          "West",
          "West",
          "West",
          "West",
          "West",
          "West",
          "West",
          "West",
          "West",
          "West",
          "West",
          "West",
          "West",
          "West",
          "West",
          "West",
          "West",
          "West",
          "West",
          "West",
          "West",
          "West",
          "West",
          "West",
          "West",
          "West",
          "West",
          "West",
          "West",
          "West",
          "West",
          "West",
          "West",
          "West",
          "West",
          "West",
          "West",
          "West",
          "West",
          "West",
          "West",
          "West",
          "West",
          "West",
          "West",
          "West",
          "West",
          "West",
          "West",
          "West",
          "West",
          "West",
          "West",
          "West",
          "West",
          "West",
          "West",
          "West",
          "West",
          "West",
          "West",
          "West",
          "West",
          "West",
          "West",
          "West",
          "West",
          "West",
          "West",
          "West",
          "West",
          "West",
          "West",
          "West",
          "West",
          "West",
          "West",
          "West",
          "West",
          "West",
          "West",
          "West",
          "West",
          "West",
          "West",
          "West",
          "West",
          "West",
          "West",
          "West",
          "West",
          "West",
          "West",
          "West",
          "West",
          "West",
          "West",
          "West",
          "West",
          "West",
          "West",
          "West",
          "West",
          "West",
          "West",
          "West",
          "West",
          "West",
          "West",
          "West",
          "West",
          "West",
          "West",
          "West",
          "West",
          "West",
          "West",
          "West",
          "West",
          "West",
          "West",
          "West",
          "West",
          "West",
          "West",
          "West",
          "West",
          "West",
          "West",
          "West",
          "West",
          "West",
          "West",
          "West",
          "West",
          "West",
          "West",
          "West",
          "West",
          "West",
          "West",
          "West",
          "West",
          "West",
          "West",
          "West",
          "West",
          "West",
          "West",
          "West",
          "West",
          "West",
          "West",
          "West",
          "West",
          "West",
          "West",
          "West",
          "West",
          "West",
          "West",
          "West",
          "West",
          "West",
          "West",
          "West",
          "West",
          "West",
          "West",
          "West",
          "West",
          "West",
          "West",
          "West",
          "West",
          "West",
          "West",
          "West",
          "West",
          "West",
          "West",
          "West",
          "West",
          "West",
          "West",
          "West",
          "West",
          "West",
          "West",
          "West",
          "West",
          "West",
          "South",
          "South",
          "South",
          "South",
          "South",
          "South",
          "South",
          "South",
          "South",
          "South",
          "South",
          "South",
          "South",
          "South",
          "South",
          "South",
          "South",
          "South",
          "South",
          "South",
          "South",
          "South",
          "South",
          "South",
          "South",
          "Southeast",
          "Southeast",
          "Southeast",
          "Southeast",
          "Southeast",
          "Southeast",
          "Southeast",
          "Southeast",
          "Southeast",
          "Southeast",
          "Southeast",
          "Southeast",
          "Southeast",
          "Southeast",
          "Southeast",
          "Southeast",
          "Southeast",
          "Southeast",
          "Southeast",
          "Southeast",
          "Southeast",
          "Southeast",
          "Southeast",
          "Southeast",
          "Southeast",
          "Southeast",
          "Southeast",
          "Southeast",
          "Southeast",
          "Southeast",
          "Southeast",
          "Southeast",
          "Southeast",
          "Southeast",
          "Southeast",
          "Southeast",
          "Southeast",
          "West North Central",
          "West North Central",
          "West North Central",
          "West North Central",
          "West North Central",
          "West North Central",
          "West North Central",
          "West North Central",
          "West North Central",
          "West North Central",
          "Southwest",
          "Southwest",
          "Southwest",
          "Southwest",
          "Southwest",
          "Southwest",
          "Southwest",
          "Southwest",
          "Northeast",
          "Northeast",
          "Northeast",
          "Northeast",
          "Northeast",
          "Northeast",
          "Northeast",
          "Northeast",
          "Northeast",
          "Southeast",
          "Southeast",
          "Southeast",
          "Southeast",
          "Southeast",
          "Southeast",
          "Southeast",
          "Southeast",
          "Southeast",
          "Southeast",
          "Southeast",
          "Southeast",
          "Southeast",
          "Southeast",
          "Southeast",
          "Southeast",
          "Southeast",
          "Northeast",
          "Northeast",
          "Northeast",
          "Northeast",
          "Northeast",
          "Northeast",
          "Northeast",
          "Northeast",
          "Northeast",
          "Northeast",
          "Northeast",
          "Northeast",
          "Northeast",
          "Northeast",
          "Northeast",
          "Northeast",
          "Northeast",
          "Northeast",
          "South",
          "South",
          "South",
          "South",
          "South",
          "South",
          "South",
          "South",
          "South",
          "South",
          "South",
          "South",
          "South",
          "South",
          "South",
          "South",
          "South",
          "South",
          "South",
          "South",
          "South",
          "South",
          "South",
          "South",
          "Northeast",
          "Northeast",
          "Northeast",
          "Northeast",
          "Northeast",
          "Northeast",
          "Northeast",
          "Northeast",
          "Northeast",
          "Northeast",
          "Northeast",
          "Northeast",
          "Northeast",
          "Northeast",
          "Northeast",
          "Northeast",
          "Northeast",
          "Northeast",
          "Northeast",
          "Northeast",
          "Northeast",
          "Northeast",
          "Northeast",
          "Northeast",
          "Northeast",
          "Northeast",
          "Northeast",
          "Northeast",
          "Northeast",
          "Northeast",
          "Northeast",
          "Northeast",
          "Northeast",
          "Northeast",
          "Northeast",
          "Northeast",
          "Northeast",
          "Northeast",
          "Northeast",
          "Northeast",
          "Northeast",
          "Northeast",
          "Northeast",
          "Northeast",
          "Northeast",
          "Northeast",
          "Northeast",
          "Northeast",
          "Northeast",
          "Northeast",
          "Northeast",
          "West",
          "West",
          "West",
          "West",
          "West",
          "West",
          "West",
          "Southwest",
          "Southwest",
          "Southwest",
          "Southwest",
          "Southwest",
          "Southwest",
          "Southwest",
          "Southwest",
          "Southwest",
          "Southwest",
          "Southwest",
          "Southwest",
          "Southwest",
          "Southwest",
          "Southwest",
          "South",
          "South",
          "South",
          "South",
          "South",
          "South",
          "South",
          "South",
          "South",
          null,
          null,
          null,
          null,
          null,
          "Northwest",
          "Northwest",
          "Northwest",
          "Northwest",
          "Northwest",
          "Northwest",
          "Northwest",
          "Northwest",
          "Northwest",
          "West North Central",
          "West North Central",
          "West North Central",
          "West North Central",
          null
         ],
         "y0": " ",
         "yaxis": "y"
        }
       ],
       "layout": {
        "boxmode": "group",
        "legend": {
         "tracegroupgap": 0
        },
        "template": {
         "data": {
          "bar": [
           {
            "error_x": {
             "color": "#2a3f5f"
            },
            "error_y": {
             "color": "#2a3f5f"
            },
            "marker": {
             "line": {
              "color": "#E5ECF6",
              "width": 0.5
             },
             "pattern": {
              "fillmode": "overlay",
              "size": 10,
              "solidity": 0.2
             }
            },
            "type": "bar"
           }
          ],
          "barpolar": [
           {
            "marker": {
             "line": {
              "color": "#E5ECF6",
              "width": 0.5
             },
             "pattern": {
              "fillmode": "overlay",
              "size": 10,
              "solidity": 0.2
             }
            },
            "type": "barpolar"
           }
          ],
          "carpet": [
           {
            "aaxis": {
             "endlinecolor": "#2a3f5f",
             "gridcolor": "white",
             "linecolor": "white",
             "minorgridcolor": "white",
             "startlinecolor": "#2a3f5f"
            },
            "baxis": {
             "endlinecolor": "#2a3f5f",
             "gridcolor": "white",
             "linecolor": "white",
             "minorgridcolor": "white",
             "startlinecolor": "#2a3f5f"
            },
            "type": "carpet"
           }
          ],
          "choropleth": [
           {
            "colorbar": {
             "outlinewidth": 0,
             "ticks": ""
            },
            "type": "choropleth"
           }
          ],
          "contour": [
           {
            "colorbar": {
             "outlinewidth": 0,
             "ticks": ""
            },
            "colorscale": [
             [
              0,
              "#0d0887"
             ],
             [
              0.1111111111111111,
              "#46039f"
             ],
             [
              0.2222222222222222,
              "#7201a8"
             ],
             [
              0.3333333333333333,
              "#9c179e"
             ],
             [
              0.4444444444444444,
              "#bd3786"
             ],
             [
              0.5555555555555556,
              "#d8576b"
             ],
             [
              0.6666666666666666,
              "#ed7953"
             ],
             [
              0.7777777777777778,
              "#fb9f3a"
             ],
             [
              0.8888888888888888,
              "#fdca26"
             ],
             [
              1,
              "#f0f921"
             ]
            ],
            "type": "contour"
           }
          ],
          "contourcarpet": [
           {
            "colorbar": {
             "outlinewidth": 0,
             "ticks": ""
            },
            "type": "contourcarpet"
           }
          ],
          "heatmap": [
           {
            "colorbar": {
             "outlinewidth": 0,
             "ticks": ""
            },
            "colorscale": [
             [
              0,
              "#0d0887"
             ],
             [
              0.1111111111111111,
              "#46039f"
             ],
             [
              0.2222222222222222,
              "#7201a8"
             ],
             [
              0.3333333333333333,
              "#9c179e"
             ],
             [
              0.4444444444444444,
              "#bd3786"
             ],
             [
              0.5555555555555556,
              "#d8576b"
             ],
             [
              0.6666666666666666,
              "#ed7953"
             ],
             [
              0.7777777777777778,
              "#fb9f3a"
             ],
             [
              0.8888888888888888,
              "#fdca26"
             ],
             [
              1,
              "#f0f921"
             ]
            ],
            "type": "heatmap"
           }
          ],
          "heatmapgl": [
           {
            "colorbar": {
             "outlinewidth": 0,
             "ticks": ""
            },
            "colorscale": [
             [
              0,
              "#0d0887"
             ],
             [
              0.1111111111111111,
              "#46039f"
             ],
             [
              0.2222222222222222,
              "#7201a8"
             ],
             [
              0.3333333333333333,
              "#9c179e"
             ],
             [
              0.4444444444444444,
              "#bd3786"
             ],
             [
              0.5555555555555556,
              "#d8576b"
             ],
             [
              0.6666666666666666,
              "#ed7953"
             ],
             [
              0.7777777777777778,
              "#fb9f3a"
             ],
             [
              0.8888888888888888,
              "#fdca26"
             ],
             [
              1,
              "#f0f921"
             ]
            ],
            "type": "heatmapgl"
           }
          ],
          "histogram": [
           {
            "marker": {
             "pattern": {
              "fillmode": "overlay",
              "size": 10,
              "solidity": 0.2
             }
            },
            "type": "histogram"
           }
          ],
          "histogram2d": [
           {
            "colorbar": {
             "outlinewidth": 0,
             "ticks": ""
            },
            "colorscale": [
             [
              0,
              "#0d0887"
             ],
             [
              0.1111111111111111,
              "#46039f"
             ],
             [
              0.2222222222222222,
              "#7201a8"
             ],
             [
              0.3333333333333333,
              "#9c179e"
             ],
             [
              0.4444444444444444,
              "#bd3786"
             ],
             [
              0.5555555555555556,
              "#d8576b"
             ],
             [
              0.6666666666666666,
              "#ed7953"
             ],
             [
              0.7777777777777778,
              "#fb9f3a"
             ],
             [
              0.8888888888888888,
              "#fdca26"
             ],
             [
              1,
              "#f0f921"
             ]
            ],
            "type": "histogram2d"
           }
          ],
          "histogram2dcontour": [
           {
            "colorbar": {
             "outlinewidth": 0,
             "ticks": ""
            },
            "colorscale": [
             [
              0,
              "#0d0887"
             ],
             [
              0.1111111111111111,
              "#46039f"
             ],
             [
              0.2222222222222222,
              "#7201a8"
             ],
             [
              0.3333333333333333,
              "#9c179e"
             ],
             [
              0.4444444444444444,
              "#bd3786"
             ],
             [
              0.5555555555555556,
              "#d8576b"
             ],
             [
              0.6666666666666666,
              "#ed7953"
             ],
             [
              0.7777777777777778,
              "#fb9f3a"
             ],
             [
              0.8888888888888888,
              "#fdca26"
             ],
             [
              1,
              "#f0f921"
             ]
            ],
            "type": "histogram2dcontour"
           }
          ],
          "mesh3d": [
           {
            "colorbar": {
             "outlinewidth": 0,
             "ticks": ""
            },
            "type": "mesh3d"
           }
          ],
          "parcoords": [
           {
            "line": {
             "colorbar": {
              "outlinewidth": 0,
              "ticks": ""
             }
            },
            "type": "parcoords"
           }
          ],
          "pie": [
           {
            "automargin": true,
            "type": "pie"
           }
          ],
          "scatter": [
           {
            "fillpattern": {
             "fillmode": "overlay",
             "size": 10,
             "solidity": 0.2
            },
            "type": "scatter"
           }
          ],
          "scatter3d": [
           {
            "line": {
             "colorbar": {
              "outlinewidth": 0,
              "ticks": ""
             }
            },
            "marker": {
             "colorbar": {
              "outlinewidth": 0,
              "ticks": ""
             }
            },
            "type": "scatter3d"
           }
          ],
          "scattercarpet": [
           {
            "marker": {
             "colorbar": {
              "outlinewidth": 0,
              "ticks": ""
             }
            },
            "type": "scattercarpet"
           }
          ],
          "scattergeo": [
           {
            "marker": {
             "colorbar": {
              "outlinewidth": 0,
              "ticks": ""
             }
            },
            "type": "scattergeo"
           }
          ],
          "scattergl": [
           {
            "marker": {
             "colorbar": {
              "outlinewidth": 0,
              "ticks": ""
             }
            },
            "type": "scattergl"
           }
          ],
          "scattermapbox": [
           {
            "marker": {
             "colorbar": {
              "outlinewidth": 0,
              "ticks": ""
             }
            },
            "type": "scattermapbox"
           }
          ],
          "scatterpolar": [
           {
            "marker": {
             "colorbar": {
              "outlinewidth": 0,
              "ticks": ""
             }
            },
            "type": "scatterpolar"
           }
          ],
          "scatterpolargl": [
           {
            "marker": {
             "colorbar": {
              "outlinewidth": 0,
              "ticks": ""
             }
            },
            "type": "scatterpolargl"
           }
          ],
          "scatterternary": [
           {
            "marker": {
             "colorbar": {
              "outlinewidth": 0,
              "ticks": ""
             }
            },
            "type": "scatterternary"
           }
          ],
          "surface": [
           {
            "colorbar": {
             "outlinewidth": 0,
             "ticks": ""
            },
            "colorscale": [
             [
              0,
              "#0d0887"
             ],
             [
              0.1111111111111111,
              "#46039f"
             ],
             [
              0.2222222222222222,
              "#7201a8"
             ],
             [
              0.3333333333333333,
              "#9c179e"
             ],
             [
              0.4444444444444444,
              "#bd3786"
             ],
             [
              0.5555555555555556,
              "#d8576b"
             ],
             [
              0.6666666666666666,
              "#ed7953"
             ],
             [
              0.7777777777777778,
              "#fb9f3a"
             ],
             [
              0.8888888888888888,
              "#fdca26"
             ],
             [
              1,
              "#f0f921"
             ]
            ],
            "type": "surface"
           }
          ],
          "table": [
           {
            "cells": {
             "fill": {
              "color": "#EBF0F8"
             },
             "line": {
              "color": "white"
             }
            },
            "header": {
             "fill": {
              "color": "#C8D4E3"
             },
             "line": {
              "color": "white"
             }
            },
            "type": "table"
           }
          ]
         },
         "layout": {
          "annotationdefaults": {
           "arrowcolor": "#2a3f5f",
           "arrowhead": 0,
           "arrowwidth": 1
          },
          "autotypenumbers": "strict",
          "coloraxis": {
           "colorbar": {
            "outlinewidth": 0,
            "ticks": ""
           }
          },
          "colorscale": {
           "diverging": [
            [
             0,
             "#8e0152"
            ],
            [
             0.1,
             "#c51b7d"
            ],
            [
             0.2,
             "#de77ae"
            ],
            [
             0.3,
             "#f1b6da"
            ],
            [
             0.4,
             "#fde0ef"
            ],
            [
             0.5,
             "#f7f7f7"
            ],
            [
             0.6,
             "#e6f5d0"
            ],
            [
             0.7,
             "#b8e186"
            ],
            [
             0.8,
             "#7fbc41"
            ],
            [
             0.9,
             "#4d9221"
            ],
            [
             1,
             "#276419"
            ]
           ],
           "sequential": [
            [
             0,
             "#0d0887"
            ],
            [
             0.1111111111111111,
             "#46039f"
            ],
            [
             0.2222222222222222,
             "#7201a8"
            ],
            [
             0.3333333333333333,
             "#9c179e"
            ],
            [
             0.4444444444444444,
             "#bd3786"
            ],
            [
             0.5555555555555556,
             "#d8576b"
            ],
            [
             0.6666666666666666,
             "#ed7953"
            ],
            [
             0.7777777777777778,
             "#fb9f3a"
            ],
            [
             0.8888888888888888,
             "#fdca26"
            ],
            [
             1,
             "#f0f921"
            ]
           ],
           "sequentialminus": [
            [
             0,
             "#0d0887"
            ],
            [
             0.1111111111111111,
             "#46039f"
            ],
            [
             0.2222222222222222,
             "#7201a8"
            ],
            [
             0.3333333333333333,
             "#9c179e"
            ],
            [
             0.4444444444444444,
             "#bd3786"
            ],
            [
             0.5555555555555556,
             "#d8576b"
            ],
            [
             0.6666666666666666,
             "#ed7953"
            ],
            [
             0.7777777777777778,
             "#fb9f3a"
            ],
            [
             0.8888888888888888,
             "#fdca26"
            ],
            [
             1,
             "#f0f921"
            ]
           ]
          },
          "colorway": [
           "#636efa",
           "#EF553B",
           "#00cc96",
           "#ab63fa",
           "#FFA15A",
           "#19d3f3",
           "#FF6692",
           "#B6E880",
           "#FF97FF",
           "#FECB52"
          ],
          "font": {
           "color": "#2a3f5f"
          },
          "geo": {
           "bgcolor": "white",
           "lakecolor": "white",
           "landcolor": "#E5ECF6",
           "showlakes": true,
           "showland": true,
           "subunitcolor": "white"
          },
          "hoverlabel": {
           "align": "left"
          },
          "hovermode": "closest",
          "mapbox": {
           "style": "light"
          },
          "paper_bgcolor": "white",
          "plot_bgcolor": "#E5ECF6",
          "polar": {
           "angularaxis": {
            "gridcolor": "white",
            "linecolor": "white",
            "ticks": ""
           },
           "bgcolor": "#E5ECF6",
           "radialaxis": {
            "gridcolor": "white",
            "linecolor": "white",
            "ticks": ""
           }
          },
          "scene": {
           "xaxis": {
            "backgroundcolor": "#E5ECF6",
            "gridcolor": "white",
            "gridwidth": 2,
            "linecolor": "white",
            "showbackground": true,
            "ticks": "",
            "zerolinecolor": "white"
           },
           "yaxis": {
            "backgroundcolor": "#E5ECF6",
            "gridcolor": "white",
            "gridwidth": 2,
            "linecolor": "white",
            "showbackground": true,
            "ticks": "",
            "zerolinecolor": "white"
           },
           "zaxis": {
            "backgroundcolor": "#E5ECF6",
            "gridcolor": "white",
            "gridwidth": 2,
            "linecolor": "white",
            "showbackground": true,
            "ticks": "",
            "zerolinecolor": "white"
           }
          },
          "shapedefaults": {
           "line": {
            "color": "#2a3f5f"
           }
          },
          "ternary": {
           "aaxis": {
            "gridcolor": "white",
            "linecolor": "white",
            "ticks": ""
           },
           "baxis": {
            "gridcolor": "white",
            "linecolor": "white",
            "ticks": ""
           },
           "bgcolor": "#E5ECF6",
           "caxis": {
            "gridcolor": "white",
            "linecolor": "white",
            "ticks": ""
           }
          },
          "title": {
           "x": 0.05
          },
          "xaxis": {
           "automargin": true,
           "gridcolor": "white",
           "linecolor": "white",
           "ticks": "",
           "title": {
            "standoff": 15
           },
           "zerolinecolor": "white",
           "zerolinewidth": 2
          },
          "yaxis": {
           "automargin": true,
           "gridcolor": "white",
           "linecolor": "white",
           "ticks": "",
           "title": {
            "standoff": 15
           },
           "zerolinecolor": "white",
           "zerolinewidth": 2
          }
         }
        },
        "title": {
         "text": "Outage Duration in Minutes by Climate Region"
        },
        "xaxis": {
         "anchor": "y",
         "domain": [
          0,
          1
         ],
         "title": {
          "text": "OUTAGE.DURATION"
         }
        },
        "yaxis": {
         "anchor": "x",
         "domain": [
          0,
          1
         ],
         "title": {
          "text": "CLIMATE.REGION"
         }
        }
       }
      }
     },
     "metadata": {},
     "output_type": "display_data"
    }
   ],
   "source": [
    "fig = px.box(outage_clean, x=\"OUTAGE.DURATION\", y=\"CLIMATE.REGION\", title= 'Outage Duration in Minutes by Climate Region')\n",
    "fig.show()"
   ]
  },
  {
   "attachments": {},
   "cell_type": "markdown",
   "metadata": {},
   "source": [
    "**Bivariate Analysis:**\n",
    "\n",
    "Customers Affected by Outage Duration in Minutes shows that the majority of outages are short in duration in minimal in customers affected. Outliers that are greater in customers affected tend to also be greater in duration with a few short outages."
   ]
  },
  {
   "cell_type": "code",
   "execution_count": 10,
   "metadata": {},
   "outputs": [
    {
     "data": {
      "text/html": [
       "<div>\n",
       "<style scoped>\n",
       "    .dataframe tbody tr th:only-of-type {\n",
       "        vertical-align: middle;\n",
       "    }\n",
       "\n",
       "    .dataframe tbody tr th {\n",
       "        vertical-align: top;\n",
       "    }\n",
       "\n",
       "    .dataframe thead th {\n",
       "        text-align: right;\n",
       "    }\n",
       "</style>\n",
       "<table border=\"1\" class=\"dataframe\">\n",
       "  <thead>\n",
       "    <tr style=\"text-align: right;\">\n",
       "      <th>CLIMATE.CATEGORY</th>\n",
       "      <th>cold</th>\n",
       "      <th>normal</th>\n",
       "      <th>warm</th>\n",
       "    </tr>\n",
       "    <tr>\n",
       "      <th>CLIMATE.REGION</th>\n",
       "      <th></th>\n",
       "      <th></th>\n",
       "      <th></th>\n",
       "    </tr>\n",
       "  </thead>\n",
       "  <tbody>\n",
       "    <tr>\n",
       "      <th>Central</th>\n",
       "      <td>68</td>\n",
       "      <td>102</td>\n",
       "      <td>29</td>\n",
       "    </tr>\n",
       "    <tr>\n",
       "      <th>East North Central</th>\n",
       "      <td>38</td>\n",
       "      <td>83</td>\n",
       "      <td>17</td>\n",
       "    </tr>\n",
       "    <tr>\n",
       "      <th>Northeast</th>\n",
       "      <td>124</td>\n",
       "      <td>180</td>\n",
       "      <td>45</td>\n",
       "    </tr>\n",
       "    <tr>\n",
       "      <th>Northwest</th>\n",
       "      <td>47</td>\n",
       "      <td>49</td>\n",
       "      <td>36</td>\n",
       "    </tr>\n",
       "    <tr>\n",
       "      <th>South</th>\n",
       "      <td>57</td>\n",
       "      <td>111</td>\n",
       "      <td>59</td>\n",
       "    </tr>\n",
       "    <tr>\n",
       "      <th>Southeast</th>\n",
       "      <td>45</td>\n",
       "      <td>71</td>\n",
       "      <td>34</td>\n",
       "    </tr>\n",
       "    <tr>\n",
       "      <th>Southwest</th>\n",
       "      <td>24</td>\n",
       "      <td>46</td>\n",
       "      <td>22</td>\n",
       "    </tr>\n",
       "    <tr>\n",
       "      <th>West</th>\n",
       "      <td>64</td>\n",
       "      <td>93</td>\n",
       "      <td>60</td>\n",
       "    </tr>\n",
       "    <tr>\n",
       "      <th>West North Central</th>\n",
       "      <td>5</td>\n",
       "      <td>7</td>\n",
       "      <td>4</td>\n",
       "    </tr>\n",
       "  </tbody>\n",
       "</table>\n",
       "</div>"
      ],
      "text/plain": [
       "CLIMATE.CATEGORY    cold  normal  warm\n",
       "CLIMATE.REGION                        \n",
       "Central               68     102    29\n",
       "East North Central    38      83    17\n",
       "Northeast            124     180    45\n",
       "Northwest             47      49    36\n",
       "South                 57     111    59\n",
       "Southeast             45      71    34\n",
       "Southwest             24      46    22\n",
       "West                  64      93    60\n",
       "West North Central     5       7     4"
      ]
     },
     "execution_count": 10,
     "metadata": {},
     "output_type": "execute_result"
    }
   ],
   "source": [
    "outage_clean.pivot_table(index='CLIMATE.REGION', columns='CLIMATE.CATEGORY', aggfunc='size')\n"
   ]
  },
  {
   "cell_type": "code",
   "execution_count": 11,
   "metadata": {},
   "outputs": [
    {
     "data": {
      "text/html": [
       "<div>\n",
       "<style scoped>\n",
       "    .dataframe tbody tr th:only-of-type {\n",
       "        vertical-align: middle;\n",
       "    }\n",
       "\n",
       "    .dataframe tbody tr th {\n",
       "        vertical-align: top;\n",
       "    }\n",
       "\n",
       "    .dataframe thead th {\n",
       "        text-align: right;\n",
       "    }\n",
       "</style>\n",
       "<table border=\"1\" class=\"dataframe\">\n",
       "  <thead>\n",
       "    <tr style=\"text-align: right;\">\n",
       "      <th>MONTH</th>\n",
       "      <th>1.0</th>\n",
       "      <th>2.0</th>\n",
       "      <th>3.0</th>\n",
       "      <th>4.0</th>\n",
       "      <th>5.0</th>\n",
       "      <th>6.0</th>\n",
       "      <th>7.0</th>\n",
       "      <th>8.0</th>\n",
       "      <th>9.0</th>\n",
       "      <th>10.0</th>\n",
       "      <th>11.0</th>\n",
       "      <th>12.0</th>\n",
       "    </tr>\n",
       "    <tr>\n",
       "      <th>CAUSE.CATEGORY</th>\n",
       "      <th></th>\n",
       "      <th></th>\n",
       "      <th></th>\n",
       "      <th></th>\n",
       "      <th></th>\n",
       "      <th></th>\n",
       "      <th></th>\n",
       "      <th></th>\n",
       "      <th></th>\n",
       "      <th></th>\n",
       "      <th></th>\n",
       "      <th></th>\n",
       "    </tr>\n",
       "  </thead>\n",
       "  <tbody>\n",
       "    <tr>\n",
       "      <th>equipment failure</th>\n",
       "      <td>3.0</td>\n",
       "      <td>4.0</td>\n",
       "      <td>4.0</td>\n",
       "      <td>7.0</td>\n",
       "      <td>6.0</td>\n",
       "      <td>7.0</td>\n",
       "      <td>12.0</td>\n",
       "      <td>4.0</td>\n",
       "      <td>4.0</td>\n",
       "      <td>NaN</td>\n",
       "      <td>2.0</td>\n",
       "      <td>4.0</td>\n",
       "    </tr>\n",
       "    <tr>\n",
       "      <th>fuel supply emergency</th>\n",
       "      <td>4.0</td>\n",
       "      <td>9.0</td>\n",
       "      <td>5.0</td>\n",
       "      <td>3.0</td>\n",
       "      <td>2.0</td>\n",
       "      <td>7.0</td>\n",
       "      <td>6.0</td>\n",
       "      <td>5.0</td>\n",
       "      <td>3.0</td>\n",
       "      <td>NaN</td>\n",
       "      <td>2.0</td>\n",
       "      <td>4.0</td>\n",
       "    </tr>\n",
       "    <tr>\n",
       "      <th>intentional attack</th>\n",
       "      <td>50.0</td>\n",
       "      <td>40.0</td>\n",
       "      <td>42.0</td>\n",
       "      <td>43.0</td>\n",
       "      <td>46.0</td>\n",
       "      <td>34.0</td>\n",
       "      <td>34.0</td>\n",
       "      <td>26.0</td>\n",
       "      <td>21.0</td>\n",
       "      <td>34.0</td>\n",
       "      <td>24.0</td>\n",
       "      <td>24.0</td>\n",
       "    </tr>\n",
       "    <tr>\n",
       "      <th>islanding</th>\n",
       "      <td>NaN</td>\n",
       "      <td>6.0</td>\n",
       "      <td>3.0</td>\n",
       "      <td>2.0</td>\n",
       "      <td>5.0</td>\n",
       "      <td>10.0</td>\n",
       "      <td>4.0</td>\n",
       "      <td>4.0</td>\n",
       "      <td>3.0</td>\n",
       "      <td>3.0</td>\n",
       "      <td>3.0</td>\n",
       "      <td>3.0</td>\n",
       "    </tr>\n",
       "    <tr>\n",
       "      <th>public appeal</th>\n",
       "      <td>4.0</td>\n",
       "      <td>5.0</td>\n",
       "      <td>2.0</td>\n",
       "      <td>NaN</td>\n",
       "      <td>5.0</td>\n",
       "      <td>16.0</td>\n",
       "      <td>14.0</td>\n",
       "      <td>18.0</td>\n",
       "      <td>1.0</td>\n",
       "      <td>2.0</td>\n",
       "      <td>NaN</td>\n",
       "      <td>2.0</td>\n",
       "    </tr>\n",
       "    <tr>\n",
       "      <th>severe weather</th>\n",
       "      <td>67.0</td>\n",
       "      <td>61.0</td>\n",
       "      <td>30.0</td>\n",
       "      <td>44.0</td>\n",
       "      <td>51.0</td>\n",
       "      <td>102.0</td>\n",
       "      <td>98.0</td>\n",
       "      <td>83.0</td>\n",
       "      <td>58.0</td>\n",
       "      <td>62.0</td>\n",
       "      <td>38.0</td>\n",
       "      <td>65.0</td>\n",
       "    </tr>\n",
       "    <tr>\n",
       "      <th>system operability disruption</th>\n",
       "      <td>8.0</td>\n",
       "      <td>11.0</td>\n",
       "      <td>14.0</td>\n",
       "      <td>12.0</td>\n",
       "      <td>12.0</td>\n",
       "      <td>19.0</td>\n",
       "      <td>13.0</td>\n",
       "      <td>13.0</td>\n",
       "      <td>4.0</td>\n",
       "      <td>8.0</td>\n",
       "      <td>3.0</td>\n",
       "      <td>9.0</td>\n",
       "    </tr>\n",
       "  </tbody>\n",
       "</table>\n",
       "</div>"
      ],
      "text/plain": [
       "MONTH                          1.0   2.0   3.0   4.0   5.0    6.0   7.0   \\\n",
       "CAUSE.CATEGORY                                                             \n",
       "equipment failure               3.0   4.0   4.0   7.0   6.0    7.0  12.0   \n",
       "fuel supply emergency           4.0   9.0   5.0   3.0   2.0    7.0   6.0   \n",
       "intentional attack             50.0  40.0  42.0  43.0  46.0   34.0  34.0   \n",
       "islanding                       NaN   6.0   3.0   2.0   5.0   10.0   4.0   \n",
       "public appeal                   4.0   5.0   2.0   NaN   5.0   16.0  14.0   \n",
       "severe weather                 67.0  61.0  30.0  44.0  51.0  102.0  98.0   \n",
       "system operability disruption   8.0  11.0  14.0  12.0  12.0   19.0  13.0   \n",
       "\n",
       "MONTH                          8.0   9.0   10.0  11.0  12.0  \n",
       "CAUSE.CATEGORY                                               \n",
       "equipment failure               4.0   4.0   NaN   2.0   4.0  \n",
       "fuel supply emergency           5.0   3.0   NaN   2.0   4.0  \n",
       "intentional attack             26.0  21.0  34.0  24.0  24.0  \n",
       "islanding                       4.0   3.0   3.0   3.0   3.0  \n",
       "public appeal                  18.0   1.0   2.0   NaN   2.0  \n",
       "severe weather                 83.0  58.0  62.0  38.0  65.0  \n",
       "system operability disruption  13.0   4.0   8.0   3.0   9.0  "
      ]
     },
     "execution_count": 11,
     "metadata": {},
     "output_type": "execute_result"
    }
   ],
   "source": [
    "outage_clean.pivot_table(index='CAUSE.CATEGORY', columns='MONTH', aggfunc='size')"
   ]
  },
  {
   "attachments": {},
   "cell_type": "markdown",
   "metadata": {},
   "source": [
    "**Interesting Aggregates:**\n",
    "\n",
    "Pivoting on Cause Category and Month shows us that severe weather is the leading cause of outages and that the month with the most outages is June with the leading cause that month being severe weather."
   ]
  },
  {
   "attachments": {},
   "cell_type": "markdown",
   "metadata": {},
   "source": [
    "### Assessment of Missingness"
   ]
  },
  {
   "cell_type": "code",
   "execution_count": 12,
   "metadata": {},
   "outputs": [
    {
     "data": {
      "text/plain": [
       "Index(['MONTH', 'CLIMATE.REGION', 'ANOMALY.LEVEL', 'CLIMATE.CATEGORY',\n",
       "       'CAUSE.CATEGORY.DETAIL', 'HURRICANE.NAMES', 'OUTAGE.DURATION',\n",
       "       'DEMAND.LOSS.MW', 'CUSTOMERS.AFFECTED', 'RES.PRICE', 'COM.PRICE',\n",
       "       'IND.PRICE', 'TOTAL.PRICE', 'RES.SALES', 'COM.SALES', 'IND.SALES',\n",
       "       'TOTAL.SALES', 'RES.PERCEN', 'COM.PERCEN', 'IND.PERCEN', 'POPDEN_UC',\n",
       "       'POPDEN_RURAL', 'OUTAGE.START', 'OUTAGE.RESTORATION'],\n",
       "      dtype='object')"
      ]
     },
     "execution_count": 12,
     "metadata": {},
     "output_type": "execute_result"
    }
   ],
   "source": [
    "outage_clean.columns[outage_clean.isnull().any()]"
   ]
  },
  {
   "attachments": {},
   "cell_type": "markdown",
   "metadata": {},
   "source": [
    "**NMAR Analysis:**\n",
    "\n",
    "RES.PRICE, COM.PRICE, IND.PRICE, and TOTAL.PRICE could be NMAR because sectors that charge unreasonable prices for electricity will not want to report. A coloumn we could add that could make it MAR is utiltiy to income proportion so we can see where people are paying higher for utitlites while making lower income."
   ]
  },
  {
   "attachments": {},
   "cell_type": "markdown",
   "metadata": {},
   "source": [
    "**CAUSE.CATEGORY and CLIMATE.CATEGORY**"
   ]
  },
  {
   "cell_type": "code",
   "execution_count": 132,
   "metadata": {},
   "outputs": [
    {
     "data": {
      "text/html": [
       "<div>\n",
       "<style scoped>\n",
       "    .dataframe tbody tr th:only-of-type {\n",
       "        vertical-align: middle;\n",
       "    }\n",
       "\n",
       "    .dataframe tbody tr th {\n",
       "        vertical-align: top;\n",
       "    }\n",
       "\n",
       "    .dataframe thead th {\n",
       "        text-align: right;\n",
       "    }\n",
       "</style>\n",
       "<table border=\"1\" class=\"dataframe\">\n",
       "  <thead>\n",
       "    <tr style=\"text-align: right;\">\n",
       "      <th></th>\n",
       "      <th>CLIMATE_MISSING = False</th>\n",
       "      <th>CLIMATE_MISSING = True</th>\n",
       "    </tr>\n",
       "    <tr>\n",
       "      <th>CAUSE.CATEGORY</th>\n",
       "      <th></th>\n",
       "      <th></th>\n",
       "    </tr>\n",
       "  </thead>\n",
       "  <tbody>\n",
       "    <tr>\n",
       "      <th>equipment failure</th>\n",
       "      <td>0.037377</td>\n",
       "      <td>0.333333</td>\n",
       "    </tr>\n",
       "    <tr>\n",
       "      <th>fuel supply emergency</th>\n",
       "      <td>0.032787</td>\n",
       "      <td>0.111111</td>\n",
       "    </tr>\n",
       "    <tr>\n",
       "      <th>intentional attack</th>\n",
       "      <td>0.274098</td>\n",
       "      <td>NaN</td>\n",
       "    </tr>\n",
       "    <tr>\n",
       "      <th>islanding</th>\n",
       "      <td>0.030164</td>\n",
       "      <td>NaN</td>\n",
       "    </tr>\n",
       "    <tr>\n",
       "      <th>public appeal</th>\n",
       "      <td>0.045246</td>\n",
       "      <td>NaN</td>\n",
       "    </tr>\n",
       "    <tr>\n",
       "      <th>severe weather</th>\n",
       "      <td>0.497705</td>\n",
       "      <td>0.444444</td>\n",
       "    </tr>\n",
       "    <tr>\n",
       "      <th>system operability disruption</th>\n",
       "      <td>0.082623</td>\n",
       "      <td>0.111111</td>\n",
       "    </tr>\n",
       "  </tbody>\n",
       "</table>\n",
       "</div>"
      ],
      "text/plain": [
       "                               CLIMATE_MISSING = False  CLIMATE_MISSING = True\n",
       "CAUSE.CATEGORY                                                                \n",
       "equipment failure                             0.037377                0.333333\n",
       "fuel supply emergency                         0.032787                0.111111\n",
       "intentional attack                            0.274098                     NaN\n",
       "islanding                                     0.030164                     NaN\n",
       "public appeal                                 0.045246                     NaN\n",
       "severe weather                                0.497705                0.444444\n",
       "system operability disruption                 0.082623                0.111111"
      ]
     },
     "execution_count": 132,
     "metadata": {},
     "output_type": "execute_result"
    }
   ],
   "source": [
    "outage_mcar = outage_clean.copy()\n",
    "outage_mcar['CLIMATE_MISSING'] = outage_mcar['CLIMATE.CATEGORY'].isna()\n",
    "outage_mcar.head()\n",
    "\n",
    "outage_dist = (\n",
    "    outage_mcar\n",
    "    .assign(CLIMATE_MISSING=outage_mcar['CLIMATE.CATEGORY'].isna())\n",
    "    .pivot_table(index='CAUSE.CATEGORY', columns='CLIMATE_MISSING', aggfunc='size')\n",
    ")\n",
    "\n",
    "# Added just to make the resulting pivot table easier to read.\n",
    "outage_dist.columns = ['CLIMATE_MISSING = False', 'CLIMATE_MISSING = True']\n",
    "\n",
    "outage_dist = outage_dist / outage_dist.sum()\n",
    "outage_dist"
   ]
  },
  {
   "cell_type": "code",
   "execution_count": 133,
   "metadata": {},
   "outputs": [
    {
     "data": {
      "application/vnd.plotly.v1+json": {
       "config": {
        "plotlyServerURL": "https://plot.ly"
       },
       "data": [
        {
         "alignmentgroup": "True",
         "hovertemplate": "variable=CLIMATE_MISSING = False<br>value=%{x}<br>CAUSE.CATEGORY=%{y}<extra></extra>",
         "legendgroup": "CLIMATE_MISSING = False",
         "marker": {
          "color": "#636efa",
          "pattern": {
           "shape": ""
          }
         },
         "name": "CLIMATE_MISSING = False",
         "offsetgroup": "CLIMATE_MISSING = False",
         "orientation": "h",
         "showlegend": true,
         "textposition": "auto",
         "type": "bar",
         "x": [
          0.037377049180327866,
          0.03278688524590164,
          0.2740983606557377,
          0.03016393442622951,
          0.04524590163934426,
          0.4977049180327869,
          0.08262295081967214
         ],
         "xaxis": "x",
         "y": [
          "equipment failure",
          "fuel supply emergency",
          "intentional attack",
          "islanding",
          "public appeal",
          "severe weather",
          "system operability disruption"
         ],
         "yaxis": "y"
        },
        {
         "alignmentgroup": "True",
         "hovertemplate": "variable=CLIMATE_MISSING = True<br>value=%{x}<br>CAUSE.CATEGORY=%{y}<extra></extra>",
         "legendgroup": "CLIMATE_MISSING = True",
         "marker": {
          "color": "#EF553B",
          "pattern": {
           "shape": ""
          }
         },
         "name": "CLIMATE_MISSING = True",
         "offsetgroup": "CLIMATE_MISSING = True",
         "orientation": "h",
         "showlegend": true,
         "textposition": "auto",
         "type": "bar",
         "x": [
          0.3333333333333333,
          0.1111111111111111,
          null,
          null,
          null,
          0.4444444444444444,
          0.1111111111111111
         ],
         "xaxis": "x",
         "y": [
          "equipment failure",
          "fuel supply emergency",
          "intentional attack",
          "islanding",
          "public appeal",
          "severe weather",
          "system operability disruption"
         ],
         "yaxis": "y"
        }
       ],
       "layout": {
        "barmode": "group",
        "legend": {
         "title": {
          "text": "variable"
         },
         "tracegroupgap": 0
        },
        "template": {
         "data": {
          "bar": [
           {
            "error_x": {
             "color": "#2a3f5f"
            },
            "error_y": {
             "color": "#2a3f5f"
            },
            "marker": {
             "line": {
              "color": "#E5ECF6",
              "width": 0.5
             },
             "pattern": {
              "fillmode": "overlay",
              "size": 10,
              "solidity": 0.2
             }
            },
            "type": "bar"
           }
          ],
          "barpolar": [
           {
            "marker": {
             "line": {
              "color": "#E5ECF6",
              "width": 0.5
             },
             "pattern": {
              "fillmode": "overlay",
              "size": 10,
              "solidity": 0.2
             }
            },
            "type": "barpolar"
           }
          ],
          "carpet": [
           {
            "aaxis": {
             "endlinecolor": "#2a3f5f",
             "gridcolor": "white",
             "linecolor": "white",
             "minorgridcolor": "white",
             "startlinecolor": "#2a3f5f"
            },
            "baxis": {
             "endlinecolor": "#2a3f5f",
             "gridcolor": "white",
             "linecolor": "white",
             "minorgridcolor": "white",
             "startlinecolor": "#2a3f5f"
            },
            "type": "carpet"
           }
          ],
          "choropleth": [
           {
            "colorbar": {
             "outlinewidth": 0,
             "ticks": ""
            },
            "type": "choropleth"
           }
          ],
          "contour": [
           {
            "colorbar": {
             "outlinewidth": 0,
             "ticks": ""
            },
            "colorscale": [
             [
              0,
              "#0d0887"
             ],
             [
              0.1111111111111111,
              "#46039f"
             ],
             [
              0.2222222222222222,
              "#7201a8"
             ],
             [
              0.3333333333333333,
              "#9c179e"
             ],
             [
              0.4444444444444444,
              "#bd3786"
             ],
             [
              0.5555555555555556,
              "#d8576b"
             ],
             [
              0.6666666666666666,
              "#ed7953"
             ],
             [
              0.7777777777777778,
              "#fb9f3a"
             ],
             [
              0.8888888888888888,
              "#fdca26"
             ],
             [
              1,
              "#f0f921"
             ]
            ],
            "type": "contour"
           }
          ],
          "contourcarpet": [
           {
            "colorbar": {
             "outlinewidth": 0,
             "ticks": ""
            },
            "type": "contourcarpet"
           }
          ],
          "heatmap": [
           {
            "colorbar": {
             "outlinewidth": 0,
             "ticks": ""
            },
            "colorscale": [
             [
              0,
              "#0d0887"
             ],
             [
              0.1111111111111111,
              "#46039f"
             ],
             [
              0.2222222222222222,
              "#7201a8"
             ],
             [
              0.3333333333333333,
              "#9c179e"
             ],
             [
              0.4444444444444444,
              "#bd3786"
             ],
             [
              0.5555555555555556,
              "#d8576b"
             ],
             [
              0.6666666666666666,
              "#ed7953"
             ],
             [
              0.7777777777777778,
              "#fb9f3a"
             ],
             [
              0.8888888888888888,
              "#fdca26"
             ],
             [
              1,
              "#f0f921"
             ]
            ],
            "type": "heatmap"
           }
          ],
          "heatmapgl": [
           {
            "colorbar": {
             "outlinewidth": 0,
             "ticks": ""
            },
            "colorscale": [
             [
              0,
              "#0d0887"
             ],
             [
              0.1111111111111111,
              "#46039f"
             ],
             [
              0.2222222222222222,
              "#7201a8"
             ],
             [
              0.3333333333333333,
              "#9c179e"
             ],
             [
              0.4444444444444444,
              "#bd3786"
             ],
             [
              0.5555555555555556,
              "#d8576b"
             ],
             [
              0.6666666666666666,
              "#ed7953"
             ],
             [
              0.7777777777777778,
              "#fb9f3a"
             ],
             [
              0.8888888888888888,
              "#fdca26"
             ],
             [
              1,
              "#f0f921"
             ]
            ],
            "type": "heatmapgl"
           }
          ],
          "histogram": [
           {
            "marker": {
             "pattern": {
              "fillmode": "overlay",
              "size": 10,
              "solidity": 0.2
             }
            },
            "type": "histogram"
           }
          ],
          "histogram2d": [
           {
            "colorbar": {
             "outlinewidth": 0,
             "ticks": ""
            },
            "colorscale": [
             [
              0,
              "#0d0887"
             ],
             [
              0.1111111111111111,
              "#46039f"
             ],
             [
              0.2222222222222222,
              "#7201a8"
             ],
             [
              0.3333333333333333,
              "#9c179e"
             ],
             [
              0.4444444444444444,
              "#bd3786"
             ],
             [
              0.5555555555555556,
              "#d8576b"
             ],
             [
              0.6666666666666666,
              "#ed7953"
             ],
             [
              0.7777777777777778,
              "#fb9f3a"
             ],
             [
              0.8888888888888888,
              "#fdca26"
             ],
             [
              1,
              "#f0f921"
             ]
            ],
            "type": "histogram2d"
           }
          ],
          "histogram2dcontour": [
           {
            "colorbar": {
             "outlinewidth": 0,
             "ticks": ""
            },
            "colorscale": [
             [
              0,
              "#0d0887"
             ],
             [
              0.1111111111111111,
              "#46039f"
             ],
             [
              0.2222222222222222,
              "#7201a8"
             ],
             [
              0.3333333333333333,
              "#9c179e"
             ],
             [
              0.4444444444444444,
              "#bd3786"
             ],
             [
              0.5555555555555556,
              "#d8576b"
             ],
             [
              0.6666666666666666,
              "#ed7953"
             ],
             [
              0.7777777777777778,
              "#fb9f3a"
             ],
             [
              0.8888888888888888,
              "#fdca26"
             ],
             [
              1,
              "#f0f921"
             ]
            ],
            "type": "histogram2dcontour"
           }
          ],
          "mesh3d": [
           {
            "colorbar": {
             "outlinewidth": 0,
             "ticks": ""
            },
            "type": "mesh3d"
           }
          ],
          "parcoords": [
           {
            "line": {
             "colorbar": {
              "outlinewidth": 0,
              "ticks": ""
             }
            },
            "type": "parcoords"
           }
          ],
          "pie": [
           {
            "automargin": true,
            "type": "pie"
           }
          ],
          "scatter": [
           {
            "fillpattern": {
             "fillmode": "overlay",
             "size": 10,
             "solidity": 0.2
            },
            "type": "scatter"
           }
          ],
          "scatter3d": [
           {
            "line": {
             "colorbar": {
              "outlinewidth": 0,
              "ticks": ""
             }
            },
            "marker": {
             "colorbar": {
              "outlinewidth": 0,
              "ticks": ""
             }
            },
            "type": "scatter3d"
           }
          ],
          "scattercarpet": [
           {
            "marker": {
             "colorbar": {
              "outlinewidth": 0,
              "ticks": ""
             }
            },
            "type": "scattercarpet"
           }
          ],
          "scattergeo": [
           {
            "marker": {
             "colorbar": {
              "outlinewidth": 0,
              "ticks": ""
             }
            },
            "type": "scattergeo"
           }
          ],
          "scattergl": [
           {
            "marker": {
             "colorbar": {
              "outlinewidth": 0,
              "ticks": ""
             }
            },
            "type": "scattergl"
           }
          ],
          "scattermapbox": [
           {
            "marker": {
             "colorbar": {
              "outlinewidth": 0,
              "ticks": ""
             }
            },
            "type": "scattermapbox"
           }
          ],
          "scatterpolar": [
           {
            "marker": {
             "colorbar": {
              "outlinewidth": 0,
              "ticks": ""
             }
            },
            "type": "scatterpolar"
           }
          ],
          "scatterpolargl": [
           {
            "marker": {
             "colorbar": {
              "outlinewidth": 0,
              "ticks": ""
             }
            },
            "type": "scatterpolargl"
           }
          ],
          "scatterternary": [
           {
            "marker": {
             "colorbar": {
              "outlinewidth": 0,
              "ticks": ""
             }
            },
            "type": "scatterternary"
           }
          ],
          "surface": [
           {
            "colorbar": {
             "outlinewidth": 0,
             "ticks": ""
            },
            "colorscale": [
             [
              0,
              "#0d0887"
             ],
             [
              0.1111111111111111,
              "#46039f"
             ],
             [
              0.2222222222222222,
              "#7201a8"
             ],
             [
              0.3333333333333333,
              "#9c179e"
             ],
             [
              0.4444444444444444,
              "#bd3786"
             ],
             [
              0.5555555555555556,
              "#d8576b"
             ],
             [
              0.6666666666666666,
              "#ed7953"
             ],
             [
              0.7777777777777778,
              "#fb9f3a"
             ],
             [
              0.8888888888888888,
              "#fdca26"
             ],
             [
              1,
              "#f0f921"
             ]
            ],
            "type": "surface"
           }
          ],
          "table": [
           {
            "cells": {
             "fill": {
              "color": "#EBF0F8"
             },
             "line": {
              "color": "white"
             }
            },
            "header": {
             "fill": {
              "color": "#C8D4E3"
             },
             "line": {
              "color": "white"
             }
            },
            "type": "table"
           }
          ]
         },
         "layout": {
          "annotationdefaults": {
           "arrowcolor": "#2a3f5f",
           "arrowhead": 0,
           "arrowwidth": 1
          },
          "autotypenumbers": "strict",
          "coloraxis": {
           "colorbar": {
            "outlinewidth": 0,
            "ticks": ""
           }
          },
          "colorscale": {
           "diverging": [
            [
             0,
             "#8e0152"
            ],
            [
             0.1,
             "#c51b7d"
            ],
            [
             0.2,
             "#de77ae"
            ],
            [
             0.3,
             "#f1b6da"
            ],
            [
             0.4,
             "#fde0ef"
            ],
            [
             0.5,
             "#f7f7f7"
            ],
            [
             0.6,
             "#e6f5d0"
            ],
            [
             0.7,
             "#b8e186"
            ],
            [
             0.8,
             "#7fbc41"
            ],
            [
             0.9,
             "#4d9221"
            ],
            [
             1,
             "#276419"
            ]
           ],
           "sequential": [
            [
             0,
             "#0d0887"
            ],
            [
             0.1111111111111111,
             "#46039f"
            ],
            [
             0.2222222222222222,
             "#7201a8"
            ],
            [
             0.3333333333333333,
             "#9c179e"
            ],
            [
             0.4444444444444444,
             "#bd3786"
            ],
            [
             0.5555555555555556,
             "#d8576b"
            ],
            [
             0.6666666666666666,
             "#ed7953"
            ],
            [
             0.7777777777777778,
             "#fb9f3a"
            ],
            [
             0.8888888888888888,
             "#fdca26"
            ],
            [
             1,
             "#f0f921"
            ]
           ],
           "sequentialminus": [
            [
             0,
             "#0d0887"
            ],
            [
             0.1111111111111111,
             "#46039f"
            ],
            [
             0.2222222222222222,
             "#7201a8"
            ],
            [
             0.3333333333333333,
             "#9c179e"
            ],
            [
             0.4444444444444444,
             "#bd3786"
            ],
            [
             0.5555555555555556,
             "#d8576b"
            ],
            [
             0.6666666666666666,
             "#ed7953"
            ],
            [
             0.7777777777777778,
             "#fb9f3a"
            ],
            [
             0.8888888888888888,
             "#fdca26"
            ],
            [
             1,
             "#f0f921"
            ]
           ]
          },
          "colorway": [
           "#636efa",
           "#EF553B",
           "#00cc96",
           "#ab63fa",
           "#FFA15A",
           "#19d3f3",
           "#FF6692",
           "#B6E880",
           "#FF97FF",
           "#FECB52"
          ],
          "font": {
           "color": "#2a3f5f"
          },
          "geo": {
           "bgcolor": "white",
           "lakecolor": "white",
           "landcolor": "#E5ECF6",
           "showlakes": true,
           "showland": true,
           "subunitcolor": "white"
          },
          "hoverlabel": {
           "align": "left"
          },
          "hovermode": "closest",
          "mapbox": {
           "style": "light"
          },
          "paper_bgcolor": "white",
          "plot_bgcolor": "#E5ECF6",
          "polar": {
           "angularaxis": {
            "gridcolor": "white",
            "linecolor": "white",
            "ticks": ""
           },
           "bgcolor": "#E5ECF6",
           "radialaxis": {
            "gridcolor": "white",
            "linecolor": "white",
            "ticks": ""
           }
          },
          "scene": {
           "xaxis": {
            "backgroundcolor": "#E5ECF6",
            "gridcolor": "white",
            "gridwidth": 2,
            "linecolor": "white",
            "showbackground": true,
            "ticks": "",
            "zerolinecolor": "white"
           },
           "yaxis": {
            "backgroundcolor": "#E5ECF6",
            "gridcolor": "white",
            "gridwidth": 2,
            "linecolor": "white",
            "showbackground": true,
            "ticks": "",
            "zerolinecolor": "white"
           },
           "zaxis": {
            "backgroundcolor": "#E5ECF6",
            "gridcolor": "white",
            "gridwidth": 2,
            "linecolor": "white",
            "showbackground": true,
            "ticks": "",
            "zerolinecolor": "white"
           }
          },
          "shapedefaults": {
           "line": {
            "color": "#2a3f5f"
           }
          },
          "ternary": {
           "aaxis": {
            "gridcolor": "white",
            "linecolor": "white",
            "ticks": ""
           },
           "baxis": {
            "gridcolor": "white",
            "linecolor": "white",
            "ticks": ""
           },
           "bgcolor": "#E5ECF6",
           "caxis": {
            "gridcolor": "white",
            "linecolor": "white",
            "ticks": ""
           }
          },
          "title": {
           "x": 0.05
          },
          "xaxis": {
           "automargin": true,
           "gridcolor": "white",
           "linecolor": "white",
           "ticks": "",
           "title": {
            "standoff": 15
           },
           "zerolinecolor": "white",
           "zerolinewidth": 2
          },
          "yaxis": {
           "automargin": true,
           "gridcolor": "white",
           "linecolor": "white",
           "ticks": "",
           "title": {
            "standoff": 15
           },
           "zerolinecolor": "white",
           "zerolinewidth": 2
          }
         }
        },
        "title": {
         "text": "Cause Category by Missingness of Climate Category"
        },
        "xaxis": {
         "anchor": "y",
         "domain": [
          0,
          1
         ],
         "title": {
          "text": "value"
         }
        },
        "yaxis": {
         "anchor": "x",
         "domain": [
          0,
          1
         ],
         "title": {
          "text": "CAUSE.CATEGORY"
         }
        }
       }
      }
     },
     "metadata": {},
     "output_type": "display_data"
    }
   ],
   "source": [
    "outage_dist.plot(kind='barh', title='Cause Category by Missingness of Climate Category', barmode='group')"
   ]
  },
  {
   "cell_type": "code",
   "execution_count": 134,
   "metadata": {},
   "outputs": [
    {
     "data": {
      "text/plain": [
       "0.22801457194899818"
      ]
     },
     "execution_count": 134,
     "metadata": {},
     "output_type": "execute_result"
    }
   ],
   "source": [
    "n_repetitions = 500\n",
    "shuffled = outage_mcar.copy()\n",
    "\n",
    "tvds = []\n",
    "for _ in range(n_repetitions):\n",
    "    \n",
    "    # Shuffling months\n",
    "    shuffled['CAUSE.CATEGORY'] = np.random.permutation(shuffled['CAUSE.CATEGORY'])\n",
    "    \n",
    "    # Computing and storing the TVD.\n",
    "    pivoted = (\n",
    "        shuffled\n",
    "        .pivot_table(index='CAUSE.CATEGORY', columns='CLIMATE_MISSING', aggfunc='size')\n",
    "        .apply(lambda x: x / x.sum())\n",
    "    )\n",
    "    \n",
    "    tvd = pivoted.diff(axis=1).iloc[:, -1].abs().sum() /2\n",
    "    tvds.append(tvd)\n",
    "observed_tvd = outage_dist.diff(axis=1).iloc[:, -1].abs().sum() /2\n",
    "observed_tvd\n"
   ]
  },
  {
   "cell_type": "code",
   "execution_count": 178,
   "metadata": {},
   "outputs": [
    {
     "data": {
      "application/vnd.plotly.v1+json": {
       "config": {
        "plotlyServerURL": "https://plot.ly"
       },
       "data": [
        {
         "alignmentgroup": "True",
         "bingroup": "x",
         "histnorm": "probability",
         "hovertemplate": "0=%{x}<br>probability=%{y}<extra></extra>",
         "legendgroup": "",
         "marker": {
          "color": "#636efa",
          "pattern": {
           "shape": ""
          }
         },
         "name": "",
         "nbinsx": 50,
         "offsetgroup": "",
         "orientation": "v",
         "showlegend": false,
         "type": "histogram",
         "x": [
          0.12397085610200362,
          0.2850273224043716,
          0.25872495446265936,
          0.13781420765027322,
          0.340655737704918,
          0.23092896174863392,
          0.27814207650273226,
          0.17584699453551914,
          0.1739162112932605,
          0.18371584699453553,
          0.182367941712204,
          0.24499089253187611,
          0.16174863387978142,
          0.24754098360655735,
          0.20171220400728596,
          0.31610200364298724,
          0.1504918032786885,
          0.2642987249544626,
          0.13879781420765028,
          0.18903460837887068,
          0.10131147540983602,
          0.21052823315118394,
          0.22473588342440803,
          0.13540983606557372,
          0.2846630236794171,
          0.20761384335154828,
          0.16138433515482695,
          0.3023315118397086,
          0.13675774134790525,
          0.21916211293260476,
          0.29719489981785063,
          0.1902367941712204,
          0.13712204007285972,
          0.26499089253187613,
          0.182367941712204,
          0.18630236794171218,
          0.16826958105646628,
          0.22790528233151183,
          0.21916211293260474,
          0.15846994535519124,
          0.33741347905282326,
          0.2254280510018215,
          0.3016757741347905,
          0.12397085610200362,
          0.19522768670309654,
          0.16531876138433516,
          0.36626593806921676,
          0.1508925318761384,
          0.12397085610200362,
          0.24072859744990893,
          0.17187613843351546,
          0.21744990892531874,
          0.20276867030965393,
          0.16666666666666666,
          0.17420765027322405,
          0.24233151183970855,
          0.27642987249544626,
          0.27020036429872496,
          0.4482695810564663,
          0.24987249544626594,
          0.2505646630236794,
          0.2358105646630237,
          0.27089253187613843,
          0.17351548269581057,
          0.11683060109289617,
          0.18663023679417123,
          0.4233879781420765,
          0.22495446265938068,
          0.19486338797814207,
          0.21555555555555558,
          0.11613843351548267,
          0.16794171220400728,
          0.26010928961748636,
          0.1285245901639344,
          0.2935154826958106,
          0.18131147540983603,
          0.3450273224043716,
          0.20171220400728596,
          0.314535519125683,
          0.2505646630236794,
          0.1751912568306011,
          0.2777777777777778,
          0.23941712204007284,
          0.10954462659380688,
          0.32171220400728595,
          0.15344262295081965,
          0.17326047358834246,
          0.27213114754098355,
          0.24072859744990896,
          0.1620036429872495,
          0.23027322404371586,
          0.2583606557377049,
          0.20965391621129328,
          0.2505646630236794,
          0.1515846994535519,
          0.20965391621129326,
          0.18131147540983605,
          0.22790528233151183,
          0.11264116575591981,
          0.37511839708561023,
          0.15872495446265933,
          0.23577413479052822,
          0.2872495446265938,
          0.153224043715847,
          0.22244080145719491,
          0.17974499089253188,
          0.3076867030965391,
          0.22495446265938068,
          0.1731511839708561,
          0.21770491803278685,
          0.16754098360655734,
          0.22790528233151183,
          0.21978142076502732,
          0.3433151183970856,
          0.20112932604735886,
          0.35020036429872486,
          0.13147540983606554,
          0.2310382513661202,
          0.21056466302367943,
          0.14335154826958105,
          0.2535154826958106,
          0.1817486338797814,
          0.14397085610200366,
          0.2928597449908925,
          0.19985428051001822,
          0.13879781420765028,
          0.13744990892531875,
          0.16010928961748633,
          0.26721311475409837,
          0.15908925318761383,
          0.33650273224043714,
          0.1525318761384335,
          0.1643351548269581,
          0.37511839708561023,
          0.20761384335154828,
          0.16531876138433516,
          0.23639344262295078,
          0.20896174863387978,
          0.27154826958105643,
          0.22429872495446262,
          0.10888888888888885,
          0.2935154826958105,
          0.1866302367941712,
          0.21744990892531876,
          0.13879781420765025,
          0.18797814207650274,
          0.2743897996357013,
          0.2727868852459016,
          0.10200364298724951,
          0.13934426229508193,
          0.314535519125683,
          0.2839708561020036,
          0.17351548269581055,
          0.29806921675774134,
          0.18131147540983605,
          0.30495446265938064,
          0.1620036429872495,
          0.29806921675774134,
          0.13213114754098357,
          0.19613843351548269,
          0.10200364298724951,
          0.13712204007285972,
          0.31453551912568306,
          0.1685245901639344,
          0.18502732240437159,
          0.36528233151183975,
          0.21100182149362479,
          0.31249544626593806,
          0.1863023679417122,
          0.25147540983606553,
          0.2606921675774135,
          0.25675774134790524,
          0.23475409836065572,
          0.24072859744990896,
          0.11683060109289617,
          0.23974499089253187,
          0.1758469945355191,
          0.20072859744990892,
          0.26335154826958107,
          0.1883424408014572,
          0.2505646630236794,
          0.24987249544626594,
          0.20433515482695808,
          0.2393806921675774,
          0.2727868852459016,
          0.17355191256830602,
          0.2659380692167577,
          0.28466302367941715,
          0.31704918032786883,
          0.14229508196721308,
          0.18903460837887068,
          0.2777777777777778,
          0.20695810564663022,
          0.2777777777777778,
          0.1276502732240437,
          0.31938069216757736,
          0.22790528233151183,
          0.14469945355191255,
          0.2325318761384335,
          0.4482695810564663,
          0.25836065573770495,
          0.2896539162112932,
          0.30794171220400735,
          0.18335154826958106,
          0.13610200364298722,
          0.22138433515482697,
          0.19573770491803277,
          0.2347905282331512,
          0.2504918032786885,
          0.22692167577413475,
          0.18109289617486335,
          0.2577777777777778,
          0.28597449908925315,
          0.13810564663023678,
          0.30954462659380694,
          0.18335154826958106,
          0.19715846994535519,
          0.29945355191256834,
          0.16622950819672128,
          0.1525318761384335,
          0.2338069216757741,
          0.23941712204007284,
          0.36528233151183964,
          0.2983970856102004,
          0.16076502732240439,
          0.28502732240437156,
          0.2315482695810565,
          0.19573770491803277,
          0.14655737704918032,
          0.18131147540983608,
          0.22790528233151183,
          0.2063023679417122,
          0.30080145719489987,
          0.16794171220400728,
          0.19318761384335154,
          0.13213114754098357,
          0.13213114754098357,
          0.18131147540983605,
          0.23544626593806917,
          0.1751912568306011,
          0.16531876138433516,
          0.2390892531876139,
          0.20965391621129328,
          0.3365027322404372,
          0.22105646630236794,
          0.1921311475409836,
          0.23704918032786884,
          0.27814207650273226,
          0.3033879781420765,
          0.4246630236794171,
          0.3351548269581056,
          0.12397085610200362,
          0.16531876138433513,
          0.31974499089253183,
          0.17187613843351546,
          0.23613843351548272,
          0.2869581056466302,
          0.23613843351548267,
          0.34535519125683056,
          0.21974499089253186,
          0.21030965391621131,
          0.23446265938069213,
          0.18663023679417123,
          0.31453551912568306,
          0.15344262295081965,
          0.1643351548269581,
          0.2505646630236794,
          0.18797814207650274,
          0.10954462659380688,
          0.18728597449908924,
          0.24204007285974496,
          0.21100182149362479,
          0.36528233151183975,
          0.20531876138433516,
          0.1731511839708561,
          0.1682695810564663,
          0.13610200364298722,
          0.1722040072859745,
          0.3161748633879781,
          0.24958105646630233,
          0.2863752276867031,
          0.2856830601092896,
          0.27814207650273226,
          0.1685245901639344,
          0.16601092896174863,
          0.2853187613843352,
          0.25646630236794166,
          0.3442987249544627,
          0.13781420765027322,
          0.18335154826958106,
          0.2748269581056466,
          0.1739162112932605,
          0.22790528233151183,
          0.17351548269581057,
          0.13147540983606554,
          0.2806193078324226,
          0.12397085610200362,
          0.3023315118397085,
          0.23803278688524587,
          0.23934426229508193,
          0.27999999999999997,
          0.1751912568306011,
          0.182367941712204,
          0.20761384335154826,
          0.26429872495446266,
          0.15118397085610197,
          0.11726775956284151,
          0.2852823315118397,
          0.18768670309653918,
          0.43551912568306017,
          0.20327868852459013,
          0.17351548269581057,
          0.17519125683060105,
          0.3613479052823315,
          0.19781420765027322,
          0.10389799635701275,
          0.2043351548269581,
          0.197632058287796,
          0.193879781420765,
          0.23613843351548267,
          0.18699453551912568,
          0.23092896174863392,
          0.13213114754098357,
          0.31289617486338794,
          0.1794535519125683,
          0.26462659380692166,
          0.1465573770491803,
          0.15872495446265936,
          0.12561020036429868,
          0.250856102003643,
          0.21100182149362476,
          0.14655737704918032,
          0.24958105646630233,
          0.22958105646630236,
          0.3207285974499089,
          0.1731511839708561,
          0.3561748633879781,
          0.153224043715847,
          0.28327868852459015,
          0.180655737704918,
          0.16138433515482695,
          0.34801457194899815,
          0.3508561020036429,
          0.06808743169398904,
          0.2731511839708561,
          0.2718761384335155,
          0.2505646630236794,
          0.15806921675774133,
          0.30102003642987246,
          0.21052823315118396,
          0.14469945355191255,
          0.29122040072859745,
          0.1883424408014572,
          0.16076502732240433,
          0.16138433515482695,
          0.1751912568306011,
          0.12233151183970853,
          0.21282331511839708,
          0.30010928961748634,
          0.28003642987249544,
          0.22958105646630236,
          0.1739162112932605,
          0.18131147540983608,
          0.17351548269581055,
          0.19453551912568304,
          0.31453551912568306,
          0.19657559198542804,
          0.1731511839708561,
          0.18990892531876138,
          0.12397085610200362,
          0.08757741347905279,
          0.28597449908925315,
          0.2535154826958106,
          0.2089617486338798,
          0.14207650273224043,
          0.2233879781420765,
          0.18502732240437159,
          0.182367941712204,
          0.3220765027322405,
          0.27708561020036426,
          0.22728597449908924,
          0.1216757741347905,
          0.21154826958105646,
          0.22269581056466306,
          0.27413479052823314,
          0.1504918032786885,
          0.26429872495446266,
          0.16010928961748633,
          0.10200364298724951,
          0.20171220400728596,
          0.3083424408014572,
          0.4095810564663024,
          0.1751912568306011,
          0.2204007285974499,
          0.2770856102003643,
          0.4014207650273224,
          0.2607285974499089,
          0.2338069216757741,
          0.20994535519125684,
          0.14138433515482696,
          0.2790528233151184,
          0.27708561020036426,
          0.1429508196721311,
          0.22495446265938066,
          0.20433515482695808,
          0.2642987249544626,
          0.11770491803278685,
          0.20531876138433516,
          0.2551183970856102,
          0.10131147540983602,
          0.193879781420765,
          0.35224043715847,
          0.26335154826958107,
          0.21555555555555558,
          0.26557377049180325,
          0.4390892531876138,
          0.1525318761384335,
          0.15344262295081962,
          0.1239708561020036,
          0.21224043715846994,
          0.25194899817850636,
          0.1883424408014572,
          0.16601092896174863,
          0.25570127504553736,
          0.1285245901639344,
          0.27581056466302367,
          0.3016757741347905,
          0.1941712204007286,
          0.17122040072859743,
          0.251511839708561,
          0.291511839708561,
          0.24069216757741346,
          0.16622950819672128,
          0.22877959927140254,
          0.3288888888888889,
          0.2642987249544626,
          0.2181056466302368,
          0.21712204007285973,
          0.26265938069216754,
          0.30010928961748634,
          0.1731511839708561,
          0.1504918032786885,
          0.21508196721311473,
          0.30954462659380694,
          0.14655737704918032,
          0.30564663023679417,
          0.22244080145719491,
          0.16010928961748633,
          0.24375227686703096,
          0.31249544626593806,
          0.2994535519125683,
          0.2859744990892532,
          0.32921675774134795,
          0.18502732240437159,
          0.25253187613843353,
          0.17974499089253188,
          0.32233151183970854,
          0.16531876138433516,
          0.14003642987249545,
          0.13675774134790525,
          0.24987249544626594,
          0.20918032786885243,
          0.3237158469945355,
          0.2043351548269581,
          0.1525318761384335,
          0.3899089253187613,
          0.14207650273224043,
          0.2505646630236794,
          0.1640437158469945,
          0.21584699453551914,
          0.18786885245901638,
          0.2850273224043716,
          0.28859744990892533,
          0.26590163934426225,
          0.15934426229508195,
          0.16601092896174863,
          0.26499089253187613,
          0.20531876138433514,
          0.16826958105646628,
          0.11409836065573767,
          0.29719489981785063,
          0.2604007285974499,
          0.2604007285974499,
          0.23358834244080146,
          0.22790528233151183,
          0.28528233151183974,
          0.26010928961748636,
          0.17519125683060105,
          0.1668852459016393,
          0.1863023679417122,
          0.21154826958105644,
          0.28298724954462656,
          0.23154826958105645,
          0.19617486338797813,
          0.13879781420765025,
          0.15777777777777777,
          0.26429872495446266,
          0.28433515482695804,
          0.12397085610200362,
          0.13744990892531875
         ],
         "xaxis": "x",
         "yaxis": "y"
        }
       ],
       "layout": {
        "annotations": [
         {
          "showarrow": false,
          "text": "<span style=\"color:red\">Observed TVD = 0.35</span>",
          "x": 0.5309836065573771,
          "y": 0.16
         }
        ],
        "barmode": "relative",
        "legend": {
         "tracegroupgap": 0
        },
        "shapes": [
         {
          "line": {
           "color": "red"
          },
          "type": "line",
          "x0": 0.3539890710382514,
          "x1": 0.3539890710382514,
          "xref": "x",
          "y0": 0,
          "y1": 1,
          "yref": "y domain"
         }
        ],
        "template": {
         "data": {
          "bar": [
           {
            "error_x": {
             "color": "#2a3f5f"
            },
            "error_y": {
             "color": "#2a3f5f"
            },
            "marker": {
             "line": {
              "color": "#E5ECF6",
              "width": 0.5
             },
             "pattern": {
              "fillmode": "overlay",
              "size": 10,
              "solidity": 0.2
             }
            },
            "type": "bar"
           }
          ],
          "barpolar": [
           {
            "marker": {
             "line": {
              "color": "#E5ECF6",
              "width": 0.5
             },
             "pattern": {
              "fillmode": "overlay",
              "size": 10,
              "solidity": 0.2
             }
            },
            "type": "barpolar"
           }
          ],
          "carpet": [
           {
            "aaxis": {
             "endlinecolor": "#2a3f5f",
             "gridcolor": "white",
             "linecolor": "white",
             "minorgridcolor": "white",
             "startlinecolor": "#2a3f5f"
            },
            "baxis": {
             "endlinecolor": "#2a3f5f",
             "gridcolor": "white",
             "linecolor": "white",
             "minorgridcolor": "white",
             "startlinecolor": "#2a3f5f"
            },
            "type": "carpet"
           }
          ],
          "choropleth": [
           {
            "colorbar": {
             "outlinewidth": 0,
             "ticks": ""
            },
            "type": "choropleth"
           }
          ],
          "contour": [
           {
            "colorbar": {
             "outlinewidth": 0,
             "ticks": ""
            },
            "colorscale": [
             [
              0,
              "#0d0887"
             ],
             [
              0.1111111111111111,
              "#46039f"
             ],
             [
              0.2222222222222222,
              "#7201a8"
             ],
             [
              0.3333333333333333,
              "#9c179e"
             ],
             [
              0.4444444444444444,
              "#bd3786"
             ],
             [
              0.5555555555555556,
              "#d8576b"
             ],
             [
              0.6666666666666666,
              "#ed7953"
             ],
             [
              0.7777777777777778,
              "#fb9f3a"
             ],
             [
              0.8888888888888888,
              "#fdca26"
             ],
             [
              1,
              "#f0f921"
             ]
            ],
            "type": "contour"
           }
          ],
          "contourcarpet": [
           {
            "colorbar": {
             "outlinewidth": 0,
             "ticks": ""
            },
            "type": "contourcarpet"
           }
          ],
          "heatmap": [
           {
            "colorbar": {
             "outlinewidth": 0,
             "ticks": ""
            },
            "colorscale": [
             [
              0,
              "#0d0887"
             ],
             [
              0.1111111111111111,
              "#46039f"
             ],
             [
              0.2222222222222222,
              "#7201a8"
             ],
             [
              0.3333333333333333,
              "#9c179e"
             ],
             [
              0.4444444444444444,
              "#bd3786"
             ],
             [
              0.5555555555555556,
              "#d8576b"
             ],
             [
              0.6666666666666666,
              "#ed7953"
             ],
             [
              0.7777777777777778,
              "#fb9f3a"
             ],
             [
              0.8888888888888888,
              "#fdca26"
             ],
             [
              1,
              "#f0f921"
             ]
            ],
            "type": "heatmap"
           }
          ],
          "heatmapgl": [
           {
            "colorbar": {
             "outlinewidth": 0,
             "ticks": ""
            },
            "colorscale": [
             [
              0,
              "#0d0887"
             ],
             [
              0.1111111111111111,
              "#46039f"
             ],
             [
              0.2222222222222222,
              "#7201a8"
             ],
             [
              0.3333333333333333,
              "#9c179e"
             ],
             [
              0.4444444444444444,
              "#bd3786"
             ],
             [
              0.5555555555555556,
              "#d8576b"
             ],
             [
              0.6666666666666666,
              "#ed7953"
             ],
             [
              0.7777777777777778,
              "#fb9f3a"
             ],
             [
              0.8888888888888888,
              "#fdca26"
             ],
             [
              1,
              "#f0f921"
             ]
            ],
            "type": "heatmapgl"
           }
          ],
          "histogram": [
           {
            "marker": {
             "pattern": {
              "fillmode": "overlay",
              "size": 10,
              "solidity": 0.2
             }
            },
            "type": "histogram"
           }
          ],
          "histogram2d": [
           {
            "colorbar": {
             "outlinewidth": 0,
             "ticks": ""
            },
            "colorscale": [
             [
              0,
              "#0d0887"
             ],
             [
              0.1111111111111111,
              "#46039f"
             ],
             [
              0.2222222222222222,
              "#7201a8"
             ],
             [
              0.3333333333333333,
              "#9c179e"
             ],
             [
              0.4444444444444444,
              "#bd3786"
             ],
             [
              0.5555555555555556,
              "#d8576b"
             ],
             [
              0.6666666666666666,
              "#ed7953"
             ],
             [
              0.7777777777777778,
              "#fb9f3a"
             ],
             [
              0.8888888888888888,
              "#fdca26"
             ],
             [
              1,
              "#f0f921"
             ]
            ],
            "type": "histogram2d"
           }
          ],
          "histogram2dcontour": [
           {
            "colorbar": {
             "outlinewidth": 0,
             "ticks": ""
            },
            "colorscale": [
             [
              0,
              "#0d0887"
             ],
             [
              0.1111111111111111,
              "#46039f"
             ],
             [
              0.2222222222222222,
              "#7201a8"
             ],
             [
              0.3333333333333333,
              "#9c179e"
             ],
             [
              0.4444444444444444,
              "#bd3786"
             ],
             [
              0.5555555555555556,
              "#d8576b"
             ],
             [
              0.6666666666666666,
              "#ed7953"
             ],
             [
              0.7777777777777778,
              "#fb9f3a"
             ],
             [
              0.8888888888888888,
              "#fdca26"
             ],
             [
              1,
              "#f0f921"
             ]
            ],
            "type": "histogram2dcontour"
           }
          ],
          "mesh3d": [
           {
            "colorbar": {
             "outlinewidth": 0,
             "ticks": ""
            },
            "type": "mesh3d"
           }
          ],
          "parcoords": [
           {
            "line": {
             "colorbar": {
              "outlinewidth": 0,
              "ticks": ""
             }
            },
            "type": "parcoords"
           }
          ],
          "pie": [
           {
            "automargin": true,
            "type": "pie"
           }
          ],
          "scatter": [
           {
            "fillpattern": {
             "fillmode": "overlay",
             "size": 10,
             "solidity": 0.2
            },
            "type": "scatter"
           }
          ],
          "scatter3d": [
           {
            "line": {
             "colorbar": {
              "outlinewidth": 0,
              "ticks": ""
             }
            },
            "marker": {
             "colorbar": {
              "outlinewidth": 0,
              "ticks": ""
             }
            },
            "type": "scatter3d"
           }
          ],
          "scattercarpet": [
           {
            "marker": {
             "colorbar": {
              "outlinewidth": 0,
              "ticks": ""
             }
            },
            "type": "scattercarpet"
           }
          ],
          "scattergeo": [
           {
            "marker": {
             "colorbar": {
              "outlinewidth": 0,
              "ticks": ""
             }
            },
            "type": "scattergeo"
           }
          ],
          "scattergl": [
           {
            "marker": {
             "colorbar": {
              "outlinewidth": 0,
              "ticks": ""
             }
            },
            "type": "scattergl"
           }
          ],
          "scattermapbox": [
           {
            "marker": {
             "colorbar": {
              "outlinewidth": 0,
              "ticks": ""
             }
            },
            "type": "scattermapbox"
           }
          ],
          "scatterpolar": [
           {
            "marker": {
             "colorbar": {
              "outlinewidth": 0,
              "ticks": ""
             }
            },
            "type": "scatterpolar"
           }
          ],
          "scatterpolargl": [
           {
            "marker": {
             "colorbar": {
              "outlinewidth": 0,
              "ticks": ""
             }
            },
            "type": "scatterpolargl"
           }
          ],
          "scatterternary": [
           {
            "marker": {
             "colorbar": {
              "outlinewidth": 0,
              "ticks": ""
             }
            },
            "type": "scatterternary"
           }
          ],
          "surface": [
           {
            "colorbar": {
             "outlinewidth": 0,
             "ticks": ""
            },
            "colorscale": [
             [
              0,
              "#0d0887"
             ],
             [
              0.1111111111111111,
              "#46039f"
             ],
             [
              0.2222222222222222,
              "#7201a8"
             ],
             [
              0.3333333333333333,
              "#9c179e"
             ],
             [
              0.4444444444444444,
              "#bd3786"
             ],
             [
              0.5555555555555556,
              "#d8576b"
             ],
             [
              0.6666666666666666,
              "#ed7953"
             ],
             [
              0.7777777777777778,
              "#fb9f3a"
             ],
             [
              0.8888888888888888,
              "#fdca26"
             ],
             [
              1,
              "#f0f921"
             ]
            ],
            "type": "surface"
           }
          ],
          "table": [
           {
            "cells": {
             "fill": {
              "color": "#EBF0F8"
             },
             "line": {
              "color": "white"
             }
            },
            "header": {
             "fill": {
              "color": "#C8D4E3"
             },
             "line": {
              "color": "white"
             }
            },
            "type": "table"
           }
          ]
         },
         "layout": {
          "annotationdefaults": {
           "arrowcolor": "#2a3f5f",
           "arrowhead": 0,
           "arrowwidth": 1
          },
          "autotypenumbers": "strict",
          "coloraxis": {
           "colorbar": {
            "outlinewidth": 0,
            "ticks": ""
           }
          },
          "colorscale": {
           "diverging": [
            [
             0,
             "#8e0152"
            ],
            [
             0.1,
             "#c51b7d"
            ],
            [
             0.2,
             "#de77ae"
            ],
            [
             0.3,
             "#f1b6da"
            ],
            [
             0.4,
             "#fde0ef"
            ],
            [
             0.5,
             "#f7f7f7"
            ],
            [
             0.6,
             "#e6f5d0"
            ],
            [
             0.7,
             "#b8e186"
            ],
            [
             0.8,
             "#7fbc41"
            ],
            [
             0.9,
             "#4d9221"
            ],
            [
             1,
             "#276419"
            ]
           ],
           "sequential": [
            [
             0,
             "#0d0887"
            ],
            [
             0.1111111111111111,
             "#46039f"
            ],
            [
             0.2222222222222222,
             "#7201a8"
            ],
            [
             0.3333333333333333,
             "#9c179e"
            ],
            [
             0.4444444444444444,
             "#bd3786"
            ],
            [
             0.5555555555555556,
             "#d8576b"
            ],
            [
             0.6666666666666666,
             "#ed7953"
            ],
            [
             0.7777777777777778,
             "#fb9f3a"
            ],
            [
             0.8888888888888888,
             "#fdca26"
            ],
            [
             1,
             "#f0f921"
            ]
           ],
           "sequentialminus": [
            [
             0,
             "#0d0887"
            ],
            [
             0.1111111111111111,
             "#46039f"
            ],
            [
             0.2222222222222222,
             "#7201a8"
            ],
            [
             0.3333333333333333,
             "#9c179e"
            ],
            [
             0.4444444444444444,
             "#bd3786"
            ],
            [
             0.5555555555555556,
             "#d8576b"
            ],
            [
             0.6666666666666666,
             "#ed7953"
            ],
            [
             0.7777777777777778,
             "#fb9f3a"
            ],
            [
             0.8888888888888888,
             "#fdca26"
            ],
            [
             1,
             "#f0f921"
            ]
           ]
          },
          "colorway": [
           "#636efa",
           "#EF553B",
           "#00cc96",
           "#ab63fa",
           "#FFA15A",
           "#19d3f3",
           "#FF6692",
           "#B6E880",
           "#FF97FF",
           "#FECB52"
          ],
          "font": {
           "color": "#2a3f5f"
          },
          "geo": {
           "bgcolor": "white",
           "lakecolor": "white",
           "landcolor": "#E5ECF6",
           "showlakes": true,
           "showland": true,
           "subunitcolor": "white"
          },
          "hoverlabel": {
           "align": "left"
          },
          "hovermode": "closest",
          "mapbox": {
           "style": "light"
          },
          "paper_bgcolor": "white",
          "plot_bgcolor": "#E5ECF6",
          "polar": {
           "angularaxis": {
            "gridcolor": "white",
            "linecolor": "white",
            "ticks": ""
           },
           "bgcolor": "#E5ECF6",
           "radialaxis": {
            "gridcolor": "white",
            "linecolor": "white",
            "ticks": ""
           }
          },
          "scene": {
           "xaxis": {
            "backgroundcolor": "#E5ECF6",
            "gridcolor": "white",
            "gridwidth": 2,
            "linecolor": "white",
            "showbackground": true,
            "ticks": "",
            "zerolinecolor": "white"
           },
           "yaxis": {
            "backgroundcolor": "#E5ECF6",
            "gridcolor": "white",
            "gridwidth": 2,
            "linecolor": "white",
            "showbackground": true,
            "ticks": "",
            "zerolinecolor": "white"
           },
           "zaxis": {
            "backgroundcolor": "#E5ECF6",
            "gridcolor": "white",
            "gridwidth": 2,
            "linecolor": "white",
            "showbackground": true,
            "ticks": "",
            "zerolinecolor": "white"
           }
          },
          "shapedefaults": {
           "line": {
            "color": "#2a3f5f"
           }
          },
          "ternary": {
           "aaxis": {
            "gridcolor": "white",
            "linecolor": "white",
            "ticks": ""
           },
           "baxis": {
            "gridcolor": "white",
            "linecolor": "white",
            "ticks": ""
           },
           "bgcolor": "#E5ECF6",
           "caxis": {
            "gridcolor": "white",
            "linecolor": "white",
            "ticks": ""
           }
          },
          "title": {
           "x": 0.05
          },
          "xaxis": {
           "automargin": true,
           "gridcolor": "white",
           "linecolor": "white",
           "ticks": "",
           "title": {
            "standoff": 15
           },
           "zerolinecolor": "white",
           "zerolinewidth": 2
          },
          "yaxis": {
           "automargin": true,
           "gridcolor": "white",
           "linecolor": "white",
           "ticks": "",
           "title": {
            "standoff": 15
           },
           "zerolinecolor": "white",
           "zerolinewidth": 2
          }
         }
        },
        "title": {
         "text": "Empirical Distribution of the TVD (Climate Category - Cause Category)"
        },
        "xaxis": {
         "anchor": "y",
         "domain": [
          0,
          1
         ],
         "title": {
          "text": "0"
         }
        },
        "yaxis": {
         "anchor": "x",
         "domain": [
          0,
          1
         ],
         "range": [
          0,
          0.2
         ],
         "title": {
          "text": "probability"
         }
        }
       }
      }
     },
     "metadata": {},
     "output_type": "display_data"
    }
   ],
   "source": [
    "fig = px.histogram(pd.DataFrame(tvds), x=0, nbins=50, histnorm='probability', \n",
    "                   title='Empirical Distribution of the TVD (Climate Category - Cause Category)')\n",
    "fig.add_vline(x=observed_tvd, line_color='red')\n",
    "fig.add_annotation(text=f'<span style=\"color:red\">Observed TVD = {round(observed_tvd, 2)}</span>',\n",
    "                   x=1.5 * observed_tvd, showarrow=False, y=0.16)\n",
    "fig.update_layout(yaxis_range=[0, 0.2])"
   ]
  },
  {
   "cell_type": "code",
   "execution_count": null,
   "metadata": {},
   "outputs": [],
   "source": [
    "fig.write_html('missingness-MCAR.html', include_plotlyjs='cdn')"
   ]
  },
  {
   "cell_type": "code",
   "execution_count": 137,
   "metadata": {},
   "outputs": [
    {
     "data": {
      "text/plain": [
       "0.336"
      ]
     },
     "execution_count": 137,
     "metadata": {},
     "output_type": "execute_result"
    }
   ],
   "source": [
    "np.mean(np.array(tvds) >= observed_tvd)"
   ]
  },
  {
   "attachments": {},
   "cell_type": "markdown",
   "metadata": {},
   "source": [
    "**Missingness Dependency:**\n",
    "\n",
    "*CLIMATE.CATEGORY and CAUSE.CATEGORY*\n",
    "- We fail to reject the null.\n",
    "- The null stated that the distribution of 'CAUSE.CATEGORY' when 'CLIMATE.CATEGORY' is missing is the same as the distribution of 'CAUSE.CATEGORY' when 'CLIMATE.CATEGORY' is not missing.\n",
    "- We conclude that the missingness in the 'CAUSE.CATEGORY' column is not dependent on 'CLIMATE.CATEGORY'.\n",
    "- Thus MCAR"
   ]
  },
  {
   "cell_type": "code",
   "execution_count": 139,
   "metadata": {},
   "outputs": [
    {
     "data": {
      "text/html": [
       "<div>\n",
       "<style scoped>\n",
       "    .dataframe tbody tr th:only-of-type {\n",
       "        vertical-align: middle;\n",
       "    }\n",
       "\n",
       "    .dataframe tbody tr th {\n",
       "        vertical-align: top;\n",
       "    }\n",
       "\n",
       "    .dataframe thead th {\n",
       "        text-align: right;\n",
       "    }\n",
       "</style>\n",
       "<table border=\"1\" class=\"dataframe\">\n",
       "  <thead>\n",
       "    <tr style=\"text-align: right;\">\n",
       "      <th></th>\n",
       "      <th>CLIMATE_MISSING = False</th>\n",
       "      <th>CLIMATE_MISSING = True</th>\n",
       "    </tr>\n",
       "    <tr>\n",
       "      <th>NERC.REGION</th>\n",
       "      <th></th>\n",
       "      <th></th>\n",
       "    </tr>\n",
       "  </thead>\n",
       "  <tbody>\n",
       "    <tr>\n",
       "      <th>ASCC</th>\n",
       "      <td>NaN</td>\n",
       "      <td>0.111111</td>\n",
       "    </tr>\n",
       "    <tr>\n",
       "      <th>ECAR</th>\n",
       "      <td>0.022295</td>\n",
       "      <td>NaN</td>\n",
       "    </tr>\n",
       "    <tr>\n",
       "      <th>FRCC</th>\n",
       "      <td>0.028197</td>\n",
       "      <td>0.111111</td>\n",
       "    </tr>\n",
       "    <tr>\n",
       "      <th>FRCC, SERC</th>\n",
       "      <td>0.000656</td>\n",
       "      <td>NaN</td>\n",
       "    </tr>\n",
       "    <tr>\n",
       "      <th>HECO</th>\n",
       "      <td>0.001967</td>\n",
       "      <td>NaN</td>\n",
       "    </tr>\n",
       "    <tr>\n",
       "      <th>HI</th>\n",
       "      <td>0.000656</td>\n",
       "      <td>NaN</td>\n",
       "    </tr>\n",
       "    <tr>\n",
       "      <th>MRO</th>\n",
       "      <td>0.029508</td>\n",
       "      <td>0.111111</td>\n",
       "    </tr>\n",
       "    <tr>\n",
       "      <th>NPCC</th>\n",
       "      <td>0.098361</td>\n",
       "      <td>NaN</td>\n",
       "    </tr>\n",
       "    <tr>\n",
       "      <th>PR</th>\n",
       "      <td>0.000656</td>\n",
       "      <td>NaN</td>\n",
       "    </tr>\n",
       "    <tr>\n",
       "      <th>RFC</th>\n",
       "      <td>0.274098</td>\n",
       "      <td>0.111111</td>\n",
       "    </tr>\n",
       "    <tr>\n",
       "      <th>SERC</th>\n",
       "      <td>0.131803</td>\n",
       "      <td>0.444444</td>\n",
       "    </tr>\n",
       "    <tr>\n",
       "      <th>SPP</th>\n",
       "      <td>0.043279</td>\n",
       "      <td>0.111111</td>\n",
       "    </tr>\n",
       "    <tr>\n",
       "      <th>TRE</th>\n",
       "      <td>0.072787</td>\n",
       "      <td>NaN</td>\n",
       "    </tr>\n",
       "    <tr>\n",
       "      <th>WECC</th>\n",
       "      <td>0.295738</td>\n",
       "      <td>NaN</td>\n",
       "    </tr>\n",
       "  </tbody>\n",
       "</table>\n",
       "</div>"
      ],
      "text/plain": [
       "             CLIMATE_MISSING = False  CLIMATE_MISSING = True\n",
       "NERC.REGION                                                 \n",
       "ASCC                             NaN                0.111111\n",
       "ECAR                        0.022295                     NaN\n",
       "FRCC                        0.028197                0.111111\n",
       "FRCC, SERC                  0.000656                     NaN\n",
       "HECO                        0.001967                     NaN\n",
       "HI                          0.000656                     NaN\n",
       "MRO                         0.029508                0.111111\n",
       "NPCC                        0.098361                     NaN\n",
       "PR                          0.000656                     NaN\n",
       "RFC                         0.274098                0.111111\n",
       "SERC                        0.131803                0.444444\n",
       "SPP                         0.043279                0.111111\n",
       "TRE                         0.072787                     NaN\n",
       "WECC                        0.295738                     NaN"
      ]
     },
     "execution_count": 139,
     "metadata": {},
     "output_type": "execute_result"
    }
   ],
   "source": [
    "outage_mar = outage_clean.copy()\n",
    "outage_mar['CLIMATE_MISSING'] = outage_mar['CLIMATE.CATEGORY'].isna()\n",
    "outage_mar.head()\n",
    "\n",
    "outage_dist = (\n",
    "    outage_mar\n",
    "    .assign(CLIMATE_MISSING=outage_mar['CLIMATE.CATEGORY'].isna())\n",
    "    .pivot_table(index='NERC.REGION', columns='CLIMATE_MISSING', aggfunc='size')\n",
    ")\n",
    "\n",
    "# Added just to make the resulting pivot table easier to read.\n",
    "outage_dist.columns = ['CLIMATE_MISSING = False', 'CLIMATE_MISSING = True']\n",
    "\n",
    "outage_dist = outage_dist / outage_dist.sum()\n",
    "outage_dist"
   ]
  },
  {
   "cell_type": "code",
   "execution_count": 140,
   "metadata": {},
   "outputs": [
    {
     "data": {
      "application/vnd.plotly.v1+json": {
       "config": {
        "plotlyServerURL": "https://plot.ly"
       },
       "data": [
        {
         "alignmentgroup": "True",
         "hovertemplate": "variable=CLIMATE_MISSING = False<br>value=%{x}<br>NERC.REGION=%{y}<extra></extra>",
         "legendgroup": "CLIMATE_MISSING = False",
         "marker": {
          "color": "#636efa",
          "pattern": {
           "shape": ""
          }
         },
         "name": "CLIMATE_MISSING = False",
         "offsetgroup": "CLIMATE_MISSING = False",
         "orientation": "h",
         "showlegend": true,
         "textposition": "auto",
         "type": "bar",
         "x": [
          null,
          0.022295081967213116,
          0.02819672131147541,
          0.0006557377049180328,
          0.0019672131147540984,
          0.0006557377049180328,
          0.029508196721311476,
          0.09836065573770492,
          0.0006557377049180328,
          0.2740983606557377,
          0.1318032786885246,
          0.043278688524590166,
          0.07278688524590164,
          0.2957377049180328
         ],
         "xaxis": "x",
         "y": [
          "ASCC",
          "ECAR",
          "FRCC",
          "FRCC, SERC",
          "HECO",
          "HI",
          "MRO",
          "NPCC",
          "PR",
          "RFC",
          "SERC",
          "SPP",
          "TRE",
          "WECC"
         ],
         "yaxis": "y"
        },
        {
         "alignmentgroup": "True",
         "hovertemplate": "variable=CLIMATE_MISSING = True<br>value=%{x}<br>NERC.REGION=%{y}<extra></extra>",
         "legendgroup": "CLIMATE_MISSING = True",
         "marker": {
          "color": "#EF553B",
          "pattern": {
           "shape": ""
          }
         },
         "name": "CLIMATE_MISSING = True",
         "offsetgroup": "CLIMATE_MISSING = True",
         "orientation": "h",
         "showlegend": true,
         "textposition": "auto",
         "type": "bar",
         "x": [
          0.1111111111111111,
          null,
          0.1111111111111111,
          null,
          null,
          null,
          0.1111111111111111,
          null,
          null,
          0.1111111111111111,
          0.4444444444444444,
          0.1111111111111111,
          null,
          null
         ],
         "xaxis": "x",
         "y": [
          "ASCC",
          "ECAR",
          "FRCC",
          "FRCC, SERC",
          "HECO",
          "HI",
          "MRO",
          "NPCC",
          "PR",
          "RFC",
          "SERC",
          "SPP",
          "TRE",
          "WECC"
         ],
         "yaxis": "y"
        }
       ],
       "layout": {
        "barmode": "group",
        "legend": {
         "title": {
          "text": "variable"
         },
         "tracegroupgap": 0
        },
        "template": {
         "data": {
          "bar": [
           {
            "error_x": {
             "color": "#2a3f5f"
            },
            "error_y": {
             "color": "#2a3f5f"
            },
            "marker": {
             "line": {
              "color": "#E5ECF6",
              "width": 0.5
             },
             "pattern": {
              "fillmode": "overlay",
              "size": 10,
              "solidity": 0.2
             }
            },
            "type": "bar"
           }
          ],
          "barpolar": [
           {
            "marker": {
             "line": {
              "color": "#E5ECF6",
              "width": 0.5
             },
             "pattern": {
              "fillmode": "overlay",
              "size": 10,
              "solidity": 0.2
             }
            },
            "type": "barpolar"
           }
          ],
          "carpet": [
           {
            "aaxis": {
             "endlinecolor": "#2a3f5f",
             "gridcolor": "white",
             "linecolor": "white",
             "minorgridcolor": "white",
             "startlinecolor": "#2a3f5f"
            },
            "baxis": {
             "endlinecolor": "#2a3f5f",
             "gridcolor": "white",
             "linecolor": "white",
             "minorgridcolor": "white",
             "startlinecolor": "#2a3f5f"
            },
            "type": "carpet"
           }
          ],
          "choropleth": [
           {
            "colorbar": {
             "outlinewidth": 0,
             "ticks": ""
            },
            "type": "choropleth"
           }
          ],
          "contour": [
           {
            "colorbar": {
             "outlinewidth": 0,
             "ticks": ""
            },
            "colorscale": [
             [
              0,
              "#0d0887"
             ],
             [
              0.1111111111111111,
              "#46039f"
             ],
             [
              0.2222222222222222,
              "#7201a8"
             ],
             [
              0.3333333333333333,
              "#9c179e"
             ],
             [
              0.4444444444444444,
              "#bd3786"
             ],
             [
              0.5555555555555556,
              "#d8576b"
             ],
             [
              0.6666666666666666,
              "#ed7953"
             ],
             [
              0.7777777777777778,
              "#fb9f3a"
             ],
             [
              0.8888888888888888,
              "#fdca26"
             ],
             [
              1,
              "#f0f921"
             ]
            ],
            "type": "contour"
           }
          ],
          "contourcarpet": [
           {
            "colorbar": {
             "outlinewidth": 0,
             "ticks": ""
            },
            "type": "contourcarpet"
           }
          ],
          "heatmap": [
           {
            "colorbar": {
             "outlinewidth": 0,
             "ticks": ""
            },
            "colorscale": [
             [
              0,
              "#0d0887"
             ],
             [
              0.1111111111111111,
              "#46039f"
             ],
             [
              0.2222222222222222,
              "#7201a8"
             ],
             [
              0.3333333333333333,
              "#9c179e"
             ],
             [
              0.4444444444444444,
              "#bd3786"
             ],
             [
              0.5555555555555556,
              "#d8576b"
             ],
             [
              0.6666666666666666,
              "#ed7953"
             ],
             [
              0.7777777777777778,
              "#fb9f3a"
             ],
             [
              0.8888888888888888,
              "#fdca26"
             ],
             [
              1,
              "#f0f921"
             ]
            ],
            "type": "heatmap"
           }
          ],
          "heatmapgl": [
           {
            "colorbar": {
             "outlinewidth": 0,
             "ticks": ""
            },
            "colorscale": [
             [
              0,
              "#0d0887"
             ],
             [
              0.1111111111111111,
              "#46039f"
             ],
             [
              0.2222222222222222,
              "#7201a8"
             ],
             [
              0.3333333333333333,
              "#9c179e"
             ],
             [
              0.4444444444444444,
              "#bd3786"
             ],
             [
              0.5555555555555556,
              "#d8576b"
             ],
             [
              0.6666666666666666,
              "#ed7953"
             ],
             [
              0.7777777777777778,
              "#fb9f3a"
             ],
             [
              0.8888888888888888,
              "#fdca26"
             ],
             [
              1,
              "#f0f921"
             ]
            ],
            "type": "heatmapgl"
           }
          ],
          "histogram": [
           {
            "marker": {
             "pattern": {
              "fillmode": "overlay",
              "size": 10,
              "solidity": 0.2
             }
            },
            "type": "histogram"
           }
          ],
          "histogram2d": [
           {
            "colorbar": {
             "outlinewidth": 0,
             "ticks": ""
            },
            "colorscale": [
             [
              0,
              "#0d0887"
             ],
             [
              0.1111111111111111,
              "#46039f"
             ],
             [
              0.2222222222222222,
              "#7201a8"
             ],
             [
              0.3333333333333333,
              "#9c179e"
             ],
             [
              0.4444444444444444,
              "#bd3786"
             ],
             [
              0.5555555555555556,
              "#d8576b"
             ],
             [
              0.6666666666666666,
              "#ed7953"
             ],
             [
              0.7777777777777778,
              "#fb9f3a"
             ],
             [
              0.8888888888888888,
              "#fdca26"
             ],
             [
              1,
              "#f0f921"
             ]
            ],
            "type": "histogram2d"
           }
          ],
          "histogram2dcontour": [
           {
            "colorbar": {
             "outlinewidth": 0,
             "ticks": ""
            },
            "colorscale": [
             [
              0,
              "#0d0887"
             ],
             [
              0.1111111111111111,
              "#46039f"
             ],
             [
              0.2222222222222222,
              "#7201a8"
             ],
             [
              0.3333333333333333,
              "#9c179e"
             ],
             [
              0.4444444444444444,
              "#bd3786"
             ],
             [
              0.5555555555555556,
              "#d8576b"
             ],
             [
              0.6666666666666666,
              "#ed7953"
             ],
             [
              0.7777777777777778,
              "#fb9f3a"
             ],
             [
              0.8888888888888888,
              "#fdca26"
             ],
             [
              1,
              "#f0f921"
             ]
            ],
            "type": "histogram2dcontour"
           }
          ],
          "mesh3d": [
           {
            "colorbar": {
             "outlinewidth": 0,
             "ticks": ""
            },
            "type": "mesh3d"
           }
          ],
          "parcoords": [
           {
            "line": {
             "colorbar": {
              "outlinewidth": 0,
              "ticks": ""
             }
            },
            "type": "parcoords"
           }
          ],
          "pie": [
           {
            "automargin": true,
            "type": "pie"
           }
          ],
          "scatter": [
           {
            "fillpattern": {
             "fillmode": "overlay",
             "size": 10,
             "solidity": 0.2
            },
            "type": "scatter"
           }
          ],
          "scatter3d": [
           {
            "line": {
             "colorbar": {
              "outlinewidth": 0,
              "ticks": ""
             }
            },
            "marker": {
             "colorbar": {
              "outlinewidth": 0,
              "ticks": ""
             }
            },
            "type": "scatter3d"
           }
          ],
          "scattercarpet": [
           {
            "marker": {
             "colorbar": {
              "outlinewidth": 0,
              "ticks": ""
             }
            },
            "type": "scattercarpet"
           }
          ],
          "scattergeo": [
           {
            "marker": {
             "colorbar": {
              "outlinewidth": 0,
              "ticks": ""
             }
            },
            "type": "scattergeo"
           }
          ],
          "scattergl": [
           {
            "marker": {
             "colorbar": {
              "outlinewidth": 0,
              "ticks": ""
             }
            },
            "type": "scattergl"
           }
          ],
          "scattermapbox": [
           {
            "marker": {
             "colorbar": {
              "outlinewidth": 0,
              "ticks": ""
             }
            },
            "type": "scattermapbox"
           }
          ],
          "scatterpolar": [
           {
            "marker": {
             "colorbar": {
              "outlinewidth": 0,
              "ticks": ""
             }
            },
            "type": "scatterpolar"
           }
          ],
          "scatterpolargl": [
           {
            "marker": {
             "colorbar": {
              "outlinewidth": 0,
              "ticks": ""
             }
            },
            "type": "scatterpolargl"
           }
          ],
          "scatterternary": [
           {
            "marker": {
             "colorbar": {
              "outlinewidth": 0,
              "ticks": ""
             }
            },
            "type": "scatterternary"
           }
          ],
          "surface": [
           {
            "colorbar": {
             "outlinewidth": 0,
             "ticks": ""
            },
            "colorscale": [
             [
              0,
              "#0d0887"
             ],
             [
              0.1111111111111111,
              "#46039f"
             ],
             [
              0.2222222222222222,
              "#7201a8"
             ],
             [
              0.3333333333333333,
              "#9c179e"
             ],
             [
              0.4444444444444444,
              "#bd3786"
             ],
             [
              0.5555555555555556,
              "#d8576b"
             ],
             [
              0.6666666666666666,
              "#ed7953"
             ],
             [
              0.7777777777777778,
              "#fb9f3a"
             ],
             [
              0.8888888888888888,
              "#fdca26"
             ],
             [
              1,
              "#f0f921"
             ]
            ],
            "type": "surface"
           }
          ],
          "table": [
           {
            "cells": {
             "fill": {
              "color": "#EBF0F8"
             },
             "line": {
              "color": "white"
             }
            },
            "header": {
             "fill": {
              "color": "#C8D4E3"
             },
             "line": {
              "color": "white"
             }
            },
            "type": "table"
           }
          ]
         },
         "layout": {
          "annotationdefaults": {
           "arrowcolor": "#2a3f5f",
           "arrowhead": 0,
           "arrowwidth": 1
          },
          "autotypenumbers": "strict",
          "coloraxis": {
           "colorbar": {
            "outlinewidth": 0,
            "ticks": ""
           }
          },
          "colorscale": {
           "diverging": [
            [
             0,
             "#8e0152"
            ],
            [
             0.1,
             "#c51b7d"
            ],
            [
             0.2,
             "#de77ae"
            ],
            [
             0.3,
             "#f1b6da"
            ],
            [
             0.4,
             "#fde0ef"
            ],
            [
             0.5,
             "#f7f7f7"
            ],
            [
             0.6,
             "#e6f5d0"
            ],
            [
             0.7,
             "#b8e186"
            ],
            [
             0.8,
             "#7fbc41"
            ],
            [
             0.9,
             "#4d9221"
            ],
            [
             1,
             "#276419"
            ]
           ],
           "sequential": [
            [
             0,
             "#0d0887"
            ],
            [
             0.1111111111111111,
             "#46039f"
            ],
            [
             0.2222222222222222,
             "#7201a8"
            ],
            [
             0.3333333333333333,
             "#9c179e"
            ],
            [
             0.4444444444444444,
             "#bd3786"
            ],
            [
             0.5555555555555556,
             "#d8576b"
            ],
            [
             0.6666666666666666,
             "#ed7953"
            ],
            [
             0.7777777777777778,
             "#fb9f3a"
            ],
            [
             0.8888888888888888,
             "#fdca26"
            ],
            [
             1,
             "#f0f921"
            ]
           ],
           "sequentialminus": [
            [
             0,
             "#0d0887"
            ],
            [
             0.1111111111111111,
             "#46039f"
            ],
            [
             0.2222222222222222,
             "#7201a8"
            ],
            [
             0.3333333333333333,
             "#9c179e"
            ],
            [
             0.4444444444444444,
             "#bd3786"
            ],
            [
             0.5555555555555556,
             "#d8576b"
            ],
            [
             0.6666666666666666,
             "#ed7953"
            ],
            [
             0.7777777777777778,
             "#fb9f3a"
            ],
            [
             0.8888888888888888,
             "#fdca26"
            ],
            [
             1,
             "#f0f921"
            ]
           ]
          },
          "colorway": [
           "#636efa",
           "#EF553B",
           "#00cc96",
           "#ab63fa",
           "#FFA15A",
           "#19d3f3",
           "#FF6692",
           "#B6E880",
           "#FF97FF",
           "#FECB52"
          ],
          "font": {
           "color": "#2a3f5f"
          },
          "geo": {
           "bgcolor": "white",
           "lakecolor": "white",
           "landcolor": "#E5ECF6",
           "showlakes": true,
           "showland": true,
           "subunitcolor": "white"
          },
          "hoverlabel": {
           "align": "left"
          },
          "hovermode": "closest",
          "mapbox": {
           "style": "light"
          },
          "paper_bgcolor": "white",
          "plot_bgcolor": "#E5ECF6",
          "polar": {
           "angularaxis": {
            "gridcolor": "white",
            "linecolor": "white",
            "ticks": ""
           },
           "bgcolor": "#E5ECF6",
           "radialaxis": {
            "gridcolor": "white",
            "linecolor": "white",
            "ticks": ""
           }
          },
          "scene": {
           "xaxis": {
            "backgroundcolor": "#E5ECF6",
            "gridcolor": "white",
            "gridwidth": 2,
            "linecolor": "white",
            "showbackground": true,
            "ticks": "",
            "zerolinecolor": "white"
           },
           "yaxis": {
            "backgroundcolor": "#E5ECF6",
            "gridcolor": "white",
            "gridwidth": 2,
            "linecolor": "white",
            "showbackground": true,
            "ticks": "",
            "zerolinecolor": "white"
           },
           "zaxis": {
            "backgroundcolor": "#E5ECF6",
            "gridcolor": "white",
            "gridwidth": 2,
            "linecolor": "white",
            "showbackground": true,
            "ticks": "",
            "zerolinecolor": "white"
           }
          },
          "shapedefaults": {
           "line": {
            "color": "#2a3f5f"
           }
          },
          "ternary": {
           "aaxis": {
            "gridcolor": "white",
            "linecolor": "white",
            "ticks": ""
           },
           "baxis": {
            "gridcolor": "white",
            "linecolor": "white",
            "ticks": ""
           },
           "bgcolor": "#E5ECF6",
           "caxis": {
            "gridcolor": "white",
            "linecolor": "white",
            "ticks": ""
           }
          },
          "title": {
           "x": 0.05
          },
          "xaxis": {
           "automargin": true,
           "gridcolor": "white",
           "linecolor": "white",
           "ticks": "",
           "title": {
            "standoff": 15
           },
           "zerolinecolor": "white",
           "zerolinewidth": 2
          },
          "yaxis": {
           "automargin": true,
           "gridcolor": "white",
           "linecolor": "white",
           "ticks": "",
           "title": {
            "standoff": 15
           },
           "zerolinecolor": "white",
           "zerolinewidth": 2
          }
         }
        },
        "title": {
         "text": "NERC.REGION by Missingness of Climate Category"
        },
        "xaxis": {
         "anchor": "y",
         "domain": [
          0,
          1
         ],
         "title": {
          "text": "value"
         }
        },
        "yaxis": {
         "anchor": "x",
         "domain": [
          0,
          1
         ],
         "title": {
          "text": "NERC.REGION"
         }
        }
       }
      }
     },
     "metadata": {},
     "output_type": "display_data"
    }
   ],
   "source": [
    "outage_dist.plot(kind='barh', title='NERC.REGION by Missingness of Climate Category', barmode='group')"
   ]
  },
  {
   "cell_type": "code",
   "execution_count": 141,
   "metadata": {},
   "outputs": [],
   "source": [
    "n_repetitions = 500\n",
    "shuffled = outage_mar.copy()\n",
    "\n",
    "tvds = []\n",
    "for _ in range(n_repetitions):\n",
    "    \n",
    "    # Shuffling months\n",
    "    shuffled['NERC.REGION'] = np.random.permutation(shuffled['NERC.REGION'])\n",
    "    \n",
    "    # Computing and storing the TVD.\n",
    "    pivoted = (\n",
    "        shuffled\n",
    "        .pivot_table(index='NERC.REGION', columns='CLIMATE_MISSING', aggfunc='size')\n",
    "        .apply(lambda x: x / x.sum())\n",
    "    )\n",
    "    \n",
    "    tvd = pivoted.diff(axis=1).iloc[:, -1].abs().sum() /2\n",
    "    tvds.append(tvd)"
   ]
  },
  {
   "cell_type": "code",
   "execution_count": 142,
   "metadata": {},
   "outputs": [
    {
     "data": {
      "text/plain": [
       "0.3539890710382514"
      ]
     },
     "execution_count": 142,
     "metadata": {},
     "output_type": "execute_result"
    }
   ],
   "source": [
    "observed_tvd = outage_dist.diff(axis=1).iloc[:, -1].abs().sum() /2\n",
    "observed_tvd"
   ]
  },
  {
   "cell_type": "code",
   "execution_count": 172,
   "metadata": {},
   "outputs": [
    {
     "data": {
      "application/vnd.plotly.v1+json": {
       "config": {
        "plotlyServerURL": "https://plot.ly"
       },
       "data": [
        {
         "alignmentgroup": "True",
         "bingroup": "x",
         "histnorm": "probability",
         "hovertemplate": "0=%{x}<br>probability=%{y}<extra></extra>",
         "legendgroup": "",
         "marker": {
          "color": "#636efa",
          "pattern": {
           "shape": ""
          }
         },
         "name": "",
         "nbinsx": 50,
         "offsetgroup": "",
         "orientation": "v",
         "showlegend": false,
         "type": "histogram",
         "x": [
          0.12397085610200362,
          0.2850273224043716,
          0.25872495446265936,
          0.13781420765027322,
          0.340655737704918,
          0.23092896174863392,
          0.27814207650273226,
          0.17584699453551914,
          0.1739162112932605,
          0.18371584699453553,
          0.182367941712204,
          0.24499089253187611,
          0.16174863387978142,
          0.24754098360655735,
          0.20171220400728596,
          0.31610200364298724,
          0.1504918032786885,
          0.2642987249544626,
          0.13879781420765028,
          0.18903460837887068,
          0.10131147540983602,
          0.21052823315118394,
          0.22473588342440803,
          0.13540983606557372,
          0.2846630236794171,
          0.20761384335154828,
          0.16138433515482695,
          0.3023315118397086,
          0.13675774134790525,
          0.21916211293260476,
          0.29719489981785063,
          0.1902367941712204,
          0.13712204007285972,
          0.26499089253187613,
          0.182367941712204,
          0.18630236794171218,
          0.16826958105646628,
          0.22790528233151183,
          0.21916211293260474,
          0.15846994535519124,
          0.33741347905282326,
          0.2254280510018215,
          0.3016757741347905,
          0.12397085610200362,
          0.19522768670309654,
          0.16531876138433516,
          0.36626593806921676,
          0.1508925318761384,
          0.12397085610200362,
          0.24072859744990893,
          0.17187613843351546,
          0.21744990892531874,
          0.20276867030965393,
          0.16666666666666666,
          0.17420765027322405,
          0.24233151183970855,
          0.27642987249544626,
          0.27020036429872496,
          0.4482695810564663,
          0.24987249544626594,
          0.2505646630236794,
          0.2358105646630237,
          0.27089253187613843,
          0.17351548269581057,
          0.11683060109289617,
          0.18663023679417123,
          0.4233879781420765,
          0.22495446265938068,
          0.19486338797814207,
          0.21555555555555558,
          0.11613843351548267,
          0.16794171220400728,
          0.26010928961748636,
          0.1285245901639344,
          0.2935154826958106,
          0.18131147540983603,
          0.3450273224043716,
          0.20171220400728596,
          0.314535519125683,
          0.2505646630236794,
          0.1751912568306011,
          0.2777777777777778,
          0.23941712204007284,
          0.10954462659380688,
          0.32171220400728595,
          0.15344262295081965,
          0.17326047358834246,
          0.27213114754098355,
          0.24072859744990896,
          0.1620036429872495,
          0.23027322404371586,
          0.2583606557377049,
          0.20965391621129328,
          0.2505646630236794,
          0.1515846994535519,
          0.20965391621129326,
          0.18131147540983605,
          0.22790528233151183,
          0.11264116575591981,
          0.37511839708561023,
          0.15872495446265933,
          0.23577413479052822,
          0.2872495446265938,
          0.153224043715847,
          0.22244080145719491,
          0.17974499089253188,
          0.3076867030965391,
          0.22495446265938068,
          0.1731511839708561,
          0.21770491803278685,
          0.16754098360655734,
          0.22790528233151183,
          0.21978142076502732,
          0.3433151183970856,
          0.20112932604735886,
          0.35020036429872486,
          0.13147540983606554,
          0.2310382513661202,
          0.21056466302367943,
          0.14335154826958105,
          0.2535154826958106,
          0.1817486338797814,
          0.14397085610200366,
          0.2928597449908925,
          0.19985428051001822,
          0.13879781420765028,
          0.13744990892531875,
          0.16010928961748633,
          0.26721311475409837,
          0.15908925318761383,
          0.33650273224043714,
          0.1525318761384335,
          0.1643351548269581,
          0.37511839708561023,
          0.20761384335154828,
          0.16531876138433516,
          0.23639344262295078,
          0.20896174863387978,
          0.27154826958105643,
          0.22429872495446262,
          0.10888888888888885,
          0.2935154826958105,
          0.1866302367941712,
          0.21744990892531876,
          0.13879781420765025,
          0.18797814207650274,
          0.2743897996357013,
          0.2727868852459016,
          0.10200364298724951,
          0.13934426229508193,
          0.314535519125683,
          0.2839708561020036,
          0.17351548269581055,
          0.29806921675774134,
          0.18131147540983605,
          0.30495446265938064,
          0.1620036429872495,
          0.29806921675774134,
          0.13213114754098357,
          0.19613843351548269,
          0.10200364298724951,
          0.13712204007285972,
          0.31453551912568306,
          0.1685245901639344,
          0.18502732240437159,
          0.36528233151183975,
          0.21100182149362479,
          0.31249544626593806,
          0.1863023679417122,
          0.25147540983606553,
          0.2606921675774135,
          0.25675774134790524,
          0.23475409836065572,
          0.24072859744990896,
          0.11683060109289617,
          0.23974499089253187,
          0.1758469945355191,
          0.20072859744990892,
          0.26335154826958107,
          0.1883424408014572,
          0.2505646630236794,
          0.24987249544626594,
          0.20433515482695808,
          0.2393806921675774,
          0.2727868852459016,
          0.17355191256830602,
          0.2659380692167577,
          0.28466302367941715,
          0.31704918032786883,
          0.14229508196721308,
          0.18903460837887068,
          0.2777777777777778,
          0.20695810564663022,
          0.2777777777777778,
          0.1276502732240437,
          0.31938069216757736,
          0.22790528233151183,
          0.14469945355191255,
          0.2325318761384335,
          0.4482695810564663,
          0.25836065573770495,
          0.2896539162112932,
          0.30794171220400735,
          0.18335154826958106,
          0.13610200364298722,
          0.22138433515482697,
          0.19573770491803277,
          0.2347905282331512,
          0.2504918032786885,
          0.22692167577413475,
          0.18109289617486335,
          0.2577777777777778,
          0.28597449908925315,
          0.13810564663023678,
          0.30954462659380694,
          0.18335154826958106,
          0.19715846994535519,
          0.29945355191256834,
          0.16622950819672128,
          0.1525318761384335,
          0.2338069216757741,
          0.23941712204007284,
          0.36528233151183964,
          0.2983970856102004,
          0.16076502732240439,
          0.28502732240437156,
          0.2315482695810565,
          0.19573770491803277,
          0.14655737704918032,
          0.18131147540983608,
          0.22790528233151183,
          0.2063023679417122,
          0.30080145719489987,
          0.16794171220400728,
          0.19318761384335154,
          0.13213114754098357,
          0.13213114754098357,
          0.18131147540983605,
          0.23544626593806917,
          0.1751912568306011,
          0.16531876138433516,
          0.2390892531876139,
          0.20965391621129328,
          0.3365027322404372,
          0.22105646630236794,
          0.1921311475409836,
          0.23704918032786884,
          0.27814207650273226,
          0.3033879781420765,
          0.4246630236794171,
          0.3351548269581056,
          0.12397085610200362,
          0.16531876138433513,
          0.31974499089253183,
          0.17187613843351546,
          0.23613843351548272,
          0.2869581056466302,
          0.23613843351548267,
          0.34535519125683056,
          0.21974499089253186,
          0.21030965391621131,
          0.23446265938069213,
          0.18663023679417123,
          0.31453551912568306,
          0.15344262295081965,
          0.1643351548269581,
          0.2505646630236794,
          0.18797814207650274,
          0.10954462659380688,
          0.18728597449908924,
          0.24204007285974496,
          0.21100182149362479,
          0.36528233151183975,
          0.20531876138433516,
          0.1731511839708561,
          0.1682695810564663,
          0.13610200364298722,
          0.1722040072859745,
          0.3161748633879781,
          0.24958105646630233,
          0.2863752276867031,
          0.2856830601092896,
          0.27814207650273226,
          0.1685245901639344,
          0.16601092896174863,
          0.2853187613843352,
          0.25646630236794166,
          0.3442987249544627,
          0.13781420765027322,
          0.18335154826958106,
          0.2748269581056466,
          0.1739162112932605,
          0.22790528233151183,
          0.17351548269581057,
          0.13147540983606554,
          0.2806193078324226,
          0.12397085610200362,
          0.3023315118397085,
          0.23803278688524587,
          0.23934426229508193,
          0.27999999999999997,
          0.1751912568306011,
          0.182367941712204,
          0.20761384335154826,
          0.26429872495446266,
          0.15118397085610197,
          0.11726775956284151,
          0.2852823315118397,
          0.18768670309653918,
          0.43551912568306017,
          0.20327868852459013,
          0.17351548269581057,
          0.17519125683060105,
          0.3613479052823315,
          0.19781420765027322,
          0.10389799635701275,
          0.2043351548269581,
          0.197632058287796,
          0.193879781420765,
          0.23613843351548267,
          0.18699453551912568,
          0.23092896174863392,
          0.13213114754098357,
          0.31289617486338794,
          0.1794535519125683,
          0.26462659380692166,
          0.1465573770491803,
          0.15872495446265936,
          0.12561020036429868,
          0.250856102003643,
          0.21100182149362476,
          0.14655737704918032,
          0.24958105646630233,
          0.22958105646630236,
          0.3207285974499089,
          0.1731511839708561,
          0.3561748633879781,
          0.153224043715847,
          0.28327868852459015,
          0.180655737704918,
          0.16138433515482695,
          0.34801457194899815,
          0.3508561020036429,
          0.06808743169398904,
          0.2731511839708561,
          0.2718761384335155,
          0.2505646630236794,
          0.15806921675774133,
          0.30102003642987246,
          0.21052823315118396,
          0.14469945355191255,
          0.29122040072859745,
          0.1883424408014572,
          0.16076502732240433,
          0.16138433515482695,
          0.1751912568306011,
          0.12233151183970853,
          0.21282331511839708,
          0.30010928961748634,
          0.28003642987249544,
          0.22958105646630236,
          0.1739162112932605,
          0.18131147540983608,
          0.17351548269581055,
          0.19453551912568304,
          0.31453551912568306,
          0.19657559198542804,
          0.1731511839708561,
          0.18990892531876138,
          0.12397085610200362,
          0.08757741347905279,
          0.28597449908925315,
          0.2535154826958106,
          0.2089617486338798,
          0.14207650273224043,
          0.2233879781420765,
          0.18502732240437159,
          0.182367941712204,
          0.3220765027322405,
          0.27708561020036426,
          0.22728597449908924,
          0.1216757741347905,
          0.21154826958105646,
          0.22269581056466306,
          0.27413479052823314,
          0.1504918032786885,
          0.26429872495446266,
          0.16010928961748633,
          0.10200364298724951,
          0.20171220400728596,
          0.3083424408014572,
          0.4095810564663024,
          0.1751912568306011,
          0.2204007285974499,
          0.2770856102003643,
          0.4014207650273224,
          0.2607285974499089,
          0.2338069216757741,
          0.20994535519125684,
          0.14138433515482696,
          0.2790528233151184,
          0.27708561020036426,
          0.1429508196721311,
          0.22495446265938066,
          0.20433515482695808,
          0.2642987249544626,
          0.11770491803278685,
          0.20531876138433516,
          0.2551183970856102,
          0.10131147540983602,
          0.193879781420765,
          0.35224043715847,
          0.26335154826958107,
          0.21555555555555558,
          0.26557377049180325,
          0.4390892531876138,
          0.1525318761384335,
          0.15344262295081962,
          0.1239708561020036,
          0.21224043715846994,
          0.25194899817850636,
          0.1883424408014572,
          0.16601092896174863,
          0.25570127504553736,
          0.1285245901639344,
          0.27581056466302367,
          0.3016757741347905,
          0.1941712204007286,
          0.17122040072859743,
          0.251511839708561,
          0.291511839708561,
          0.24069216757741346,
          0.16622950819672128,
          0.22877959927140254,
          0.3288888888888889,
          0.2642987249544626,
          0.2181056466302368,
          0.21712204007285973,
          0.26265938069216754,
          0.30010928961748634,
          0.1731511839708561,
          0.1504918032786885,
          0.21508196721311473,
          0.30954462659380694,
          0.14655737704918032,
          0.30564663023679417,
          0.22244080145719491,
          0.16010928961748633,
          0.24375227686703096,
          0.31249544626593806,
          0.2994535519125683,
          0.2859744990892532,
          0.32921675774134795,
          0.18502732240437159,
          0.25253187613843353,
          0.17974499089253188,
          0.32233151183970854,
          0.16531876138433516,
          0.14003642987249545,
          0.13675774134790525,
          0.24987249544626594,
          0.20918032786885243,
          0.3237158469945355,
          0.2043351548269581,
          0.1525318761384335,
          0.3899089253187613,
          0.14207650273224043,
          0.2505646630236794,
          0.1640437158469945,
          0.21584699453551914,
          0.18786885245901638,
          0.2850273224043716,
          0.28859744990892533,
          0.26590163934426225,
          0.15934426229508195,
          0.16601092896174863,
          0.26499089253187613,
          0.20531876138433514,
          0.16826958105646628,
          0.11409836065573767,
          0.29719489981785063,
          0.2604007285974499,
          0.2604007285974499,
          0.23358834244080146,
          0.22790528233151183,
          0.28528233151183974,
          0.26010928961748636,
          0.17519125683060105,
          0.1668852459016393,
          0.1863023679417122,
          0.21154826958105644,
          0.28298724954462656,
          0.23154826958105645,
          0.19617486338797813,
          0.13879781420765025,
          0.15777777777777777,
          0.26429872495446266,
          0.28433515482695804,
          0.12397085610200362,
          0.13744990892531875
         ],
         "xaxis": "x",
         "yaxis": "y"
        }
       ],
       "layout": {
        "annotations": [
         {
          "showarrow": false,
          "text": "<span style=\"color:red\">Observed TVD = 0.35</span>",
          "x": 0.5309836065573771,
          "y": 0.16
         }
        ],
        "barmode": "relative",
        "legend": {
         "tracegroupgap": 0
        },
        "shapes": [
         {
          "line": {
           "color": "red"
          },
          "type": "line",
          "x0": 0.3539890710382514,
          "x1": 0.3539890710382514,
          "xref": "x",
          "y0": 0,
          "y1": 1,
          "yref": "y domain"
         }
        ],
        "template": {
         "data": {
          "bar": [
           {
            "error_x": {
             "color": "#2a3f5f"
            },
            "error_y": {
             "color": "#2a3f5f"
            },
            "marker": {
             "line": {
              "color": "#E5ECF6",
              "width": 0.5
             },
             "pattern": {
              "fillmode": "overlay",
              "size": 10,
              "solidity": 0.2
             }
            },
            "type": "bar"
           }
          ],
          "barpolar": [
           {
            "marker": {
             "line": {
              "color": "#E5ECF6",
              "width": 0.5
             },
             "pattern": {
              "fillmode": "overlay",
              "size": 10,
              "solidity": 0.2
             }
            },
            "type": "barpolar"
           }
          ],
          "carpet": [
           {
            "aaxis": {
             "endlinecolor": "#2a3f5f",
             "gridcolor": "white",
             "linecolor": "white",
             "minorgridcolor": "white",
             "startlinecolor": "#2a3f5f"
            },
            "baxis": {
             "endlinecolor": "#2a3f5f",
             "gridcolor": "white",
             "linecolor": "white",
             "minorgridcolor": "white",
             "startlinecolor": "#2a3f5f"
            },
            "type": "carpet"
           }
          ],
          "choropleth": [
           {
            "colorbar": {
             "outlinewidth": 0,
             "ticks": ""
            },
            "type": "choropleth"
           }
          ],
          "contour": [
           {
            "colorbar": {
             "outlinewidth": 0,
             "ticks": ""
            },
            "colorscale": [
             [
              0,
              "#0d0887"
             ],
             [
              0.1111111111111111,
              "#46039f"
             ],
             [
              0.2222222222222222,
              "#7201a8"
             ],
             [
              0.3333333333333333,
              "#9c179e"
             ],
             [
              0.4444444444444444,
              "#bd3786"
             ],
             [
              0.5555555555555556,
              "#d8576b"
             ],
             [
              0.6666666666666666,
              "#ed7953"
             ],
             [
              0.7777777777777778,
              "#fb9f3a"
             ],
             [
              0.8888888888888888,
              "#fdca26"
             ],
             [
              1,
              "#f0f921"
             ]
            ],
            "type": "contour"
           }
          ],
          "contourcarpet": [
           {
            "colorbar": {
             "outlinewidth": 0,
             "ticks": ""
            },
            "type": "contourcarpet"
           }
          ],
          "heatmap": [
           {
            "colorbar": {
             "outlinewidth": 0,
             "ticks": ""
            },
            "colorscale": [
             [
              0,
              "#0d0887"
             ],
             [
              0.1111111111111111,
              "#46039f"
             ],
             [
              0.2222222222222222,
              "#7201a8"
             ],
             [
              0.3333333333333333,
              "#9c179e"
             ],
             [
              0.4444444444444444,
              "#bd3786"
             ],
             [
              0.5555555555555556,
              "#d8576b"
             ],
             [
              0.6666666666666666,
              "#ed7953"
             ],
             [
              0.7777777777777778,
              "#fb9f3a"
             ],
             [
              0.8888888888888888,
              "#fdca26"
             ],
             [
              1,
              "#f0f921"
             ]
            ],
            "type": "heatmap"
           }
          ],
          "heatmapgl": [
           {
            "colorbar": {
             "outlinewidth": 0,
             "ticks": ""
            },
            "colorscale": [
             [
              0,
              "#0d0887"
             ],
             [
              0.1111111111111111,
              "#46039f"
             ],
             [
              0.2222222222222222,
              "#7201a8"
             ],
             [
              0.3333333333333333,
              "#9c179e"
             ],
             [
              0.4444444444444444,
              "#bd3786"
             ],
             [
              0.5555555555555556,
              "#d8576b"
             ],
             [
              0.6666666666666666,
              "#ed7953"
             ],
             [
              0.7777777777777778,
              "#fb9f3a"
             ],
             [
              0.8888888888888888,
              "#fdca26"
             ],
             [
              1,
              "#f0f921"
             ]
            ],
            "type": "heatmapgl"
           }
          ],
          "histogram": [
           {
            "marker": {
             "pattern": {
              "fillmode": "overlay",
              "size": 10,
              "solidity": 0.2
             }
            },
            "type": "histogram"
           }
          ],
          "histogram2d": [
           {
            "colorbar": {
             "outlinewidth": 0,
             "ticks": ""
            },
            "colorscale": [
             [
              0,
              "#0d0887"
             ],
             [
              0.1111111111111111,
              "#46039f"
             ],
             [
              0.2222222222222222,
              "#7201a8"
             ],
             [
              0.3333333333333333,
              "#9c179e"
             ],
             [
              0.4444444444444444,
              "#bd3786"
             ],
             [
              0.5555555555555556,
              "#d8576b"
             ],
             [
              0.6666666666666666,
              "#ed7953"
             ],
             [
              0.7777777777777778,
              "#fb9f3a"
             ],
             [
              0.8888888888888888,
              "#fdca26"
             ],
             [
              1,
              "#f0f921"
             ]
            ],
            "type": "histogram2d"
           }
          ],
          "histogram2dcontour": [
           {
            "colorbar": {
             "outlinewidth": 0,
             "ticks": ""
            },
            "colorscale": [
             [
              0,
              "#0d0887"
             ],
             [
              0.1111111111111111,
              "#46039f"
             ],
             [
              0.2222222222222222,
              "#7201a8"
             ],
             [
              0.3333333333333333,
              "#9c179e"
             ],
             [
              0.4444444444444444,
              "#bd3786"
             ],
             [
              0.5555555555555556,
              "#d8576b"
             ],
             [
              0.6666666666666666,
              "#ed7953"
             ],
             [
              0.7777777777777778,
              "#fb9f3a"
             ],
             [
              0.8888888888888888,
              "#fdca26"
             ],
             [
              1,
              "#f0f921"
             ]
            ],
            "type": "histogram2dcontour"
           }
          ],
          "mesh3d": [
           {
            "colorbar": {
             "outlinewidth": 0,
             "ticks": ""
            },
            "type": "mesh3d"
           }
          ],
          "parcoords": [
           {
            "line": {
             "colorbar": {
              "outlinewidth": 0,
              "ticks": ""
             }
            },
            "type": "parcoords"
           }
          ],
          "pie": [
           {
            "automargin": true,
            "type": "pie"
           }
          ],
          "scatter": [
           {
            "fillpattern": {
             "fillmode": "overlay",
             "size": 10,
             "solidity": 0.2
            },
            "type": "scatter"
           }
          ],
          "scatter3d": [
           {
            "line": {
             "colorbar": {
              "outlinewidth": 0,
              "ticks": ""
             }
            },
            "marker": {
             "colorbar": {
              "outlinewidth": 0,
              "ticks": ""
             }
            },
            "type": "scatter3d"
           }
          ],
          "scattercarpet": [
           {
            "marker": {
             "colorbar": {
              "outlinewidth": 0,
              "ticks": ""
             }
            },
            "type": "scattercarpet"
           }
          ],
          "scattergeo": [
           {
            "marker": {
             "colorbar": {
              "outlinewidth": 0,
              "ticks": ""
             }
            },
            "type": "scattergeo"
           }
          ],
          "scattergl": [
           {
            "marker": {
             "colorbar": {
              "outlinewidth": 0,
              "ticks": ""
             }
            },
            "type": "scattergl"
           }
          ],
          "scattermapbox": [
           {
            "marker": {
             "colorbar": {
              "outlinewidth": 0,
              "ticks": ""
             }
            },
            "type": "scattermapbox"
           }
          ],
          "scatterpolar": [
           {
            "marker": {
             "colorbar": {
              "outlinewidth": 0,
              "ticks": ""
             }
            },
            "type": "scatterpolar"
           }
          ],
          "scatterpolargl": [
           {
            "marker": {
             "colorbar": {
              "outlinewidth": 0,
              "ticks": ""
             }
            },
            "type": "scatterpolargl"
           }
          ],
          "scatterternary": [
           {
            "marker": {
             "colorbar": {
              "outlinewidth": 0,
              "ticks": ""
             }
            },
            "type": "scatterternary"
           }
          ],
          "surface": [
           {
            "colorbar": {
             "outlinewidth": 0,
             "ticks": ""
            },
            "colorscale": [
             [
              0,
              "#0d0887"
             ],
             [
              0.1111111111111111,
              "#46039f"
             ],
             [
              0.2222222222222222,
              "#7201a8"
             ],
             [
              0.3333333333333333,
              "#9c179e"
             ],
             [
              0.4444444444444444,
              "#bd3786"
             ],
             [
              0.5555555555555556,
              "#d8576b"
             ],
             [
              0.6666666666666666,
              "#ed7953"
             ],
             [
              0.7777777777777778,
              "#fb9f3a"
             ],
             [
              0.8888888888888888,
              "#fdca26"
             ],
             [
              1,
              "#f0f921"
             ]
            ],
            "type": "surface"
           }
          ],
          "table": [
           {
            "cells": {
             "fill": {
              "color": "#EBF0F8"
             },
             "line": {
              "color": "white"
             }
            },
            "header": {
             "fill": {
              "color": "#C8D4E3"
             },
             "line": {
              "color": "white"
             }
            },
            "type": "table"
           }
          ]
         },
         "layout": {
          "annotationdefaults": {
           "arrowcolor": "#2a3f5f",
           "arrowhead": 0,
           "arrowwidth": 1
          },
          "autotypenumbers": "strict",
          "coloraxis": {
           "colorbar": {
            "outlinewidth": 0,
            "ticks": ""
           }
          },
          "colorscale": {
           "diverging": [
            [
             0,
             "#8e0152"
            ],
            [
             0.1,
             "#c51b7d"
            ],
            [
             0.2,
             "#de77ae"
            ],
            [
             0.3,
             "#f1b6da"
            ],
            [
             0.4,
             "#fde0ef"
            ],
            [
             0.5,
             "#f7f7f7"
            ],
            [
             0.6,
             "#e6f5d0"
            ],
            [
             0.7,
             "#b8e186"
            ],
            [
             0.8,
             "#7fbc41"
            ],
            [
             0.9,
             "#4d9221"
            ],
            [
             1,
             "#276419"
            ]
           ],
           "sequential": [
            [
             0,
             "#0d0887"
            ],
            [
             0.1111111111111111,
             "#46039f"
            ],
            [
             0.2222222222222222,
             "#7201a8"
            ],
            [
             0.3333333333333333,
             "#9c179e"
            ],
            [
             0.4444444444444444,
             "#bd3786"
            ],
            [
             0.5555555555555556,
             "#d8576b"
            ],
            [
             0.6666666666666666,
             "#ed7953"
            ],
            [
             0.7777777777777778,
             "#fb9f3a"
            ],
            [
             0.8888888888888888,
             "#fdca26"
            ],
            [
             1,
             "#f0f921"
            ]
           ],
           "sequentialminus": [
            [
             0,
             "#0d0887"
            ],
            [
             0.1111111111111111,
             "#46039f"
            ],
            [
             0.2222222222222222,
             "#7201a8"
            ],
            [
             0.3333333333333333,
             "#9c179e"
            ],
            [
             0.4444444444444444,
             "#bd3786"
            ],
            [
             0.5555555555555556,
             "#d8576b"
            ],
            [
             0.6666666666666666,
             "#ed7953"
            ],
            [
             0.7777777777777778,
             "#fb9f3a"
            ],
            [
             0.8888888888888888,
             "#fdca26"
            ],
            [
             1,
             "#f0f921"
            ]
           ]
          },
          "colorway": [
           "#636efa",
           "#EF553B",
           "#00cc96",
           "#ab63fa",
           "#FFA15A",
           "#19d3f3",
           "#FF6692",
           "#B6E880",
           "#FF97FF",
           "#FECB52"
          ],
          "font": {
           "color": "#2a3f5f"
          },
          "geo": {
           "bgcolor": "white",
           "lakecolor": "white",
           "landcolor": "#E5ECF6",
           "showlakes": true,
           "showland": true,
           "subunitcolor": "white"
          },
          "hoverlabel": {
           "align": "left"
          },
          "hovermode": "closest",
          "mapbox": {
           "style": "light"
          },
          "paper_bgcolor": "white",
          "plot_bgcolor": "#E5ECF6",
          "polar": {
           "angularaxis": {
            "gridcolor": "white",
            "linecolor": "white",
            "ticks": ""
           },
           "bgcolor": "#E5ECF6",
           "radialaxis": {
            "gridcolor": "white",
            "linecolor": "white",
            "ticks": ""
           }
          },
          "scene": {
           "xaxis": {
            "backgroundcolor": "#E5ECF6",
            "gridcolor": "white",
            "gridwidth": 2,
            "linecolor": "white",
            "showbackground": true,
            "ticks": "",
            "zerolinecolor": "white"
           },
           "yaxis": {
            "backgroundcolor": "#E5ECF6",
            "gridcolor": "white",
            "gridwidth": 2,
            "linecolor": "white",
            "showbackground": true,
            "ticks": "",
            "zerolinecolor": "white"
           },
           "zaxis": {
            "backgroundcolor": "#E5ECF6",
            "gridcolor": "white",
            "gridwidth": 2,
            "linecolor": "white",
            "showbackground": true,
            "ticks": "",
            "zerolinecolor": "white"
           }
          },
          "shapedefaults": {
           "line": {
            "color": "#2a3f5f"
           }
          },
          "ternary": {
           "aaxis": {
            "gridcolor": "white",
            "linecolor": "white",
            "ticks": ""
           },
           "baxis": {
            "gridcolor": "white",
            "linecolor": "white",
            "ticks": ""
           },
           "bgcolor": "#E5ECF6",
           "caxis": {
            "gridcolor": "white",
            "linecolor": "white",
            "ticks": ""
           }
          },
          "title": {
           "x": 0.05
          },
          "xaxis": {
           "automargin": true,
           "gridcolor": "white",
           "linecolor": "white",
           "ticks": "",
           "title": {
            "standoff": 15
           },
           "zerolinecolor": "white",
           "zerolinewidth": 2
          },
          "yaxis": {
           "automargin": true,
           "gridcolor": "white",
           "linecolor": "white",
           "ticks": "",
           "title": {
            "standoff": 15
           },
           "zerolinecolor": "white",
           "zerolinewidth": 2
          }
         }
        },
        "title": {
         "text": "Empirical Distribution of the TVD (Climate Category - NERC Region"
        },
        "xaxis": {
         "anchor": "y",
         "domain": [
          0,
          1
         ],
         "title": {
          "text": "0"
         }
        },
        "yaxis": {
         "anchor": "x",
         "domain": [
          0,
          1
         ],
         "range": [
          0,
          0.2
         ],
         "title": {
          "text": "probability"
         }
        }
       }
      }
     },
     "metadata": {},
     "output_type": "display_data"
    }
   ],
   "source": [
    "fig = px.histogram(pd.DataFrame(tvds), x=0, nbins=50, histnorm='probability', \n",
    "                   title='Empirical Distribution of the TVD (Climate Category - NERC Region')\n",
    "fig.add_vline(x=observed_tvd, line_color='red')\n",
    "fig.add_annotation(text=f'<span style=\"color:red\">Observed TVD = {round(observed_tvd, 2)}</span>',\n",
    "                   x=1.5 * observed_tvd, showarrow=False, y=0.16)\n",
    "fig.update_layout(yaxis_range=[0, 0.2])"
   ]
  },
  {
   "cell_type": "code",
   "execution_count": null,
   "metadata": {},
   "outputs": [],
   "source": [
    "fig.write_html('missingness-MAR.html', include_plotlyjs='cdn')"
   ]
  },
  {
   "cell_type": "code",
   "execution_count": 144,
   "metadata": {},
   "outputs": [
    {
     "data": {
      "text/plain": [
       "0.034"
      ]
     },
     "execution_count": 144,
     "metadata": {},
     "output_type": "execute_result"
    }
   ],
   "source": [
    "np.mean(np.array(tvds) >= observed_tvd)"
   ]
  },
  {
   "attachments": {},
   "cell_type": "markdown",
   "metadata": {},
   "source": [
    "**Missingness Dependency:**\n",
    "\n",
    "*CLIMATE.CATEGORY and NERC.REGION*\n",
    "- We reject the null.\n",
    "- The null stated that the distribution of 'NERC.REGION' when 'CLIMATE.CATEGORY' is missing is the same as the distribution of 'NERC.REGION' when 'CLIMATE.CATEGORY' is not missing.\n",
    "- We conclude that the missingness in the 'CLIMATE.CATEGORY' column is not dependent on 'NERC.REGION'.\n",
    "- Thus MAR"
   ]
  },
  {
   "attachments": {},
   "cell_type": "markdown",
   "metadata": {},
   "source": [
    "### Hypothesis Testing"
   ]
  },
  {
   "cell_type": "code",
   "execution_count": 151,
   "metadata": {
    "ExecuteTime": {
     "end_time": "2019-10-31T23:36:28.666489Z",
     "start_time": "2019-10-31T23:36:28.664381Z"
    }
   },
   "outputs": [
    {
     "data": {
      "text/plain": [
       "OBS                      severe weather\n",
       "YEAR                     severe weather\n",
       "MONTH                    severe weather\n",
       "U.S._STATE               severe weather\n",
       "POSTAL.CODE              severe weather\n",
       "NERC.REGION              severe weather\n",
       "CLIMATE.REGION           severe weather\n",
       "ANOMALY.LEVEL            severe weather\n",
       "CLIMATE.CATEGORY         severe weather\n",
       "CAUSE.CATEGORY.DETAIL    severe weather\n",
       "HURRICANE.NAMES          severe weather\n",
       "OUTAGE.DURATION          severe weather\n",
       "DEMAND.LOSS.MW           severe weather\n",
       "CUSTOMERS.AFFECTED       severe weather\n",
       "RES.PRICE                severe weather\n",
       "COM.PRICE                severe weather\n",
       "IND.PRICE                severe weather\n",
       "TOTAL.PRICE              severe weather\n",
       "RES.SALES                severe weather\n",
       "COM.SALES                severe weather\n",
       "IND.SALES                severe weather\n",
       "TOTAL.SALES              severe weather\n",
       "RES.PERCEN               severe weather\n",
       "COM.PERCEN               severe weather\n",
       "IND.PERCEN               severe weather\n",
       "RES.CUSTOMERS            severe weather\n",
       "COM.CUSTOMERS            severe weather\n",
       "IND.CUSTOMERS            severe weather\n",
       "TOTAL.CUSTOMERS          severe weather\n",
       "RES.CUST.PCT             severe weather\n",
       "COM.CUST.PCT             severe weather\n",
       "IND.CUST.PCT             severe weather\n",
       "PC.REALGSP.STATE         severe weather\n",
       "PC.REALGSP.USA           severe weather\n",
       "PC.REALGSP.REL           severe weather\n",
       "PC.REALGSP.CHANGE        severe weather\n",
       "UTIL.REALGSP             severe weather\n",
       "TOTAL.REALGSP            severe weather\n",
       "UTIL.CONTRI              severe weather\n",
       "PI.UTIL.OFUSA            severe weather\n",
       "POPULATION               severe weather\n",
       "POPPCT_URBAN             severe weather\n",
       "POPPCT_UC                severe weather\n",
       "POPDEN_URBAN             severe weather\n",
       "POPDEN_UC                severe weather\n",
       "POPDEN_RURAL             severe weather\n",
       "AREAPCT_URBAN            severe weather\n",
       "AREAPCT_UC               severe weather\n",
       "PCT_LAND                 severe weather\n",
       "PCT_WATER_TOT            severe weather\n",
       "PCT_WATER_INLAND         severe weather\n",
       "OUTAGE.START             severe weather\n",
       "OUTAGE.RESTORATION       severe weather\n",
       "dtype: object"
      ]
     },
     "execution_count": 151,
     "metadata": {},
     "output_type": "execute_result"
    }
   ],
   "source": [
    "outage_clean.groupby(['CAUSE.CATEGORY']).count().idxmax()"
   ]
  },
  {
   "attachments": {},
   "cell_type": "markdown",
   "metadata": {},
   "source": [
    "**Hypothesis Testing:**\n",
    "\n",
    "Clearly state a pair of hypotheses and perform a hypothesis test or permutation test that is not related to missingness. Feel free to use the “sample questions” in each of the dataset descriptions or create your own. This should be the question that is stated clearly at the top of your report.\n",
    "\n",
    "Clearly state your null and alternative hypotheses, your choice of test statistic and significance level, the resulting p-value, and your conclusion. Justify why these choices are good choices for answering the question you are trying to answer.\n",
    "\n",
    "Optional: Embed a visualization related to your hypothesis test in your website.\n",
    "\n",
    "Tip: When making writing your conclusions to the statistical tests in this project, never use language that implies an absolute conclusion; since we are performing statistical tests and not randomized controlled trials, we cannot prove that either hypothesis is 100% true or false.\n"
   ]
  },
  {
   "attachments": {},
   "cell_type": "markdown",
   "metadata": {},
   "source": [
    "**Null Hypothesis**\n",
    "- In the population durations of outages caused by 'severe weather' and those with any other cause have the same distribution, and the observed differences in our samples are due to random chance. 'Severe Weather' vs all other cause categories have no relationship to duration of the outage. In other words 'severe weather' and all other cause category labels may well have been assigned at random. Simple: outage durations come from the same distribution.\n",
    "\n",
    "**Alternative Hypothesis**\n",
    "- In the population, outages caused by 'severe weather' have longer outage durations than others, on average. The observed difference in our samples cannot be explained by random chance alone. Outages caused by 'severe weather' and those that aren't come from different population distributions. That is, they come from different data generating processes. Simple: outage durations come from different distributions.\n",
    "\n",
    "**Test Statistic**\n",
    "- Our test statistic will be *mean outage duration of outages caused by severe weather* − *mean outage duration of outages not caused by severe weather*\n",
    "\n",
    "**Significance Level**\n",
    "- Our significance level will be 0.05\n",
    "\n",
    "**P-Value**\n",
    "- The p-value is 0\n",
    "\n",
    "**Conclusion**\n",
    "- Under the null hypothesis, we rarely see differences as large as 2537 duration. Therefore, we reject the null hypothesis that the two groups come from the same distribution. Thus the observed differences in our samples are not due to random chance. And we can conclude that outages caused by 'severe weather' vs outages not caused by severe weather have some relationship to the duration of the outages."
   ]
  },
  {
   "cell_type": "code",
   "execution_count": 153,
   "metadata": {},
   "outputs": [],
   "source": [
    "outage_test = outage_clean.copy()\n",
    "outage_test['SEVERE.WEATHER'] = outage_test['CAUSE.CATEGORY'] == 'severe weather'\n"
   ]
  },
  {
   "cell_type": "code",
   "execution_count": 154,
   "metadata": {},
   "outputs": [
    {
     "data": {
      "text/plain": [
       "SEVERE.WEATHER\n",
       "False    1346.178962\n",
       "True     3883.985215\n",
       "Name: OUTAGE.DURATION, dtype: float64"
      ]
     },
     "execution_count": 154,
     "metadata": {},
     "output_type": "execute_result"
    }
   ],
   "source": [
    "group_means = outage_test.groupby('SEVERE.WEATHER')['OUTAGE.DURATION'].mean()\n",
    "group_means"
   ]
  },
  {
   "cell_type": "code",
   "execution_count": 159,
   "metadata": {},
   "outputs": [
    {
     "data": {
      "text/plain": [
       "2537.8062533051298"
      ]
     },
     "execution_count": 159,
     "metadata": {},
     "output_type": "execute_result"
    }
   ],
   "source": [
    "group_means.loc[True] - group_means.loc[False]"
   ]
  },
  {
   "cell_type": "code",
   "execution_count": 161,
   "metadata": {},
   "outputs": [],
   "source": [
    "n_repetitions = 500\n",
    "\n",
    "differences = []\n",
    "for _ in range(n_repetitions):\n",
    "    \n",
    "    # Step 1: Shuffle the weights and store them in a DataFrame.\n",
    "    with_shuffled = outage_test.assign(Shuffled_Durations=np.random.permutation(outage_test['OUTAGE.DURATION']))\n",
    "\n",
    "    # Step 2: Compute the test statistic.\n",
    "    # Remember, alphabetically, False comes before True,\n",
    "    # so this computes True - False.\n",
    "    group_means = (\n",
    "        with_shuffled\n",
    "        .groupby('SEVERE.WEATHER')\n",
    "        .mean()\n",
    "        .loc[:, 'Shuffled_Durations']\n",
    "    )\n",
    "    difference = group_means.diff().iloc[-1]\n",
    "    \n",
    "    # Step 4: Store the result\n",
    "    differences.append(difference)\n",
    "    "
   ]
  },
  {
   "cell_type": "code",
   "execution_count": 162,
   "metadata": {},
   "outputs": [
    {
     "data": {
      "text/plain": [
       "2537.8062533051298"
      ]
     },
     "execution_count": 162,
     "metadata": {},
     "output_type": "execute_result"
    }
   ],
   "source": [
    "observed_difference = outage_test.groupby('SEVERE.WEATHER')['OUTAGE.DURATION'].mean().diff().iloc[-1]\n",
    "observed_difference"
   ]
  },
  {
   "cell_type": "code",
   "execution_count": 168,
   "metadata": {},
   "outputs": [
    {
     "data": {
      "text/plain": [
       "0.0"
      ]
     },
     "execution_count": 168,
     "metadata": {},
     "output_type": "execute_result"
    }
   ],
   "source": [
    "np.mean(differences >= observed_difference)"
   ]
  },
  {
   "cell_type": "code",
   "execution_count": 167,
   "metadata": {},
   "outputs": [
    {
     "data": {
      "application/vnd.plotly.v1+json": {
       "config": {
        "plotlyServerURL": "https://plot.ly"
       },
       "data": [
        {
         "alignmentgroup": "True",
         "bingroup": "x",
         "histnorm": "probability",
         "hovertemplate": "0=%{x}<br>probability=%{y}<extra></extra>",
         "legendgroup": "",
         "marker": {
          "color": "#636efa",
          "pattern": {
           "shape": ""
          }
         },
         "name": "",
         "nbinsx": 50,
         "offsetgroup": "",
         "orientation": "v",
         "showlegend": false,
         "type": "histogram",
         "x": [
          -135.9051490514903,
          305.1886318193756,
          324.6666666666665,
          272.2535088170275,
          49.433954919688404,
          106.8069140771313,
          94.85761603995297,
          -22.97282935025123,
          -405.7216227381641,
          -158.96337916446328,
          -15.022327995108299,
          -264.6709422502445,
          -442.82250681649157,
          -225.27575678012954,
          921.5523423944478,
          -213.28623496425917,
          125.66699288860627,
          -94.93204653622433,
          20.847735537190147,
          106.08130081300806,
          377.69011995013216,
          357.2272185633524,
          -293.00160290836993,
          -81.56530936012723,
          -139.9406232610927,
          59.024343303754904,
          130.7529986411546,
          142.10161151433158,
          445.8795231161598,
          -173.21409214092137,
          164.16207551846674,
          -153.30081300813026,
          108.02734283196241,
          -47.08606557377061,
          222.40600211528272,
          174.12406710936102,
          -218.98318889541724,
          -69.17392893013312,
          6.462346895122209,
          110.21915227629552,
          -59.41477118326611,
          337.9773268112108,
          -216.7933782324817,
          191.77417980713426,
          -178.25008078730934,
          -224.355600282071,
          -657.2737979599519,
          -330.06140930724496,
          -112.36212607504604,
          -130.95904830463633,
          -8.836056151818866,
          140.06848794354391,
          271.08655258519366,
          -267.631696949109,
          403.75563834533887,
          85.3591295342876,
          91.34590201570336,
          -431.1851257484591,
          -189.12392888552677,
          137.9114573674442,
          136.82995680789827,
          71.81079929786938,
          127.32946601219737,
          -342.94884581769566,
          41.19904155994391,
          479.7861706815511,
          712.5161046282101,
          -155.31544156530936,
          222.06624793388391,
          523.8394397798188,
          -621.0571634248104,
          985.8001883802781,
          -79.47418181818193,
          -45.210602855631805,
          -523.9993316723062,
          275.1993948162785,
          -345.53843498379547,
          -63.86720867208669,
          516.1517054468532,
          199.9126302724062,
          408.22947141522036,
          239.6939071167185,
          18.248202687292178,
          177.86796661984636,
          -143.0549192655394,
          -437.87120548624307,
          124.0011237440508,
          476.50135501355,
          -451.98162196109524,
          -437.091863844757,
          -38.65716725272887,
          291.3837284239403,
          -102.58924233661082,
          291.9091581817679,
          -321.0322128131493,
          127.3454868601998,
          -88.73270562659263,
          -2.3476675327533485,
          -418.29523270929894,
          -180.59082496033807,
          -294.16143082742656,
          -29.541964802114762,
          -248.8955939735033,
          -128.78993395673888,
          -385.8103516657852,
          144.15023687979738,
          -708.4853160694256,
          -575.99819315271,
          -192.42629561078775,
          -82.51939710966599,
          174.63004472777766,
          190.8672875158627,
          465.5466498238293,
          334.3459482684225,
          128.7782468110736,
          274.3113689989809,
          -97.3116076150186,
          423.251597976478,
          84.88811038585482,
          -81.36861045828437,
          -64.59184932714379,
          -60.71747070586889,
          -140.24006316098712,
          245.8830585038013,
          146.1612395642651,
          -153.79334049409226,
          -7.75200687441702,
          201.60162601626007,
          -243.26765973307283,
          -410.0647914218571,
          533.3353921743233,
          418.0614291354127,
          67.46961508585764,
          238.31213231783886,
          -28.95019306224458,
          251.6470789122418,
          -253.37764190696498,
          -165.7528877986265,
          413.7750684423422,
          -6.1673717609728556,
          -16.375644229339287,
          172.08917793907312,
          -221.43307138660384,
          -92.48067421300493,
          -251.09952904238662,
          -169.42502960915908,
          -66.58864744278299,
          -483.60956443027817,
          121.98775344583555,
          -114.36760504417725,
          238.6740164709554,
          -456.206915546024,
          408.4254714330573,
          -494.90391451233836,
          -189.15209825847614,
          -278.1314384863258,
          -211.2351645123381,
          762.7774089306699,
          264.83355153829916,
          315.96156014123017,
          445.5095774042675,
          -303.4064196261338,
          106.64897189535168,
          -246.57307579318467,
          694.1060099737801,
          -4.535514089045591,
          154.71002710027096,
          127.25694966052879,
          339.3133557210872,
          138.97046057125226,
          693.8884124900155,
          197.9982702742409,
          489.81392120571127,
          79.09217097532292,
          69.42299048122686,
          38.183855448235136,
          330.4763135908338,
          -91.08130081300806,
          362.55426456223313,
          -447.39439808312,
          -206.58945060675433,
          -28.33230574890331,
          -126.32343365230463,
          -313.8014046104272,
          -428.50790713046354,
          110.5405779565699,
          -121.65853658536571,
          15.22878344654373,
          -456.6930716702868,
          201.29377050745552,
          -25.169147496616915,
          485.58224687933443,
          148.62249950885234,
          51.42451084082495,
          186.33373422521026,
          2.0537056928033053,
          52.82026705446833,
          -47.94255547700595,
          136.38814127049454,
          286.3602743121537,
          404.6094668037599,
          -391.02781286721483,
          -173.07770270270248,
          264.2317420681552,
          -344.61753130721763,
          231.58651586368978,
          357.24889881996114,
          165.0756496970739,
          -137.06193494122363,
          -50.02967162907544,
          327.59806110458294,
          -56.29133819227536,
          -325.5543363299839,
          -210.542005420054,
          -7.249322493225009,
          94.77345448668984,
          -142.72678466510024,
          266.8402773696889,
          -414.26715124980956,
          164.03081736524746,
          297.15991076592536,
          25.795897383167812,
          88.00280552291406,
          194.83301660745292,
          49.67835126514274,
          -28.368978782398244,
          -113.98005978392621,
          -36.51191245593418,
          113.79403794037944,
          -32.40707821590195,
          -186.4177929892271,
          105.42210878107926,
          357.31537635297036,
          -542.6263240518879,
          -440.73956701912994,
          106.68621084797542,
          -89.21046630545152,
          92.28144217262343,
          217.91605137762917,
          -106.65164008923375,
          -334.9918699186992,
          446.5761896455165,
          4.920894535840489,
          136.3375954759108,
          -501.0240105758903,
          489.0817813765184,
          -112.8024456521739,
          709.1273789566653,
          -212.16329198762378,
          242.86409533690176,
          -454.33249603384456,
          120.28376800311389,
          -116.92823266958612,
          120.65050246135388,
          403.6446479620595,
          211.45954878548127,
          63.11457361722114,
          264.7122201107163,
          -561.1957365942326,
          88.5540467097535,
          -9.129597532315074,
          -21.86488630354279,
          -357.1769657350619,
          533.9252379693285,
          92.19471350269487,
          -86.69376693766935,
          -129.2101718566396,
          -512.2400851938892,
          275.5965097831836,
          -172.52822248213897,
          267.2407171775594,
          433.97788977939354,
          -154.02640667603055,
          -186.98185223266773,
          -135.3431711145995,
          55.91584900117505,
          289.90240893066994,
          665.6077661631343,
          41.936181112121176,
          -55.359730301428044,
          -537.3679199034964,
          -53.48222679200944,
          -613.3723502117996,
          247.17589334900276,
          274.47037610993175,
          -229.91654961579752,
          464.816644019244,
          -55.16423140495863,
          -374.3610237955345,
          -231.7864992150703,
          145.7969759563748,
          -349.3322094964219,
          -331.3512749279771,
          -419.31466217667776,
          214.98792419988877,
          -703.8891016684324,
          -133.60236054930147,
          258.1853448592433,
          -454.3401446986668,
          -327.230352303523,
          16.10254847238548,
          52.94308943089436,
          -151.27836448675362,
          16.364253281507445,
          -264.147730611046,
          -135.00170205734094,
          180.699329255865,
          210.15315970386018,
          264.3698365279215,
          82.07889106612583,
          144.82776399648174,
          553.7375921556386,
          51.30198680603644,
          -137.4724393253805,
          199.1544715447153,
          -234.5040110609434,
          -358.1215291484509,
          -203.2519211524159,
          -31.942068474211737,
          375.80166715628684,
          -123.34042834479123,
          326.08218443571195,
          215.3575284414319,
          228.15837838631978,
          545.4973082544416,
          315.4516304347826,
          -223.57942861339598,
          -184.49413600932803,
          -299.71180328591254,
          -371.09541715628666,
          200.4406101773352,
          248.39033777394206,
          367.8079547541224,
          -485.28595769682715,
          -57.68301299235418,
          158.92213114754077,
          -286.3212757167644,
          -44.98761206882318,
          -214.9575813218994,
          -169.6987523754442,
          -54.79924130447171,
          -395.73807324709196,
          -77.09821749891671,
          435.3179197544009,
          -353.4803014278159,
          -210.17545805233885,
          128.31567834342877,
          -534.6944330199763,
          147.47749706227933,
          345.74607948442554,
          210.542383525873,
          147.9864498644988,
          -36.159345461489465,
          -350.66937669376694,
          -296.61519535840216,
          -280.7912309048179,
          46.296800634585,
          -406.5146166402569,
          -542.1902210536173,
          34.809475191891124,
          31.548563003655545,
          439.2241082690862,
          190.7741504292835,
          168.72415673901742,
          -454.6956813912966,
          137.75542041248036,
          297.1642268421697,
          -425.1626431252157,
          -431.9764899865777,
          -6.7204494753368635,
          -66.1287168713643,
          156.75108650747734,
          362.1839876602153,
          -2.0529194969176388,
          97.39995298818803,
          -364.48558717194965,
          241.29810298102984,
          -407.10481698752346,
          86.65491971097799,
          -1001.6232338570635,
          107.42496313936908,
          -517.103617466672,
          496.18892120571127,
          -7.603841069330429,
          492.68762106554186,
          -103.90968028598581,
          -199.1752066115705,
          -547.0632431678132,
          -461.3084432039368,
          -414.65284928428173,
          -433.0403658910518,
          -678.6698175568486,
          159.37319675457138,
          392.3675817406297,
          -25.145471771557823,
          175.31299161996822,
          352.47421998942355,
          -203.47055712659312,
          219.75332153323006,
          358.24153886832346,
          -138.54446704906832,
          -321.15026468044607,
          -286.8126451702933,
          -130.7651430701735,
          -240.39076377858783,
          421.95980375595855,
          293.46337271750826,
          13.824780603897125,
          -223.49338974087777,
          397.96946489197035,
          469.6893252020427,
          91.0870909691871,
          227.20010869984344,
          -277.0335140137495,
          -56.544955425591525,
          38.44830466929716,
          587.6388154415654,
          -211.51553723409097,
          -277.70022474881034,
          339.54530478969673,
          308.7862903225805,
          49.05825002065603,
          -231.9057423779227,
          138.79592320106894,
          -454.4138342584447,
          156.268839238498,
          672.1168060668938,
          529.4210413242868,
          134.3608695652174,
          -3.505710083130907,
          -217.03340109408828,
          -286.28178613395994,
          655.3986254611023,
          -291.19673621069205,
          -56.93808146740457,
          95.4823848238484,
          -370.21968107080875,
          -156.2130801997646,
          -27.67337900440498,
          426.2872064389244,
          66.22884348095886,
          -100.79182489257755,
          -86.40743406508682,
          531.3169690971886,
          -37.76372863679444,
          505.6833798472385,
          -161.3964004164809,
          -106.66578290733605,
          -199.68447454042052,
          -537.2522515078908,
          -451.46124367649327,
          -172.18662303535166,
          -284.6746748989485,
          216.05680551602563,
          -535.5163106057962,
          634.3514708582761,
          -660.9624767028713,
          31.239527389903287,
          -277.3731874943769,
          -170.91398354876583,
          -155.62982548915897,
          -350.8373983739839,
          -148.85122696852022,
          161.8031096454829,
          85.01262661963892,
          196.65937004172292,
          204.61195531628937,
          65.35226070861972,
          380.0803682412147,
          -32.0116260282025,
          356.34623971797873,
          200.16203539611752,
          -82.86844042794974,
          -564.2690513790444,
          59.47154249117284,
          -243.3442937197501,
          14.837398373983888,
          -249.28543336362873,
          218.16402544823632,
          114.00271002710042,
          -370.2841969958499,
          416.60501671012526,
          77.02890192514269,
          -345.54282409319967,
          108.15128374147798,
          -77.36719989423591,
          59.67036574618123,
          -128.27095926026595,
          186.36896619471554,
          -774.6832776675074,
          -397.01897018970203,
          86.04690366403884,
          274.15889070686035,
          59.18005005113446,
          405.8587984723854,
          -332.5328554667917,
          -344.5796909857063,
          138.39994124559325,
          -342.77539898793293,
          -26.935682178741445
         ],
         "xaxis": "x",
         "yaxis": "y"
        }
       ],
       "layout": {
        "barmode": "relative",
        "legend": {
         "tracegroupgap": 0
        },
        "shapes": [
         {
          "line": {
           "color": "red"
          },
          "type": "line",
          "x0": 2537.8062533051298,
          "x1": 2537.8062533051298,
          "xref": "x",
          "y0": 0,
          "y1": 1,
          "yref": "y domain"
         }
        ],
        "template": {
         "data": {
          "bar": [
           {
            "error_x": {
             "color": "#2a3f5f"
            },
            "error_y": {
             "color": "#2a3f5f"
            },
            "marker": {
             "line": {
              "color": "#E5ECF6",
              "width": 0.5
             },
             "pattern": {
              "fillmode": "overlay",
              "size": 10,
              "solidity": 0.2
             }
            },
            "type": "bar"
           }
          ],
          "barpolar": [
           {
            "marker": {
             "line": {
              "color": "#E5ECF6",
              "width": 0.5
             },
             "pattern": {
              "fillmode": "overlay",
              "size": 10,
              "solidity": 0.2
             }
            },
            "type": "barpolar"
           }
          ],
          "carpet": [
           {
            "aaxis": {
             "endlinecolor": "#2a3f5f",
             "gridcolor": "white",
             "linecolor": "white",
             "minorgridcolor": "white",
             "startlinecolor": "#2a3f5f"
            },
            "baxis": {
             "endlinecolor": "#2a3f5f",
             "gridcolor": "white",
             "linecolor": "white",
             "minorgridcolor": "white",
             "startlinecolor": "#2a3f5f"
            },
            "type": "carpet"
           }
          ],
          "choropleth": [
           {
            "colorbar": {
             "outlinewidth": 0,
             "ticks": ""
            },
            "type": "choropleth"
           }
          ],
          "contour": [
           {
            "colorbar": {
             "outlinewidth": 0,
             "ticks": ""
            },
            "colorscale": [
             [
              0,
              "#0d0887"
             ],
             [
              0.1111111111111111,
              "#46039f"
             ],
             [
              0.2222222222222222,
              "#7201a8"
             ],
             [
              0.3333333333333333,
              "#9c179e"
             ],
             [
              0.4444444444444444,
              "#bd3786"
             ],
             [
              0.5555555555555556,
              "#d8576b"
             ],
             [
              0.6666666666666666,
              "#ed7953"
             ],
             [
              0.7777777777777778,
              "#fb9f3a"
             ],
             [
              0.8888888888888888,
              "#fdca26"
             ],
             [
              1,
              "#f0f921"
             ]
            ],
            "type": "contour"
           }
          ],
          "contourcarpet": [
           {
            "colorbar": {
             "outlinewidth": 0,
             "ticks": ""
            },
            "type": "contourcarpet"
           }
          ],
          "heatmap": [
           {
            "colorbar": {
             "outlinewidth": 0,
             "ticks": ""
            },
            "colorscale": [
             [
              0,
              "#0d0887"
             ],
             [
              0.1111111111111111,
              "#46039f"
             ],
             [
              0.2222222222222222,
              "#7201a8"
             ],
             [
              0.3333333333333333,
              "#9c179e"
             ],
             [
              0.4444444444444444,
              "#bd3786"
             ],
             [
              0.5555555555555556,
              "#d8576b"
             ],
             [
              0.6666666666666666,
              "#ed7953"
             ],
             [
              0.7777777777777778,
              "#fb9f3a"
             ],
             [
              0.8888888888888888,
              "#fdca26"
             ],
             [
              1,
              "#f0f921"
             ]
            ],
            "type": "heatmap"
           }
          ],
          "heatmapgl": [
           {
            "colorbar": {
             "outlinewidth": 0,
             "ticks": ""
            },
            "colorscale": [
             [
              0,
              "#0d0887"
             ],
             [
              0.1111111111111111,
              "#46039f"
             ],
             [
              0.2222222222222222,
              "#7201a8"
             ],
             [
              0.3333333333333333,
              "#9c179e"
             ],
             [
              0.4444444444444444,
              "#bd3786"
             ],
             [
              0.5555555555555556,
              "#d8576b"
             ],
             [
              0.6666666666666666,
              "#ed7953"
             ],
             [
              0.7777777777777778,
              "#fb9f3a"
             ],
             [
              0.8888888888888888,
              "#fdca26"
             ],
             [
              1,
              "#f0f921"
             ]
            ],
            "type": "heatmapgl"
           }
          ],
          "histogram": [
           {
            "marker": {
             "pattern": {
              "fillmode": "overlay",
              "size": 10,
              "solidity": 0.2
             }
            },
            "type": "histogram"
           }
          ],
          "histogram2d": [
           {
            "colorbar": {
             "outlinewidth": 0,
             "ticks": ""
            },
            "colorscale": [
             [
              0,
              "#0d0887"
             ],
             [
              0.1111111111111111,
              "#46039f"
             ],
             [
              0.2222222222222222,
              "#7201a8"
             ],
             [
              0.3333333333333333,
              "#9c179e"
             ],
             [
              0.4444444444444444,
              "#bd3786"
             ],
             [
              0.5555555555555556,
              "#d8576b"
             ],
             [
              0.6666666666666666,
              "#ed7953"
             ],
             [
              0.7777777777777778,
              "#fb9f3a"
             ],
             [
              0.8888888888888888,
              "#fdca26"
             ],
             [
              1,
              "#f0f921"
             ]
            ],
            "type": "histogram2d"
           }
          ],
          "histogram2dcontour": [
           {
            "colorbar": {
             "outlinewidth": 0,
             "ticks": ""
            },
            "colorscale": [
             [
              0,
              "#0d0887"
             ],
             [
              0.1111111111111111,
              "#46039f"
             ],
             [
              0.2222222222222222,
              "#7201a8"
             ],
             [
              0.3333333333333333,
              "#9c179e"
             ],
             [
              0.4444444444444444,
              "#bd3786"
             ],
             [
              0.5555555555555556,
              "#d8576b"
             ],
             [
              0.6666666666666666,
              "#ed7953"
             ],
             [
              0.7777777777777778,
              "#fb9f3a"
             ],
             [
              0.8888888888888888,
              "#fdca26"
             ],
             [
              1,
              "#f0f921"
             ]
            ],
            "type": "histogram2dcontour"
           }
          ],
          "mesh3d": [
           {
            "colorbar": {
             "outlinewidth": 0,
             "ticks": ""
            },
            "type": "mesh3d"
           }
          ],
          "parcoords": [
           {
            "line": {
             "colorbar": {
              "outlinewidth": 0,
              "ticks": ""
             }
            },
            "type": "parcoords"
           }
          ],
          "pie": [
           {
            "automargin": true,
            "type": "pie"
           }
          ],
          "scatter": [
           {
            "fillpattern": {
             "fillmode": "overlay",
             "size": 10,
             "solidity": 0.2
            },
            "type": "scatter"
           }
          ],
          "scatter3d": [
           {
            "line": {
             "colorbar": {
              "outlinewidth": 0,
              "ticks": ""
             }
            },
            "marker": {
             "colorbar": {
              "outlinewidth": 0,
              "ticks": ""
             }
            },
            "type": "scatter3d"
           }
          ],
          "scattercarpet": [
           {
            "marker": {
             "colorbar": {
              "outlinewidth": 0,
              "ticks": ""
             }
            },
            "type": "scattercarpet"
           }
          ],
          "scattergeo": [
           {
            "marker": {
             "colorbar": {
              "outlinewidth": 0,
              "ticks": ""
             }
            },
            "type": "scattergeo"
           }
          ],
          "scattergl": [
           {
            "marker": {
             "colorbar": {
              "outlinewidth": 0,
              "ticks": ""
             }
            },
            "type": "scattergl"
           }
          ],
          "scattermapbox": [
           {
            "marker": {
             "colorbar": {
              "outlinewidth": 0,
              "ticks": ""
             }
            },
            "type": "scattermapbox"
           }
          ],
          "scatterpolar": [
           {
            "marker": {
             "colorbar": {
              "outlinewidth": 0,
              "ticks": ""
             }
            },
            "type": "scatterpolar"
           }
          ],
          "scatterpolargl": [
           {
            "marker": {
             "colorbar": {
              "outlinewidth": 0,
              "ticks": ""
             }
            },
            "type": "scatterpolargl"
           }
          ],
          "scatterternary": [
           {
            "marker": {
             "colorbar": {
              "outlinewidth": 0,
              "ticks": ""
             }
            },
            "type": "scatterternary"
           }
          ],
          "surface": [
           {
            "colorbar": {
             "outlinewidth": 0,
             "ticks": ""
            },
            "colorscale": [
             [
              0,
              "#0d0887"
             ],
             [
              0.1111111111111111,
              "#46039f"
             ],
             [
              0.2222222222222222,
              "#7201a8"
             ],
             [
              0.3333333333333333,
              "#9c179e"
             ],
             [
              0.4444444444444444,
              "#bd3786"
             ],
             [
              0.5555555555555556,
              "#d8576b"
             ],
             [
              0.6666666666666666,
              "#ed7953"
             ],
             [
              0.7777777777777778,
              "#fb9f3a"
             ],
             [
              0.8888888888888888,
              "#fdca26"
             ],
             [
              1,
              "#f0f921"
             ]
            ],
            "type": "surface"
           }
          ],
          "table": [
           {
            "cells": {
             "fill": {
              "color": "#EBF0F8"
             },
             "line": {
              "color": "white"
             }
            },
            "header": {
             "fill": {
              "color": "#C8D4E3"
             },
             "line": {
              "color": "white"
             }
            },
            "type": "table"
           }
          ]
         },
         "layout": {
          "annotationdefaults": {
           "arrowcolor": "#2a3f5f",
           "arrowhead": 0,
           "arrowwidth": 1
          },
          "autotypenumbers": "strict",
          "coloraxis": {
           "colorbar": {
            "outlinewidth": 0,
            "ticks": ""
           }
          },
          "colorscale": {
           "diverging": [
            [
             0,
             "#8e0152"
            ],
            [
             0.1,
             "#c51b7d"
            ],
            [
             0.2,
             "#de77ae"
            ],
            [
             0.3,
             "#f1b6da"
            ],
            [
             0.4,
             "#fde0ef"
            ],
            [
             0.5,
             "#f7f7f7"
            ],
            [
             0.6,
             "#e6f5d0"
            ],
            [
             0.7,
             "#b8e186"
            ],
            [
             0.8,
             "#7fbc41"
            ],
            [
             0.9,
             "#4d9221"
            ],
            [
             1,
             "#276419"
            ]
           ],
           "sequential": [
            [
             0,
             "#0d0887"
            ],
            [
             0.1111111111111111,
             "#46039f"
            ],
            [
             0.2222222222222222,
             "#7201a8"
            ],
            [
             0.3333333333333333,
             "#9c179e"
            ],
            [
             0.4444444444444444,
             "#bd3786"
            ],
            [
             0.5555555555555556,
             "#d8576b"
            ],
            [
             0.6666666666666666,
             "#ed7953"
            ],
            [
             0.7777777777777778,
             "#fb9f3a"
            ],
            [
             0.8888888888888888,
             "#fdca26"
            ],
            [
             1,
             "#f0f921"
            ]
           ],
           "sequentialminus": [
            [
             0,
             "#0d0887"
            ],
            [
             0.1111111111111111,
             "#46039f"
            ],
            [
             0.2222222222222222,
             "#7201a8"
            ],
            [
             0.3333333333333333,
             "#9c179e"
            ],
            [
             0.4444444444444444,
             "#bd3786"
            ],
            [
             0.5555555555555556,
             "#d8576b"
            ],
            [
             0.6666666666666666,
             "#ed7953"
            ],
            [
             0.7777777777777778,
             "#fb9f3a"
            ],
            [
             0.8888888888888888,
             "#fdca26"
            ],
            [
             1,
             "#f0f921"
            ]
           ]
          },
          "colorway": [
           "#636efa",
           "#EF553B",
           "#00cc96",
           "#ab63fa",
           "#FFA15A",
           "#19d3f3",
           "#FF6692",
           "#B6E880",
           "#FF97FF",
           "#FECB52"
          ],
          "font": {
           "color": "#2a3f5f"
          },
          "geo": {
           "bgcolor": "white",
           "lakecolor": "white",
           "landcolor": "#E5ECF6",
           "showlakes": true,
           "showland": true,
           "subunitcolor": "white"
          },
          "hoverlabel": {
           "align": "left"
          },
          "hovermode": "closest",
          "mapbox": {
           "style": "light"
          },
          "paper_bgcolor": "white",
          "plot_bgcolor": "#E5ECF6",
          "polar": {
           "angularaxis": {
            "gridcolor": "white",
            "linecolor": "white",
            "ticks": ""
           },
           "bgcolor": "#E5ECF6",
           "radialaxis": {
            "gridcolor": "white",
            "linecolor": "white",
            "ticks": ""
           }
          },
          "scene": {
           "xaxis": {
            "backgroundcolor": "#E5ECF6",
            "gridcolor": "white",
            "gridwidth": 2,
            "linecolor": "white",
            "showbackground": true,
            "ticks": "",
            "zerolinecolor": "white"
           },
           "yaxis": {
            "backgroundcolor": "#E5ECF6",
            "gridcolor": "white",
            "gridwidth": 2,
            "linecolor": "white",
            "showbackground": true,
            "ticks": "",
            "zerolinecolor": "white"
           },
           "zaxis": {
            "backgroundcolor": "#E5ECF6",
            "gridcolor": "white",
            "gridwidth": 2,
            "linecolor": "white",
            "showbackground": true,
            "ticks": "",
            "zerolinecolor": "white"
           }
          },
          "shapedefaults": {
           "line": {
            "color": "#2a3f5f"
           }
          },
          "ternary": {
           "aaxis": {
            "gridcolor": "white",
            "linecolor": "white",
            "ticks": ""
           },
           "baxis": {
            "gridcolor": "white",
            "linecolor": "white",
            "ticks": ""
           },
           "bgcolor": "#E5ECF6",
           "caxis": {
            "gridcolor": "white",
            "linecolor": "white",
            "ticks": ""
           }
          },
          "title": {
           "x": 0.05
          },
          "xaxis": {
           "automargin": true,
           "gridcolor": "white",
           "linecolor": "white",
           "ticks": "",
           "title": {
            "standoff": 15
           },
           "zerolinecolor": "white",
           "zerolinewidth": 2
          },
          "yaxis": {
           "automargin": true,
           "gridcolor": "white",
           "linecolor": "white",
           "ticks": "",
           "title": {
            "standoff": 15
           },
           "zerolinecolor": "white",
           "zerolinewidth": 2
          }
         }
        },
        "title": {
         "text": "Empirical Distribution of the Mean Differences in Outage Durations (Severe Weather - Non-Severe Weather)"
        },
        "xaxis": {
         "anchor": "y",
         "domain": [
          0,
          1
         ],
         "range": [
          -3000,
          3000
         ],
         "title": {
          "text": "0"
         }
        },
        "yaxis": {
         "anchor": "x",
         "domain": [
          0,
          1
         ],
         "title": {
          "text": "probability"
         }
        }
       }
      }
     },
     "metadata": {},
     "output_type": "display_data"
    }
   ],
   "source": [
    "fig = px.histogram(pd.DataFrame(differences), x=0, nbins=50, histnorm='probability', \n",
    "                   title='Empirical Distribution of the Mean Differences in Outage Durations (Severe Weather - Non-Severe Weather)')\n",
    "fig.add_vline(x=observed_difference, line_color='red')\n",
    "fig.update_layout(xaxis_range=[-3000, 3000])"
   ]
  },
  {
   "cell_type": "code",
   "execution_count": null,
   "metadata": {},
   "outputs": [],
   "source": [
    "fig.write_html('permutation-test.html', include_plotlyjs='cdn')"
   ]
  }
 ],
 "metadata": {
  "kernelspec": {
   "display_name": "Python 3 (ipykernel)",
   "language": "python",
   "name": "python3"
  },
  "language_info": {
   "codemirror_mode": {
    "name": "ipython",
    "version": 3
   },
   "file_extension": ".py",
   "mimetype": "text/x-python",
   "name": "python",
   "nbconvert_exporter": "python",
   "pygments_lexer": "ipython3",
   "version": "3.8.16"
  }
 },
 "nbformat": 4,
 "nbformat_minor": 2
}
